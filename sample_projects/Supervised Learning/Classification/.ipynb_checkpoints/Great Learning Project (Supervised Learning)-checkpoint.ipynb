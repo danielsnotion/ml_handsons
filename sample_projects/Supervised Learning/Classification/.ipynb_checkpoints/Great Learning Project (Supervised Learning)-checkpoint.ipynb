{
 "cells": [
  {
   "cell_type": "markdown",
   "id": "52f97e61",
   "metadata": {},
   "source": [
    "# Great Learning Project - Supervised Learning"
   ]
  },
  {
   "cell_type": "markdown",
   "id": "8d8415a3",
   "metadata": {},
   "source": [
    "## 1. Univariate Analysis"
   ]
  },
  {
   "cell_type": "markdown",
   "id": "b546bc89",
   "metadata": {},
   "source": [
    "#### A.Import and Read ‘Telecom Churn Data.csv’."
   ]
  },
  {
   "cell_type": "code",
   "execution_count": 1,
   "id": "10097ec2",
   "metadata": {},
   "outputs": [],
   "source": [
    "import pandas as pd\n",
    "import seaborn as sns\n",
    "import matplotlib.pyplot as plt\n",
    "%matplotlib inline"
   ]
  },
  {
   "cell_type": "code",
   "execution_count": 2,
   "id": "006c45be",
   "metadata": {},
   "outputs": [],
   "source": [
    "df=pd.read_csv('../../data/Telecom+Churn+Data+SingTel+(2).csv')"
   ]
  },
  {
   "cell_type": "code",
   "execution_count": 3,
   "id": "696b52d2",
   "metadata": {},
   "outputs": [
    {
     "data": {
      "text/html": [
       "<div>\n",
       "<style scoped>\n",
       "    .dataframe tbody tr th:only-of-type {\n",
       "        vertical-align: middle;\n",
       "    }\n",
       "\n",
       "    .dataframe tbody tr th {\n",
       "        vertical-align: top;\n",
       "    }\n",
       "\n",
       "    .dataframe thead th {\n",
       "        text-align: right;\n",
       "    }\n",
       "</style>\n",
       "<table border=\"1\" class=\"dataframe\">\n",
       "  <thead>\n",
       "    <tr style=\"text-align: right;\">\n",
       "      <th></th>\n",
       "      <th>State</th>\n",
       "      <th>Account Length</th>\n",
       "      <th>Area Code</th>\n",
       "      <th>Phone Number</th>\n",
       "      <th>International Plan</th>\n",
       "      <th>Voice mail Plan</th>\n",
       "      <th>Num of Voice mail Messages</th>\n",
       "      <th>Total Day Minutes</th>\n",
       "      <th>Total Day Calls</th>\n",
       "      <th>Total day Charge</th>\n",
       "      <th>...</th>\n",
       "      <th>Total Eve Calls</th>\n",
       "      <th>Total Eve Charge</th>\n",
       "      <th>Total Night Minutes</th>\n",
       "      <th>Total Night Calls</th>\n",
       "      <th>Total Night Charge</th>\n",
       "      <th>Total International Minutes</th>\n",
       "      <th>Total Intl  Calls</th>\n",
       "      <th>Total Intl Charge</th>\n",
       "      <th>Number Customer Service calls</th>\n",
       "      <th>Churn</th>\n",
       "    </tr>\n",
       "  </thead>\n",
       "  <tbody>\n",
       "    <tr>\n",
       "      <th>0</th>\n",
       "      <td>KS</td>\n",
       "      <td>128</td>\n",
       "      <td>415</td>\n",
       "      <td>382-4657</td>\n",
       "      <td>no</td>\n",
       "      <td>yes</td>\n",
       "      <td>25</td>\n",
       "      <td>265.1</td>\n",
       "      <td>110</td>\n",
       "      <td>45.07</td>\n",
       "      <td>...</td>\n",
       "      <td>99</td>\n",
       "      <td>16.78</td>\n",
       "      <td>244.7</td>\n",
       "      <td>91</td>\n",
       "      <td>11.01</td>\n",
       "      <td>10.0</td>\n",
       "      <td>3</td>\n",
       "      <td>2.70</td>\n",
       "      <td>1</td>\n",
       "      <td>False.</td>\n",
       "    </tr>\n",
       "    <tr>\n",
       "      <th>1</th>\n",
       "      <td>OH</td>\n",
       "      <td>107</td>\n",
       "      <td>415</td>\n",
       "      <td>371-7191</td>\n",
       "      <td>no</td>\n",
       "      <td>yes</td>\n",
       "      <td>26</td>\n",
       "      <td>161.6</td>\n",
       "      <td>123</td>\n",
       "      <td>27.47</td>\n",
       "      <td>...</td>\n",
       "      <td>103</td>\n",
       "      <td>16.62</td>\n",
       "      <td>254.4</td>\n",
       "      <td>103</td>\n",
       "      <td>11.45</td>\n",
       "      <td>13.7</td>\n",
       "      <td>3</td>\n",
       "      <td>3.70</td>\n",
       "      <td>1</td>\n",
       "      <td>False.</td>\n",
       "    </tr>\n",
       "    <tr>\n",
       "      <th>2</th>\n",
       "      <td>NJ</td>\n",
       "      <td>137</td>\n",
       "      <td>415</td>\n",
       "      <td>358-1921</td>\n",
       "      <td>no</td>\n",
       "      <td>no</td>\n",
       "      <td>0</td>\n",
       "      <td>243.4</td>\n",
       "      <td>114</td>\n",
       "      <td>41.38</td>\n",
       "      <td>...</td>\n",
       "      <td>110</td>\n",
       "      <td>10.30</td>\n",
       "      <td>162.6</td>\n",
       "      <td>104</td>\n",
       "      <td>7.32</td>\n",
       "      <td>12.2</td>\n",
       "      <td>5</td>\n",
       "      <td>3.29</td>\n",
       "      <td>0</td>\n",
       "      <td>False.</td>\n",
       "    </tr>\n",
       "    <tr>\n",
       "      <th>3</th>\n",
       "      <td>OH</td>\n",
       "      <td>84</td>\n",
       "      <td>408</td>\n",
       "      <td>375-9999</td>\n",
       "      <td>yes</td>\n",
       "      <td>no</td>\n",
       "      <td>0</td>\n",
       "      <td>299.4</td>\n",
       "      <td>71</td>\n",
       "      <td>50.90</td>\n",
       "      <td>...</td>\n",
       "      <td>88</td>\n",
       "      <td>5.26</td>\n",
       "      <td>196.9</td>\n",
       "      <td>89</td>\n",
       "      <td>8.86</td>\n",
       "      <td>6.6</td>\n",
       "      <td>7</td>\n",
       "      <td>1.78</td>\n",
       "      <td>2</td>\n",
       "      <td>False.</td>\n",
       "    </tr>\n",
       "  </tbody>\n",
       "</table>\n",
       "<p>4 rows × 21 columns</p>\n",
       "</div>"
      ],
      "text/plain": [
       "  State  Account Length  Area Code Phone Number International Plan  \\\n",
       "0    KS             128        415     382-4657                 no   \n",
       "1    OH             107        415     371-7191                 no   \n",
       "2    NJ             137        415     358-1921                 no   \n",
       "3    OH              84        408     375-9999                yes   \n",
       "\n",
       "  Voice mail Plan  Num of Voice mail Messages  Total Day Minutes  \\\n",
       "0             yes                          25              265.1   \n",
       "1             yes                          26              161.6   \n",
       "2              no                           0              243.4   \n",
       "3              no                           0              299.4   \n",
       "\n",
       "   Total Day Calls  Total day Charge  ...  Total Eve Calls  Total Eve Charge  \\\n",
       "0              110             45.07  ...               99             16.78   \n",
       "1              123             27.47  ...              103             16.62   \n",
       "2              114             41.38  ...              110             10.30   \n",
       "3               71             50.90  ...               88              5.26   \n",
       "\n",
       "   Total Night Minutes  Total Night Calls   Total Night Charge  \\\n",
       "0                244.7                  91               11.01   \n",
       "1                254.4                 103               11.45   \n",
       "2                162.6                 104                7.32   \n",
       "3                196.9                  89                8.86   \n",
       "\n",
       "   Total International Minutes  Total Intl  Calls  Total Intl Charge  \\\n",
       "0                         10.0                  3               2.70   \n",
       "1                         13.7                  3               3.70   \n",
       "2                         12.2                  5               3.29   \n",
       "3                          6.6                  7               1.78   \n",
       "\n",
       "   Number Customer Service calls     Churn  \n",
       "0                               1   False.  \n",
       "1                               1   False.  \n",
       "2                               0   False.  \n",
       "3                               2   False.  \n",
       "\n",
       "[4 rows x 21 columns]"
      ]
     },
     "execution_count": 3,
     "metadata": {},
     "output_type": "execute_result"
    }
   ],
   "source": [
    "df.head(4)"
   ]
  },
  {
   "cell_type": "markdown",
   "id": "20648a8e",
   "metadata": {},
   "source": [
    "####  B.Check the target variable. State whether the data is imbalance or balance."
   ]
  },
  {
   "cell_type": "code",
   "execution_count": 4,
   "id": "6c37ffb6",
   "metadata": {},
   "outputs": [
    {
     "data": {
      "text/plain": [
       "<AxesSubplot:>"
      ]
     },
     "execution_count": 4,
     "metadata": {},
     "output_type": "execute_result"
    },
    {
     "data": {
      "image/png": "[encoded data removed]",
      "text/plain": [
       "<Figure size 640x480 with 1 Axes>"
      ]
     },
     "metadata": {},
     "output_type": "display_data"
    }
   ],
   "source": [
    "df['Churn'].hist()"
   ]
  },
  {
   "cell_type": "code",
   "execution_count": 5,
   "id": "130e6891",
   "metadata": {},
   "outputs": [
    {
     "data": {
      "text/plain": [
       " False.    4293\n",
       " True.      707\n",
       "Name: Churn, dtype: int64"
      ]
     },
     "execution_count": 5,
     "metadata": {},
     "output_type": "execute_result"
    }
   ],
   "source": [
    "df['Churn'].value_counts()"
   ]
  },
  {
   "cell_type": "markdown",
   "id": "d8e56be1",
   "metadata": {},
   "source": [
    "Imbalanced Dataset.More observation for \"False\".\n",
    "There are 2 unique values\n",
    "False.-> 4293\n",
    "True. -> 707"
   ]
  },
  {
   "cell_type": "markdown",
   "id": "43a2b063",
   "metadata": {},
   "source": [
    "#### C. Check the distribution of Total international Calls and share insights for the same"
   ]
  },
  {
   "cell_type": "code",
   "execution_count": 6,
   "id": "67c4988a",
   "metadata": {},
   "outputs": [
    {
     "name": "stdout",
     "output_type": "stream",
     "text": [
      "<class 'pandas.core.frame.DataFrame'>\n",
      "RangeIndex: 5000 entries, 0 to 4999\n",
      "Data columns (total 21 columns):\n",
      " #   Column                          Non-Null Count  Dtype  \n",
      "---  ------                          --------------  -----  \n",
      " 0   State                           5000 non-null   object \n",
      " 1   Account Length                  5000 non-null   int64  \n",
      " 2   Area Code                       5000 non-null   int64  \n",
      " 3   Phone Number                    5000 non-null   object \n",
      " 4   International Plan              5000 non-null   object \n",
      " 5   Voice mail Plan                 5000 non-null   object \n",
      " 6   Num of Voice mail Messages      5000 non-null   int64  \n",
      " 7   Total Day Minutes               5000 non-null   float64\n",
      " 8   Total Day Calls                 5000 non-null   int64  \n",
      " 9   Total day Charge                5000 non-null   float64\n",
      " 10  Total Eve Minutes               5000 non-null   float64\n",
      " 11  Total Eve Calls                 5000 non-null   int64  \n",
      " 12  Total Eve Charge                5000 non-null   float64\n",
      " 13  Total Night Minutes             5000 non-null   float64\n",
      " 14  Total Night Calls               5000 non-null   int64  \n",
      " 15  Total Night Charge              5000 non-null   float64\n",
      " 16  Total International Minutes     5000 non-null   float64\n",
      " 17  Total Intl  Calls               5000 non-null   int64  \n",
      " 18  Total Intl Charge               5000 non-null   float64\n",
      " 19  Number Customer Service calls   5000 non-null   int64  \n",
      " 20  Churn                           5000 non-null   object \n",
      "dtypes: float64(8), int64(8), object(5)\n",
      "memory usage: 820.4+ KB\n"
     ]
    }
   ],
   "source": [
    "df.info()"
   ]
  },
  {
   "cell_type": "code",
   "execution_count": 9,
   "id": "798067c2",
   "metadata": {},
   "outputs": [
    {
     "data": {
      "text/plain": [
       "<AxesSubplot:>"
      ]
     },
     "execution_count": 9,
     "metadata": {},
     "output_type": "execute_result"
    },
    {
     "data": {
      "image/png": "[encoded data removed]",
      "text/plain": [
       "<Figure size 640x480 with 1 Axes>"
      ]
     },
     "metadata": {},
     "output_type": "display_data"
    }
   ],
   "source": [
    "df['Total Intl  Calls'].hist(bins=10)"
   ]
  },
  {
   "cell_type": "code",
   "execution_count": 12,
   "id": "e75eb85a",
   "metadata": {},
   "outputs": [
    {
     "name": "stdout",
     "output_type": "stream",
     "text": [
      "Skewness : 1.360692479402265 \n",
      "Kurtosis : 3.2681836469480894 \n"
     ]
    }
   ],
   "source": [
    "print('Skewness : {} '.format(df['Total Intl  Calls'].skew()))\n",
    "print('Kurtosis : {} '.format(df['Total Intl  Calls'].kurtosis()))\n"
   ]
  },
  {
   "cell_type": "markdown",
   "id": "0bfcdc42",
   "metadata": {},
   "source": [
    "Customers with international call counts between 2 and 4 and 4 to 6 seem to be more numerous. As\n",
    "a result, the distribution is not symmetrical, there is skewness in the range of 2 to 6, and I can\n",
    "notice increased Kurtosis.\n",
    "Skewness : 1.361\n",
    "Kurtosis : 3.268"
   ]
  },
  {
   "cell_type": "markdown",
   "id": "fab65e0a",
   "metadata": {},
   "source": [
    "## 2. Bivariate Analysis"
   ]
  },
  {
   "cell_type": "markdown",
   "id": "a0aba7a0",
   "metadata": {},
   "source": [
    "#### A. Study the relationship between International Plan Vs Churn & Churn vs Number of Customer Calls using Bivariate Analysis and state the inference clearly"
   ]
  },
  {
   "cell_type": "markdown",
   "id": "2c83f037",
   "metadata": {},
   "source": [
    "<b> International Plan Vs Churn </b>"
   ]
  },
  {
   "cell_type": "code",
   "execution_count": 26,
   "id": "ac1acbe9",
   "metadata": {},
   "outputs": [
    {
     "data": {
      "text/html": [
       "<div>\n",
       "<style scoped>\n",
       "    .dataframe tbody tr th:only-of-type {\n",
       "        vertical-align: middle;\n",
       "    }\n",
       "\n",
       "    .dataframe tbody tr th {\n",
       "        vertical-align: top;\n",
       "    }\n",
       "\n",
       "    .dataframe thead th {\n",
       "        text-align: right;\n",
       "    }\n",
       "</style>\n",
       "<table border=\"1\" class=\"dataframe\">\n",
       "  <thead>\n",
       "    <tr style=\"text-align: right;\">\n",
       "      <th>Churn</th>\n",
       "      <th>False.</th>\n",
       "      <th>True.</th>\n",
       "      <th>All</th>\n",
       "    </tr>\n",
       "    <tr>\n",
       "      <th>International Plan</th>\n",
       "      <th></th>\n",
       "      <th></th>\n",
       "      <th></th>\n",
       "    </tr>\n",
       "  </thead>\n",
       "  <tbody>\n",
       "    <tr>\n",
       "      <th>no</th>\n",
       "      <td>4019</td>\n",
       "      <td>508</td>\n",
       "      <td>4527</td>\n",
       "    </tr>\n",
       "    <tr>\n",
       "      <th>yes</th>\n",
       "      <td>274</td>\n",
       "      <td>199</td>\n",
       "      <td>473</td>\n",
       "    </tr>\n",
       "    <tr>\n",
       "      <th>All</th>\n",
       "      <td>4293</td>\n",
       "      <td>707</td>\n",
       "      <td>5000</td>\n",
       "    </tr>\n",
       "  </tbody>\n",
       "</table>\n",
       "</div>"
      ],
      "text/plain": [
       "Churn                False.   True.   All\n",
       "International Plan                       \n",
       " no                    4019     508  4527\n",
       " yes                    274     199   473\n",
       "All                    4293     707  5000"
      ]
     },
     "execution_count": 26,
     "metadata": {},
     "output_type": "execute_result"
    }
   ],
   "source": [
    "pd.crosstab(df['International Plan'],df['Churn'],margins=True)"
   ]
  },
  {
   "cell_type": "code",
   "execution_count": 27,
   "id": "b38d5965",
   "metadata": {},
   "outputs": [
    {
     "data": {
      "text/html": [
       "<div>\n",
       "<style scoped>\n",
       "    .dataframe tbody tr th:only-of-type {\n",
       "        vertical-align: middle;\n",
       "    }\n",
       "\n",
       "    .dataframe tbody tr th {\n",
       "        vertical-align: top;\n",
       "    }\n",
       "\n",
       "    .dataframe thead th {\n",
       "        text-align: right;\n",
       "    }\n",
       "</style>\n",
       "<table border=\"1\" class=\"dataframe\">\n",
       "  <thead>\n",
       "    <tr style=\"text-align: right;\">\n",
       "      <th>Churn</th>\n",
       "      <th>False.</th>\n",
       "      <th>True.</th>\n",
       "      <th>All</th>\n",
       "    </tr>\n",
       "    <tr>\n",
       "      <th>International Plan</th>\n",
       "      <th></th>\n",
       "      <th></th>\n",
       "      <th></th>\n",
       "    </tr>\n",
       "  </thead>\n",
       "  <tbody>\n",
       "    <tr>\n",
       "      <th>no</th>\n",
       "      <td>0.8038</td>\n",
       "      <td>0.1016</td>\n",
       "      <td>0.9054</td>\n",
       "    </tr>\n",
       "    <tr>\n",
       "      <th>yes</th>\n",
       "      <td>0.0548</td>\n",
       "      <td>0.0398</td>\n",
       "      <td>0.0946</td>\n",
       "    </tr>\n",
       "    <tr>\n",
       "      <th>All</th>\n",
       "      <td>0.8586</td>\n",
       "      <td>0.1414</td>\n",
       "      <td>1.0000</td>\n",
       "    </tr>\n",
       "  </tbody>\n",
       "</table>\n",
       "</div>"
      ],
      "text/plain": [
       "Churn                False.   True.     All\n",
       "International Plan                         \n",
       " no                  0.8038  0.1016  0.9054\n",
       " yes                 0.0548  0.0398  0.0946\n",
       "All                  0.8586  0.1414  1.0000"
      ]
     },
     "execution_count": 27,
     "metadata": {},
     "output_type": "execute_result"
    }
   ],
   "source": [
    "pd.crosstab(df['International Plan'],df['Churn'],margins=True,normalize=True)"
   ]
  },
  {
   "cell_type": "markdown",
   "id": "a638ad96",
   "metadata": {},
   "source": [
    "There are 473 customers that have chosen the international plan overall, and 199 of them churned\n",
    "out, representing a 42.07% churn rate and 3.98% of all the customers. There are 4527 customers\n",
    "overall without an international plan.508 customers have churned out, representing 11.22% churn\n",
    "rate and 10.16% of all customers.\n",
    "Therefore, I draw the conclusion that clients who have the International Plan activated are more\n",
    "likely to leave."
   ]
  },
  {
   "cell_type": "markdown",
   "id": "8b90e00b",
   "metadata": {},
   "source": [
    "<b> Churn vs Number of Customer Calls </b>"
   ]
  },
  {
   "cell_type": "code",
   "execution_count": 37,
   "id": "43b00312",
   "metadata": {},
   "outputs": [
    {
     "data": {
      "text/html": [
       "<div>\n",
       "<style scoped>\n",
       "    .dataframe tbody tr th:only-of-type {\n",
       "        vertical-align: middle;\n",
       "    }\n",
       "\n",
       "    .dataframe tbody tr th {\n",
       "        vertical-align: top;\n",
       "    }\n",
       "\n",
       "    .dataframe thead th {\n",
       "        text-align: right;\n",
       "    }\n",
       "</style>\n",
       "<table border=\"1\" class=\"dataframe\">\n",
       "  <thead>\n",
       "    <tr style=\"text-align: right;\">\n",
       "      <th>Number Customer Service calls</th>\n",
       "      <th>0</th>\n",
       "      <th>1</th>\n",
       "      <th>2</th>\n",
       "      <th>3</th>\n",
       "      <th>4</th>\n",
       "      <th>5</th>\n",
       "      <th>6</th>\n",
       "      <th>7</th>\n",
       "      <th>8</th>\n",
       "      <th>9</th>\n",
       "      <th>All</th>\n",
       "    </tr>\n",
       "    <tr>\n",
       "      <th>Churn</th>\n",
       "      <th></th>\n",
       "      <th></th>\n",
       "      <th></th>\n",
       "      <th></th>\n",
       "      <th></th>\n",
       "      <th></th>\n",
       "      <th></th>\n",
       "      <th></th>\n",
       "      <th></th>\n",
       "      <th></th>\n",
       "      <th></th>\n",
       "    </tr>\n",
       "  </thead>\n",
       "  <tbody>\n",
       "    <tr>\n",
       "      <th>False.</th>\n",
       "      <td>0.1804</td>\n",
       "      <td>0.3192</td>\n",
       "      <td>0.2010</td>\n",
       "      <td>0.1184</td>\n",
       "      <td>0.0282</td>\n",
       "      <td>0.0076</td>\n",
       "      <td>0.0024</td>\n",
       "      <td>0.0012</td>\n",
       "      <td>0.0002</td>\n",
       "      <td>0.0000</td>\n",
       "      <td>0.8586</td>\n",
       "    </tr>\n",
       "    <tr>\n",
       "      <th>True.</th>\n",
       "      <td>0.0242</td>\n",
       "      <td>0.0380</td>\n",
       "      <td>0.0244</td>\n",
       "      <td>0.0146</td>\n",
       "      <td>0.0222</td>\n",
       "      <td>0.0116</td>\n",
       "      <td>0.0044</td>\n",
       "      <td>0.0014</td>\n",
       "      <td>0.0002</td>\n",
       "      <td>0.0004</td>\n",
       "      <td>0.1414</td>\n",
       "    </tr>\n",
       "    <tr>\n",
       "      <th>All</th>\n",
       "      <td>0.2046</td>\n",
       "      <td>0.3572</td>\n",
       "      <td>0.2254</td>\n",
       "      <td>0.1330</td>\n",
       "      <td>0.0504</td>\n",
       "      <td>0.0192</td>\n",
       "      <td>0.0068</td>\n",
       "      <td>0.0026</td>\n",
       "      <td>0.0004</td>\n",
       "      <td>0.0004</td>\n",
       "      <td>1.0000</td>\n",
       "    </tr>\n",
       "  </tbody>\n",
       "</table>\n",
       "</div>"
      ],
      "text/plain": [
       "Number Customer Service calls        0       1       2       3       4  \\\n",
       "Churn                                                                    \n",
       " False.                         0.1804  0.3192  0.2010  0.1184  0.0282   \n",
       " True.                          0.0242  0.0380  0.0244  0.0146  0.0222   \n",
       "All                             0.2046  0.3572  0.2254  0.1330  0.0504   \n",
       "\n",
       "Number Customer Service calls        5       6       7       8       9     All  \n",
       "Churn                                                                           \n",
       " False.                         0.0076  0.0024  0.0012  0.0002  0.0000  0.8586  \n",
       " True.                          0.0116  0.0044  0.0014  0.0002  0.0004  0.1414  \n",
       "All                             0.0192  0.0068  0.0026  0.0004  0.0004  1.0000  "
      ]
     },
     "execution_count": 37,
     "metadata": {},
     "output_type": "execute_result"
    }
   ],
   "source": [
    "pd.crosstab(df['Churn'],df['Number Customer Service calls '],margins=True)\n",
    "pd.crosstab(df['Churn'],df['Number Customer Service calls '],margins=True,normalize=True)"
   ]
  },
  {
   "cell_type": "code",
   "execution_count": null,
   "id": "28e8256a",
   "metadata": {},
   "outputs": [],
   "source": []
  }
 ],
 "metadata": {
  "kernelspec": {
   "display_name": "Python 3 (ipykernel)",
   "language": "python",
   "name": "python3"
  },
  "language_info": {
   "codemirror_mode": {
    "name": "ipython",
    "version": 3
   },
   "file_extension": ".py",
   "mimetype": "text/x-python",
   "name": "python",
   "nbconvert_exporter": "python",
   "pygments_lexer": "ipython3",
   "version": "3.9.13"
  }
 },
 "nbformat": 4,
 "nbformat_minor": 5
}
