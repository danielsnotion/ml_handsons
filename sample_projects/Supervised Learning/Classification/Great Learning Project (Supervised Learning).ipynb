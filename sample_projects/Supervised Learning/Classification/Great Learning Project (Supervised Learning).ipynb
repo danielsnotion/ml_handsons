{
 "cells": [
  {
   "cell_type": "markdown",
   "id": "1aa4e8ea",
   "metadata": {},
   "source": [
    "# Great Learning Project - Supervised Learning"
   ]
  },
  {
   "cell_type": "markdown",
   "id": "25170681",
   "metadata": {},
   "source": [
    "## 1. Univariate Analysis"
   ]
  },
  {
   "cell_type": "markdown",
   "id": "24d15cf4",
   "metadata": {},
   "source": [
    "#### A.Import and Read ‘Telecom Churn Data.csv’."
   ]
  },
  {
   "cell_type": "code",
   "execution_count": 1,
   "id": "997092dc",
   "metadata": {},
   "outputs": [],
   "source": [
    "import pandas as pd\n",
    "import seaborn as sns\n",
    "import matplotlib.pyplot as plt\n",
    "%matplotlib inline"
   ]
  },
  {
   "cell_type": "code",
   "execution_count": 2,
   "id": "76836c5a",
   "metadata": {},
   "outputs": [],
   "source": [
    "df=pd.read_csv('../../data/Telecom+Churn+Data+SingTel+(2).csv')"
   ]
  },
  {
   "cell_type": "code",
   "execution_count": 3,
   "id": "c9aca5b2",
   "metadata": {},
   "outputs": [
    {
     "data": {
      "text/html": [
       "<div>\n",
       "<style scoped>\n",
       "    .dataframe tbody tr th:only-of-type {\n",
       "        vertical-align: middle;\n",
       "    }\n",
       "\n",
       "    .dataframe tbody tr th {\n",
       "        vertical-align: top;\n",
       "    }\n",
       "\n",
       "    .dataframe thead th {\n",
       "        text-align: right;\n",
       "    }\n",
       "</style>\n",
       "<table border=\"1\" class=\"dataframe\">\n",
       "  <thead>\n",
       "    <tr style=\"text-align: right;\">\n",
       "      <th></th>\n",
       "      <th>State</th>\n",
       "      <th>Account Length</th>\n",
       "      <th>Area Code</th>\n",
       "      <th>Phone Number</th>\n",
       "      <th>International Plan</th>\n",
       "      <th>Voice mail Plan</th>\n",
       "      <th>Num of Voice mail Messages</th>\n",
       "      <th>Total Day Minutes</th>\n",
       "      <th>Total Day Calls</th>\n",
       "      <th>Total day Charge</th>\n",
       "      <th>...</th>\n",
       "      <th>Total Eve Calls</th>\n",
       "      <th>Total Eve Charge</th>\n",
       "      <th>Total Night Minutes</th>\n",
       "      <th>Total Night Calls</th>\n",
       "      <th>Total Night Charge</th>\n",
       "      <th>Total International Minutes</th>\n",
       "      <th>Total Intl  Calls</th>\n",
       "      <th>Total Intl Charge</th>\n",
       "      <th>Number Customer Service calls</th>\n",
       "      <th>Churn</th>\n",
       "    </tr>\n",
       "  </thead>\n",
       "  <tbody>\n",
       "    <tr>\n",
       "      <th>0</th>\n",
       "      <td>KS</td>\n",
       "      <td>128</td>\n",
       "      <td>415</td>\n",
       "      <td>382-4657</td>\n",
       "      <td>no</td>\n",
       "      <td>yes</td>\n",
       "      <td>25</td>\n",
       "      <td>265.1</td>\n",
       "      <td>110</td>\n",
       "      <td>45.07</td>\n",
       "      <td>...</td>\n",
       "      <td>99</td>\n",
       "      <td>16.78</td>\n",
       "      <td>244.7</td>\n",
       "      <td>91</td>\n",
       "      <td>11.01</td>\n",
       "      <td>10.0</td>\n",
       "      <td>3</td>\n",
       "      <td>2.70</td>\n",
       "      <td>1</td>\n",
       "      <td>False.</td>\n",
       "    </tr>\n",
       "    <tr>\n",
       "      <th>1</th>\n",
       "      <td>OH</td>\n",
       "      <td>107</td>\n",
       "      <td>415</td>\n",
       "      <td>371-7191</td>\n",
       "      <td>no</td>\n",
       "      <td>yes</td>\n",
       "      <td>26</td>\n",
       "      <td>161.6</td>\n",
       "      <td>123</td>\n",
       "      <td>27.47</td>\n",
       "      <td>...</td>\n",
       "      <td>103</td>\n",
       "      <td>16.62</td>\n",
       "      <td>254.4</td>\n",
       "      <td>103</td>\n",
       "      <td>11.45</td>\n",
       "      <td>13.7</td>\n",
       "      <td>3</td>\n",
       "      <td>3.70</td>\n",
       "      <td>1</td>\n",
       "      <td>False.</td>\n",
       "    </tr>\n",
       "    <tr>\n",
       "      <th>2</th>\n",
       "      <td>NJ</td>\n",
       "      <td>137</td>\n",
       "      <td>415</td>\n",
       "      <td>358-1921</td>\n",
       "      <td>no</td>\n",
       "      <td>no</td>\n",
       "      <td>0</td>\n",
       "      <td>243.4</td>\n",
       "      <td>114</td>\n",
       "      <td>41.38</td>\n",
       "      <td>...</td>\n",
       "      <td>110</td>\n",
       "      <td>10.30</td>\n",
       "      <td>162.6</td>\n",
       "      <td>104</td>\n",
       "      <td>7.32</td>\n",
       "      <td>12.2</td>\n",
       "      <td>5</td>\n",
       "      <td>3.29</td>\n",
       "      <td>0</td>\n",
       "      <td>False.</td>\n",
       "    </tr>\n",
       "    <tr>\n",
       "      <th>3</th>\n",
       "      <td>OH</td>\n",
       "      <td>84</td>\n",
       "      <td>408</td>\n",
       "      <td>375-9999</td>\n",
       "      <td>yes</td>\n",
       "      <td>no</td>\n",
       "      <td>0</td>\n",
       "      <td>299.4</td>\n",
       "      <td>71</td>\n",
       "      <td>50.90</td>\n",
       "      <td>...</td>\n",
       "      <td>88</td>\n",
       "      <td>5.26</td>\n",
       "      <td>196.9</td>\n",
       "      <td>89</td>\n",
       "      <td>8.86</td>\n",
       "      <td>6.6</td>\n",
       "      <td>7</td>\n",
       "      <td>1.78</td>\n",
       "      <td>2</td>\n",
       "      <td>False.</td>\n",
       "    </tr>\n",
       "  </tbody>\n",
       "</table>\n",
       "<p>4 rows × 21 columns</p>\n",
       "</div>"
      ],
      "text/plain": [
       "  State  Account Length  Area Code Phone Number International Plan  \\\n",
       "0    KS             128        415     382-4657                 no   \n",
       "1    OH             107        415     371-7191                 no   \n",
       "2    NJ             137        415     358-1921                 no   \n",
       "3    OH              84        408     375-9999                yes   \n",
       "\n",
       "  Voice mail Plan  Num of Voice mail Messages  Total Day Minutes  \\\n",
       "0             yes                          25              265.1   \n",
       "1             yes                          26              161.6   \n",
       "2              no                           0              243.4   \n",
       "3              no                           0              299.4   \n",
       "\n",
       "   Total Day Calls  Total day Charge  ...  Total Eve Calls  Total Eve Charge  \\\n",
       "0              110             45.07  ...               99             16.78   \n",
       "1              123             27.47  ...              103             16.62   \n",
       "2              114             41.38  ...              110             10.30   \n",
       "3               71             50.90  ...               88              5.26   \n",
       "\n",
       "   Total Night Minutes  Total Night Calls   Total Night Charge  \\\n",
       "0                244.7                  91               11.01   \n",
       "1                254.4                 103               11.45   \n",
       "2                162.6                 104                7.32   \n",
       "3                196.9                  89                8.86   \n",
       "\n",
       "   Total International Minutes  Total Intl  Calls  Total Intl Charge  \\\n",
       "0                         10.0                  3               2.70   \n",
       "1                         13.7                  3               3.70   \n",
       "2                         12.2                  5               3.29   \n",
       "3                          6.6                  7               1.78   \n",
       "\n",
       "   Number Customer Service calls     Churn  \n",
       "0                               1   False.  \n",
       "1                               1   False.  \n",
       "2                               0   False.  \n",
       "3                               2   False.  \n",
       "\n",
       "[4 rows x 21 columns]"
      ]
     },
     "execution_count": 3,
     "metadata": {},
     "output_type": "execute_result"
    }
   ],
   "source": [
    "df.head(4)"
   ]
  },
  {
   "cell_type": "markdown",
   "id": "9cff403f",
   "metadata": {},
   "source": [
    "####  B.Check the target variable. State whether the data is imbalance or balance."
   ]
  },
  {
   "cell_type": "code",
   "execution_count": 4,
   "id": "b2b5abaf",
   "metadata": {},
   "outputs": [
    {
     "data": {
      "text/plain": [
       "<AxesSubplot:>"
      ]
     },
     "execution_count": 4,
     "metadata": {},
     "output_type": "execute_result"
    },
    {
     "data": {
      "image/png": "[encoded data removed]",
      "text/plain": [
       "<Figure size 640x480 with 1 Axes>"
      ]
     },
     "metadata": {},
     "output_type": "display_data"
    }
   ],
   "source": [
    "df['Churn'].hist()"
   ]
  },
  {
   "cell_type": "code",
   "execution_count": 5,
   "id": "fece8311",
   "metadata": {},
   "outputs": [
    {
     "data": {
      "text/plain": [
       " False.    4293\n",
       " True.      707\n",
       "Name: Churn, dtype: int64"
      ]
     },
     "execution_count": 5,
     "metadata": {},
     "output_type": "execute_result"
    }
   ],
   "source": [
    "df['Churn'].value_counts()"
   ]
  },
  {
   "cell_type": "markdown",
   "id": "2acff058",
   "metadata": {},
   "source": [
    "Imbalanced Dataset.More observation for \"False\".\n",
    "There are 2 unique values\n",
    "False.-> 4293\n",
    "True. -> 707"
   ]
  },
  {
   "cell_type": "markdown",
   "id": "e4afa8a6",
   "metadata": {},
   "source": [
    "#### C. Check the distribution of Total international Calls and share insights for the same"
   ]
  },
  {
   "cell_type": "code",
   "execution_count": 6,
   "id": "c2647335",
   "metadata": {},
   "outputs": [
    {
     "name": "stdout",
     "output_type": "stream",
     "text": [
      "<class 'pandas.core.frame.DataFrame'>\n",
      "RangeIndex: 5000 entries, 0 to 4999\n",
      "Data columns (total 21 columns):\n",
      " #   Column                          Non-Null Count  Dtype  \n",
      "---  ------                          --------------  -----  \n",
      " 0   State                           5000 non-null   object \n",
      " 1   Account Length                  5000 non-null   int64  \n",
      " 2   Area Code                       5000 non-null   int64  \n",
      " 3   Phone Number                    5000 non-null   object \n",
      " 4   International Plan              5000 non-null   object \n",
      " 5   Voice mail Plan                 5000 non-null   object \n",
      " 6   Num of Voice mail Messages      5000 non-null   int64  \n",
      " 7   Total Day Minutes               5000 non-null   float64\n",
      " 8   Total Day Calls                 5000 non-null   int64  \n",
      " 9   Total day Charge                5000 non-null   float64\n",
      " 10  Total Eve Minutes               5000 non-null   float64\n",
      " 11  Total Eve Calls                 5000 non-null   int64  \n",
      " 12  Total Eve Charge                5000 non-null   float64\n",
      " 13  Total Night Minutes             5000 non-null   float64\n",
      " 14  Total Night Calls               5000 non-null   int64  \n",
      " 15  Total Night Charge              5000 non-null   float64\n",
      " 16  Total International Minutes     5000 non-null   float64\n",
      " 17  Total Intl  Calls               5000 non-null   int64  \n",
      " 18  Total Intl Charge               5000 non-null   float64\n",
      " 19  Number Customer Service calls   5000 non-null   int64  \n",
      " 20  Churn                           5000 non-null   object \n",
      "dtypes: float64(8), int64(8), object(5)\n",
      "memory usage: 820.4+ KB\n"
     ]
    }
   ],
   "source": [
    "df.info()"
   ]
  },
  {
   "cell_type": "code",
   "execution_count": 7,
   "id": "12e94bc6",
   "metadata": {},
   "outputs": [
    {
     "data": {
      "text/plain": [
       "<AxesSubplot:>"
      ]
     },
     "execution_count": 7,
     "metadata": {},
     "output_type": "execute_result"
    },
    {
     "data": {
      "image/png": "[encoded data removed]",
      "text/plain": [
       "<Figure size 640x480 with 1 Axes>"
      ]
     },
     "metadata": {},
     "output_type": "display_data"
    }
   ],
   "source": [
    "df['Total Intl  Calls'].hist(bins=10)"
   ]
  },
  {
   "cell_type": "code",
   "execution_count": 8,
   "id": "ddc7b65a",
   "metadata": {},
   "outputs": [
    {
     "name": "stdout",
     "output_type": "stream",
     "text": [
      "Skewness : 1.360692479402265 \n",
      "Kurtosis : 3.2681836469480894 \n"
     ]
    }
   ],
   "source": [
    "print('Skewness : {} '.format(df['Total Intl  Calls'].skew()))\n",
    "print('Kurtosis : {} '.format(df['Total Intl  Calls'].kurtosis()))\n"
   ]
  },
  {
   "cell_type": "markdown",
   "id": "897af88f",
   "metadata": {},
   "source": [
    "Customers with international call counts between 2 and 4 and 4 to 6 seem to be more numerous. As\n",
    "a result, the distribution is not symmetrical, there is skewness in the range of 2 to 6, and I can\n",
    "notice increased Kurtosis.\n",
    "Skewness : 1.361\n",
    "Kurtosis : 3.268"
   ]
  },
  {
   "cell_type": "markdown",
   "id": "77ebfc3b",
   "metadata": {},
   "source": [
    "## 2. Bivariate Analysis"
   ]
  },
  {
   "cell_type": "markdown",
   "id": "c0f041e0",
   "metadata": {},
   "source": [
    "#### A. Study the relationship between International Plan Vs Churn & Churn vs Number of Customer Calls using Bivariate Analysis and state the inference clearly"
   ]
  },
  {
   "cell_type": "markdown",
   "id": "4f022272",
   "metadata": {},
   "source": [
    "<b> International Plan Vs Churn </b>"
   ]
  },
  {
   "cell_type": "code",
   "execution_count": 9,
   "id": "0eec6518",
   "metadata": {},
   "outputs": [
    {
     "data": {
      "text/html": [
       "<div>\n",
       "<style scoped>\n",
       "    .dataframe tbody tr th:only-of-type {\n",
       "        vertical-align: middle;\n",
       "    }\n",
       "\n",
       "    .dataframe tbody tr th {\n",
       "        vertical-align: top;\n",
       "    }\n",
       "\n",
       "    .dataframe thead th {\n",
       "        text-align: right;\n",
       "    }\n",
       "</style>\n",
       "<table border=\"1\" class=\"dataframe\">\n",
       "  <thead>\n",
       "    <tr style=\"text-align: right;\">\n",
       "      <th>Churn</th>\n",
       "      <th>False.</th>\n",
       "      <th>True.</th>\n",
       "      <th>All</th>\n",
       "    </tr>\n",
       "    <tr>\n",
       "      <th>International Plan</th>\n",
       "      <th></th>\n",
       "      <th></th>\n",
       "      <th></th>\n",
       "    </tr>\n",
       "  </thead>\n",
       "  <tbody>\n",
       "    <tr>\n",
       "      <th>no</th>\n",
       "      <td>4019</td>\n",
       "      <td>508</td>\n",
       "      <td>4527</td>\n",
       "    </tr>\n",
       "    <tr>\n",
       "      <th>yes</th>\n",
       "      <td>274</td>\n",
       "      <td>199</td>\n",
       "      <td>473</td>\n",
       "    </tr>\n",
       "    <tr>\n",
       "      <th>All</th>\n",
       "      <td>4293</td>\n",
       "      <td>707</td>\n",
       "      <td>5000</td>\n",
       "    </tr>\n",
       "  </tbody>\n",
       "</table>\n",
       "</div>"
      ],
      "text/plain": [
       "Churn                False.   True.   All\n",
       "International Plan                       \n",
       " no                    4019     508  4527\n",
       " yes                    274     199   473\n",
       "All                    4293     707  5000"
      ]
     },
     "execution_count": 9,
     "metadata": {},
     "output_type": "execute_result"
    }
   ],
   "source": [
    "pd.crosstab(df['International Plan'],df['Churn'],margins=True)"
   ]
  },
  {
   "cell_type": "code",
   "execution_count": 10,
   "id": "f8a4172b",
   "metadata": {},
   "outputs": [
    {
     "data": {
      "text/html": [
       "<div>\n",
       "<style scoped>\n",
       "    .dataframe tbody tr th:only-of-type {\n",
       "        vertical-align: middle;\n",
       "    }\n",
       "\n",
       "    .dataframe tbody tr th {\n",
       "        vertical-align: top;\n",
       "    }\n",
       "\n",
       "    .dataframe thead th {\n",
       "        text-align: right;\n",
       "    }\n",
       "</style>\n",
       "<table border=\"1\" class=\"dataframe\">\n",
       "  <thead>\n",
       "    <tr style=\"text-align: right;\">\n",
       "      <th>Churn</th>\n",
       "      <th>False.</th>\n",
       "      <th>True.</th>\n",
       "      <th>All</th>\n",
       "    </tr>\n",
       "    <tr>\n",
       "      <th>International Plan</th>\n",
       "      <th></th>\n",
       "      <th></th>\n",
       "      <th></th>\n",
       "    </tr>\n",
       "  </thead>\n",
       "  <tbody>\n",
       "    <tr>\n",
       "      <th>no</th>\n",
       "      <td>0.8038</td>\n",
       "      <td>0.1016</td>\n",
       "      <td>0.9054</td>\n",
       "    </tr>\n",
       "    <tr>\n",
       "      <th>yes</th>\n",
       "      <td>0.0548</td>\n",
       "      <td>0.0398</td>\n",
       "      <td>0.0946</td>\n",
       "    </tr>\n",
       "    <tr>\n",
       "      <th>All</th>\n",
       "      <td>0.8586</td>\n",
       "      <td>0.1414</td>\n",
       "      <td>1.0000</td>\n",
       "    </tr>\n",
       "  </tbody>\n",
       "</table>\n",
       "</div>"
      ],
      "text/plain": [
       "Churn                False.   True.     All\n",
       "International Plan                         \n",
       " no                  0.8038  0.1016  0.9054\n",
       " yes                 0.0548  0.0398  0.0946\n",
       "All                  0.8586  0.1414  1.0000"
      ]
     },
     "execution_count": 10,
     "metadata": {},
     "output_type": "execute_result"
    }
   ],
   "source": [
    "pd.crosstab(df['International Plan'],df['Churn'],margins=True,normalize=True)"
   ]
  },
  {
   "cell_type": "markdown",
   "id": "a4e55a5a",
   "metadata": {},
   "source": [
    "There are 473 customers that have chosen the international plan overall, and 199 of them churned\n",
    "out, representing a 42.07% churn rate and 3.98% of all the customers. There are 4527 customers\n",
    "overall without an international plan.508 customers have churned out, representing 11.22% churn\n",
    "rate and 10.16% of all customers.\n",
    "Therefore, I draw the conclusion that clients who have the International Plan activated are more\n",
    "likely to leave."
   ]
  },
  {
   "cell_type": "markdown",
   "id": "0e1888af",
   "metadata": {},
   "source": [
    "<b> Churn vs Number of Customer Calls </b>"
   ]
  },
  {
   "cell_type": "code",
   "execution_count": 11,
   "id": "93897003",
   "metadata": {},
   "outputs": [
    {
     "data": {
      "text/html": [
       "<div>\n",
       "<style scoped>\n",
       "    .dataframe tbody tr th:only-of-type {\n",
       "        vertical-align: middle;\n",
       "    }\n",
       "\n",
       "    .dataframe tbody tr th {\n",
       "        vertical-align: top;\n",
       "    }\n",
       "\n",
       "    .dataframe thead th {\n",
       "        text-align: right;\n",
       "    }\n",
       "</style>\n",
       "<table border=\"1\" class=\"dataframe\">\n",
       "  <thead>\n",
       "    <tr style=\"text-align: right;\">\n",
       "      <th>Number Customer Service calls</th>\n",
       "      <th>0</th>\n",
       "      <th>1</th>\n",
       "      <th>2</th>\n",
       "      <th>3</th>\n",
       "      <th>4</th>\n",
       "      <th>5</th>\n",
       "      <th>6</th>\n",
       "      <th>7</th>\n",
       "      <th>8</th>\n",
       "      <th>9</th>\n",
       "      <th>All</th>\n",
       "    </tr>\n",
       "    <tr>\n",
       "      <th>Churn</th>\n",
       "      <th></th>\n",
       "      <th></th>\n",
       "      <th></th>\n",
       "      <th></th>\n",
       "      <th></th>\n",
       "      <th></th>\n",
       "      <th></th>\n",
       "      <th></th>\n",
       "      <th></th>\n",
       "      <th></th>\n",
       "      <th></th>\n",
       "    </tr>\n",
       "  </thead>\n",
       "  <tbody>\n",
       "    <tr>\n",
       "      <th>False.</th>\n",
       "      <td>902</td>\n",
       "      <td>1596</td>\n",
       "      <td>1005</td>\n",
       "      <td>592</td>\n",
       "      <td>141</td>\n",
       "      <td>38</td>\n",
       "      <td>12</td>\n",
       "      <td>6</td>\n",
       "      <td>1</td>\n",
       "      <td>0</td>\n",
       "      <td>4293</td>\n",
       "    </tr>\n",
       "    <tr>\n",
       "      <th>True.</th>\n",
       "      <td>121</td>\n",
       "      <td>190</td>\n",
       "      <td>122</td>\n",
       "      <td>73</td>\n",
       "      <td>111</td>\n",
       "      <td>58</td>\n",
       "      <td>22</td>\n",
       "      <td>7</td>\n",
       "      <td>1</td>\n",
       "      <td>2</td>\n",
       "      <td>707</td>\n",
       "    </tr>\n",
       "    <tr>\n",
       "      <th>All</th>\n",
       "      <td>1023</td>\n",
       "      <td>1786</td>\n",
       "      <td>1127</td>\n",
       "      <td>665</td>\n",
       "      <td>252</td>\n",
       "      <td>96</td>\n",
       "      <td>34</td>\n",
       "      <td>13</td>\n",
       "      <td>2</td>\n",
       "      <td>2</td>\n",
       "      <td>5000</td>\n",
       "    </tr>\n",
       "  </tbody>\n",
       "</table>\n",
       "</div>"
      ],
      "text/plain": [
       "Number Customer Service calls      0     1     2    3    4   5   6   7  8  9  \\\n",
       "Churn                                                                          \n",
       " False.                          902  1596  1005  592  141  38  12   6  1  0   \n",
       " True.                           121   190   122   73  111  58  22   7  1  2   \n",
       "All                             1023  1786  1127  665  252  96  34  13  2  2   \n",
       "\n",
       "Number Customer Service calls    All  \n",
       "Churn                                 \n",
       " False.                         4293  \n",
       " True.                           707  \n",
       "All                             5000  "
      ]
     },
     "execution_count": 11,
     "metadata": {},
     "output_type": "execute_result"
    }
   ],
   "source": [
    "pd.crosstab(df['Churn'],df['Number Customer Service calls '],margins=True)\n"
   ]
  },
  {
   "cell_type": "code",
   "execution_count": 12,
   "id": "724a5a4b",
   "metadata": {},
   "outputs": [
    {
     "data": {
      "text/html": [
       "<div>\n",
       "<style scoped>\n",
       "    .dataframe tbody tr th:only-of-type {\n",
       "        vertical-align: middle;\n",
       "    }\n",
       "\n",
       "    .dataframe tbody tr th {\n",
       "        vertical-align: top;\n",
       "    }\n",
       "\n",
       "    .dataframe thead th {\n",
       "        text-align: right;\n",
       "    }\n",
       "</style>\n",
       "<table border=\"1\" class=\"dataframe\">\n",
       "  <thead>\n",
       "    <tr style=\"text-align: right;\">\n",
       "      <th>Number Customer Service calls</th>\n",
       "      <th>0</th>\n",
       "      <th>1</th>\n",
       "      <th>2</th>\n",
       "      <th>3</th>\n",
       "      <th>4</th>\n",
       "      <th>5</th>\n",
       "      <th>6</th>\n",
       "      <th>7</th>\n",
       "      <th>8</th>\n",
       "      <th>9</th>\n",
       "      <th>All</th>\n",
       "    </tr>\n",
       "    <tr>\n",
       "      <th>Churn</th>\n",
       "      <th></th>\n",
       "      <th></th>\n",
       "      <th></th>\n",
       "      <th></th>\n",
       "      <th></th>\n",
       "      <th></th>\n",
       "      <th></th>\n",
       "      <th></th>\n",
       "      <th></th>\n",
       "      <th></th>\n",
       "      <th></th>\n",
       "    </tr>\n",
       "  </thead>\n",
       "  <tbody>\n",
       "    <tr>\n",
       "      <th>False.</th>\n",
       "      <td>0.1804</td>\n",
       "      <td>0.3192</td>\n",
       "      <td>0.2010</td>\n",
       "      <td>0.1184</td>\n",
       "      <td>0.0282</td>\n",
       "      <td>0.0076</td>\n",
       "      <td>0.0024</td>\n",
       "      <td>0.0012</td>\n",
       "      <td>0.0002</td>\n",
       "      <td>0.0000</td>\n",
       "      <td>0.8586</td>\n",
       "    </tr>\n",
       "    <tr>\n",
       "      <th>True.</th>\n",
       "      <td>0.0242</td>\n",
       "      <td>0.0380</td>\n",
       "      <td>0.0244</td>\n",
       "      <td>0.0146</td>\n",
       "      <td>0.0222</td>\n",
       "      <td>0.0116</td>\n",
       "      <td>0.0044</td>\n",
       "      <td>0.0014</td>\n",
       "      <td>0.0002</td>\n",
       "      <td>0.0004</td>\n",
       "      <td>0.1414</td>\n",
       "    </tr>\n",
       "    <tr>\n",
       "      <th>All</th>\n",
       "      <td>0.2046</td>\n",
       "      <td>0.3572</td>\n",
       "      <td>0.2254</td>\n",
       "      <td>0.1330</td>\n",
       "      <td>0.0504</td>\n",
       "      <td>0.0192</td>\n",
       "      <td>0.0068</td>\n",
       "      <td>0.0026</td>\n",
       "      <td>0.0004</td>\n",
       "      <td>0.0004</td>\n",
       "      <td>1.0000</td>\n",
       "    </tr>\n",
       "  </tbody>\n",
       "</table>\n",
       "</div>"
      ],
      "text/plain": [
       "Number Customer Service calls        0       1       2       3       4  \\\n",
       "Churn                                                                    \n",
       " False.                         0.1804  0.3192  0.2010  0.1184  0.0282   \n",
       " True.                          0.0242  0.0380  0.0244  0.0146  0.0222   \n",
       "All                             0.2046  0.3572  0.2254  0.1330  0.0504   \n",
       "\n",
       "Number Customer Service calls        5       6       7       8       9     All  \n",
       "Churn                                                                           \n",
       " False.                         0.0076  0.0024  0.0012  0.0002  0.0000  0.8586  \n",
       " True.                          0.0116  0.0044  0.0014  0.0002  0.0004  0.1414  \n",
       "All                             0.0192  0.0068  0.0026  0.0004  0.0004  1.0000  "
      ]
     },
     "execution_count": 12,
     "metadata": {},
     "output_type": "execute_result"
    }
   ],
   "source": [
    "pd.crosstab(df['Churn'],df['Number Customer Service calls '],margins=True,normalize=True)"
   ]
  },
  {
   "cell_type": "code",
   "execution_count": 13,
   "id": "aded200f",
   "metadata": {},
   "outputs": [
    {
     "data": {
      "text/plain": [
       "<AxesSubplot:xlabel='Churn', ylabel='Number Customer Service calls '>"
      ]
     },
     "execution_count": 13,
     "metadata": {},
     "output_type": "execute_result"
    },
    {
     "data": {
      "image/png": "[encoded data removed]",
      "text/plain": [
       "<Figure size 640x480 with 1 Axes>"
      ]
     },
     "metadata": {},
     "output_type": "display_data"
    }
   ],
   "source": [
    "sns.boxplot(x='Churn',y='Number Customer Service calls ',data=df)"
   ]
  },
  {
   "cell_type": "code",
   "execution_count": 14,
   "id": "2d7a9087",
   "metadata": {},
   "outputs": [
    {
     "data": {
      "text/html": [
       "<div>\n",
       "<style scoped>\n",
       "    .dataframe tbody tr th:only-of-type {\n",
       "        vertical-align: middle;\n",
       "    }\n",
       "\n",
       "    .dataframe tbody tr th {\n",
       "        vertical-align: top;\n",
       "    }\n",
       "\n",
       "    .dataframe thead tr th {\n",
       "        text-align: left;\n",
       "    }\n",
       "\n",
       "    .dataframe thead tr:last-of-type th {\n",
       "        text-align: right;\n",
       "    }\n",
       "</style>\n",
       "<table border=\"1\" class=\"dataframe\">\n",
       "  <thead>\n",
       "    <tr>\n",
       "      <th></th>\n",
       "      <th colspan=\"8\" halign=\"left\">Number Customer Service calls</th>\n",
       "    </tr>\n",
       "    <tr>\n",
       "      <th></th>\n",
       "      <th>count</th>\n",
       "      <th>mean</th>\n",
       "      <th>std</th>\n",
       "      <th>min</th>\n",
       "      <th>25%</th>\n",
       "      <th>50%</th>\n",
       "      <th>75%</th>\n",
       "      <th>max</th>\n",
       "    </tr>\n",
       "    <tr>\n",
       "      <th>Churn</th>\n",
       "      <th></th>\n",
       "      <th></th>\n",
       "      <th></th>\n",
       "      <th></th>\n",
       "      <th></th>\n",
       "      <th></th>\n",
       "      <th></th>\n",
       "      <th></th>\n",
       "    </tr>\n",
       "  </thead>\n",
       "  <tbody>\n",
       "    <tr>\n",
       "      <th>False.</th>\n",
       "      <td>4293.0</td>\n",
       "      <td>1.457722</td>\n",
       "      <td>1.164236</td>\n",
       "      <td>0.0</td>\n",
       "      <td>1.0</td>\n",
       "      <td>1.0</td>\n",
       "      <td>2.0</td>\n",
       "      <td>8.0</td>\n",
       "    </tr>\n",
       "    <tr>\n",
       "      <th>True.</th>\n",
       "      <td>707.0</td>\n",
       "      <td>2.254597</td>\n",
       "      <td>1.815956</td>\n",
       "      <td>0.0</td>\n",
       "      <td>1.0</td>\n",
       "      <td>2.0</td>\n",
       "      <td>4.0</td>\n",
       "      <td>9.0</td>\n",
       "    </tr>\n",
       "  </tbody>\n",
       "</table>\n",
       "</div>"
      ],
      "text/plain": [
       "        Number Customer Service calls                                      \\\n",
       "                                 count      mean       std  min  25%  50%   \n",
       "Churn                                                                       \n",
       " False.                         4293.0  1.457722  1.164236  0.0  1.0  1.0   \n",
       " True.                           707.0  2.254597  1.815956  0.0  1.0  2.0   \n",
       "\n",
       "                   \n",
       "         75%  max  \n",
       "Churn              \n",
       " False.  2.0  8.0  \n",
       " True.   4.0  9.0  "
      ]
     },
     "execution_count": 14,
     "metadata": {},
     "output_type": "execute_result"
    }
   ],
   "source": [
    "df[['Number Customer Service calls ','Churn']].groupby('Churn').describe()"
   ]
  },
  {
   "cell_type": "markdown",
   "id": "e12b9c0b",
   "metadata": {},
   "source": [
    "Customers who have been churned out appear to have more service calls than those who have not.\n",
    "In light of this, it may be said that customers who have made more service calls tend to produce\n",
    "more. Also I can see some outlier for the churn(False) customers"
   ]
  },
  {
   "cell_type": "markdown",
   "id": "0e8920f9",
   "metadata": {},
   "source": [
    "#### B. Study the relationship between Churn vs Total Day Charge & Churn vs Total Night Charge using boxplot. State the inference Clearly"
   ]
  },
  {
   "cell_type": "markdown",
   "id": "d086f832",
   "metadata": {},
   "source": [
    "<b>Churn vs Total Day Charge</b>"
   ]
  },
  {
   "cell_type": "code",
   "execution_count": 15,
   "id": "cd5856d9",
   "metadata": {},
   "outputs": [
    {
     "data": {
      "text/plain": [
       "<AxesSubplot:xlabel='Churn', ylabel='Total day Charge'>"
      ]
     },
     "execution_count": 15,
     "metadata": {},
     "output_type": "execute_result"
    },
    {
     "data": {
      "image/png": "[encoded data removed]",
      "text/plain": [
       "<Figure size 640x480 with 1 Axes>"
      ]
     },
     "metadata": {},
     "output_type": "display_data"
    }
   ],
   "source": [
    "sns.boxplot(x='Churn',y='Total day Charge',data=df)"
   ]
  },
  {
   "cell_type": "markdown",
   "id": "9900b8f4",
   "metadata": {},
   "source": [
    "There churned out customers seems to have more day charge than those who are not churned out.\n",
    "Min, 25%, Median, 75%, and Max values on the box plot are more likely to be high values.\n",
    "Few Outliers are seen in Churn=False on lower values but those are all very near to min values so\n",
    "it may not create any effects."
   ]
  },
  {
   "cell_type": "markdown",
   "id": "83cc5ae7",
   "metadata": {},
   "source": [
    "<b> Churn vs Total Day Charge </b>"
   ]
  },
  {
   "cell_type": "code",
   "execution_count": 16,
   "id": "8194b969",
   "metadata": {},
   "outputs": [
    {
     "data": {
      "text/plain": [
       "<AxesSubplot:xlabel='Churn', ylabel='Total Night Charge'>"
      ]
     },
     "execution_count": 16,
     "metadata": {},
     "output_type": "execute_result"
    },
    {
     "data": {
      "image/png": "[encoded data removed]",
      "text/plain": [
       "<Figure size 640x480 with 1 Axes>"
      ]
     },
     "metadata": {},
     "output_type": "display_data"
    }
   ],
   "source": [
    "sns.boxplot(x='Churn',y='Total Night Charge',data=df)"
   ]
  },
  {
   "cell_type": "markdown",
   "id": "23fb79d5",
   "metadata": {},
   "source": [
    "For the night charge, there is a slight difference between the two types of customers but otherwise,\n",
    "the data trend is probably the same.\n",
    "Outliers are more in Churn=False than Churn=True. (But those are all minimal)"
   ]
  },
  {
   "cell_type": "markdown",
   "id": "90d6598a",
   "metadata": {},
   "source": [
    "## 3. Model Training"
   ]
  },
  {
   "cell_type": "markdown",
   "id": "2c17c171",
   "metadata": {},
   "source": [
    "####  For further analysis train a logistic regression model and Naive Bayes model. Evaluate the model using ROC-AUC curve, Accuracy"
   ]
  },
  {
   "cell_type": "code",
   "execution_count": 69,
   "id": "4da08a50",
   "metadata": {},
   "outputs": [],
   "source": [
    "from sklearn.model_selection import train_test_split"
   ]
  },
  {
   "cell_type": "code",
   "execution_count": 112,
   "id": "352c0246",
   "metadata": {},
   "outputs": [],
   "source": [
    "from sklearn.linear_model import LogisticRegression\n",
    "from sklearn.naive_bayes import GaussianNB\n",
    "from sklearn.naive_bayes import BernoulliNB\n",
    "from sklearn.preprocessing import StandardScaler\n",
    "from sklearn.metrics import classification_report\n",
    "from sklearn.metrics import confusion_matrix\n",
    "from sklearn.metrics import roc_auc_score\n",
    "from sklearn.metrics import roc_curve\n",
    "import numpy as np"
   ]
  },
  {
   "cell_type": "code",
   "execution_count": 196,
   "id": "89056605",
   "metadata": {},
   "outputs": [],
   "source": [
    "def plot_auc_curve(fpr,tpr,score, alg):\n",
    "    plt.plot(fpr,tpr,color='orange',label='ROC={}'.format(score))\n",
    "    plt.plot([0,1],[0,1],color='darkblue',linestyle='--')\n",
    "    plt.xlabel('False Positive Rate')\n",
    "    plt.ylabel('True Positive Rate')\n",
    "    plt.title(alg+\" ROC Curve\")\n",
    "    plt.legend()\n",
    "    plt.show()\n",
    "    "
   ]
  },
  {
   "cell_type": "markdown",
   "id": "7c16a1ae",
   "metadata": {},
   "source": [
    "##### Encdoing"
   ]
  },
  {
   "cell_type": "code",
   "execution_count": 171,
   "id": "0b06c67a",
   "metadata": {},
   "outputs": [],
   "source": [
    "X=df.drop(columns=['Phone Number','Churn'])\n",
    "y=pd.DataFrame({'Churn':df['Churn']})"
   ]
  },
  {
   "cell_type": "code",
   "execution_count": 172,
   "id": "e05d54b6",
   "metadata": {},
   "outputs": [],
   "source": [
    "encoded_df = pd.get_dummies(X, columns = ['State', 'International Plan','Voice mail Plan'],drop_first=True)\n"
   ]
  },
  {
   "cell_type": "code",
   "execution_count": 173,
   "id": "bfb9e610",
   "metadata": {},
   "outputs": [
    {
     "data": {
      "text/html": [
       "<div>\n",
       "<style scoped>\n",
       "    .dataframe tbody tr th:only-of-type {\n",
       "        vertical-align: middle;\n",
       "    }\n",
       "\n",
       "    .dataframe tbody tr th {\n",
       "        vertical-align: top;\n",
       "    }\n",
       "\n",
       "    .dataframe thead th {\n",
       "        text-align: right;\n",
       "    }\n",
       "</style>\n",
       "<table border=\"1\" class=\"dataframe\">\n",
       "  <thead>\n",
       "    <tr style=\"text-align: right;\">\n",
       "      <th></th>\n",
       "      <th>Account Length</th>\n",
       "      <th>Area Code</th>\n",
       "      <th>Num of Voice mail Messages</th>\n",
       "      <th>Total Day Minutes</th>\n",
       "      <th>Total Day Calls</th>\n",
       "      <th>Total day Charge</th>\n",
       "      <th>Total Eve Minutes</th>\n",
       "      <th>Total Eve Calls</th>\n",
       "      <th>Total Eve Charge</th>\n",
       "      <th>Total Night Minutes</th>\n",
       "      <th>...</th>\n",
       "      <th>State_TX</th>\n",
       "      <th>State_UT</th>\n",
       "      <th>State_VA</th>\n",
       "      <th>State_VT</th>\n",
       "      <th>State_WA</th>\n",
       "      <th>State_WI</th>\n",
       "      <th>State_WV</th>\n",
       "      <th>State_WY</th>\n",
       "      <th>International Plan_ yes</th>\n",
       "      <th>Voice mail Plan_ yes</th>\n",
       "    </tr>\n",
       "  </thead>\n",
       "  <tbody>\n",
       "    <tr>\n",
       "      <th>0</th>\n",
       "      <td>128</td>\n",
       "      <td>415</td>\n",
       "      <td>25</td>\n",
       "      <td>265.1</td>\n",
       "      <td>110</td>\n",
       "      <td>45.07</td>\n",
       "      <td>197.4</td>\n",
       "      <td>99</td>\n",
       "      <td>16.78</td>\n",
       "      <td>244.7</td>\n",
       "      <td>...</td>\n",
       "      <td>0</td>\n",
       "      <td>0</td>\n",
       "      <td>0</td>\n",
       "      <td>0</td>\n",
       "      <td>0</td>\n",
       "      <td>0</td>\n",
       "      <td>0</td>\n",
       "      <td>0</td>\n",
       "      <td>0</td>\n",
       "      <td>1</td>\n",
       "    </tr>\n",
       "  </tbody>\n",
       "</table>\n",
       "<p>1 rows × 68 columns</p>\n",
       "</div>"
      ],
      "text/plain": [
       "   Account Length  Area Code  Num of Voice mail Messages  Total Day Minutes  \\\n",
       "0             128        415                          25              265.1   \n",
       "\n",
       "   Total Day Calls  Total day Charge  Total Eve Minutes  Total Eve Calls  \\\n",
       "0              110             45.07              197.4               99   \n",
       "\n",
       "   Total Eve Charge  Total Night Minutes  ...  State_TX  State_UT  State_VA  \\\n",
       "0             16.78                244.7  ...         0         0         0   \n",
       "\n",
       "   State_VT  State_WA  State_WI  State_WV  State_WY  International Plan_ yes  \\\n",
       "0         0         0         0         0         0                        0   \n",
       "\n",
       "   Voice mail Plan_ yes  \n",
       "0                     1  \n",
       "\n",
       "[1 rows x 68 columns]"
      ]
     },
     "execution_count": 173,
     "metadata": {},
     "output_type": "execute_result"
    }
   ],
   "source": [
    "encoded_df.head(1)"
   ]
  },
  {
   "cell_type": "markdown",
   "id": "b8aa1296",
   "metadata": {},
   "source": [
    "##### Scaling"
   ]
  },
  {
   "cell_type": "code",
   "execution_count": null,
   "id": "71202d0b",
   "metadata": {},
   "outputs": [],
   "source": []
  },
  {
   "cell_type": "code",
   "execution_count": 174,
   "id": "2f385a21",
   "metadata": {},
   "outputs": [],
   "source": [
    "def scaling_dataset(encoded_dataset):\n",
    "    scalar = StandardScaler()\n",
    "    scaled_df=scalar.fit_transform(encoded_dataset)\n",
    "    return pd.DataFrame(scaled_df,columns=encoded_df.columns)"
   ]
  },
  {
   "cell_type": "code",
   "execution_count": 175,
   "id": "581f9571",
   "metadata": {},
   "outputs": [],
   "source": [
    "X_train, X_test, y_train, y_test = train_test_split(encoded_df, y, test_size=0.20, random_state=11,stratify=y)\n"
   ]
  },
  {
   "cell_type": "code",
   "execution_count": 176,
   "id": "a1665bd5",
   "metadata": {},
   "outputs": [],
   "source": [
    "# Scaling should done after the train-test split to avoid the data leakage\n",
    "X_train=scaling_dataset(X_train)\n",
    "X_test=scaling_dataset(X_test)"
   ]
  },
  {
   "cell_type": "markdown",
   "id": "bfe0c0a3",
   "metadata": {},
   "source": [
    "##### Logistic Regression "
   ]
  },
  {
   "cell_type": "code",
   "execution_count": 177,
   "id": "9a7bc5fd",
   "metadata": {},
   "outputs": [],
   "source": [
    "lr = LogisticRegression(n_jobs=4)"
   ]
  },
  {
   "cell_type": "code",
   "execution_count": 178,
   "id": "e9b0e0c8",
   "metadata": {},
   "outputs": [
    {
     "name": "stderr",
     "output_type": "stream",
     "text": [
      "/home/daniel/anaconda3/lib/python3.9/site-packages/sklearn/utils/validation.py:1111: DataConversionWarning: A column-vector y was passed when a 1d array was expected. Please change the shape of y to (n_samples, ), for example using ravel().\n",
      "  y = column_or_1d(y, warn=True)\n"
     ]
    },
    {
     "data": {
      "text/html": [
       "<style>#sk-container-id-10 {color: black;background-color: white;}#sk-container-id-10 pre{padding: 0;}#sk-container-id-10 div.sk-toggleable {background-color: white;}#sk-container-id-10 label.sk-toggleable__label {cursor: pointer;display: block;width: 100%;margin-bottom: 0;padding: 0.3em;box-sizing: border-box;text-align: center;}#sk-container-id-10 label.sk-toggleable__label-arrow:before {content: \"▸\";float: left;margin-right: 0.25em;color: #696969;}#sk-container-id-10 label.sk-toggleable__label-arrow:hover:before {color: black;}#sk-container-id-10 div.sk-estimator:hover label.sk-toggleable__label-arrow:before {color: black;}#sk-container-id-10 div.sk-toggleable__content {max-height: 0;max-width: 0;overflow: hidden;text-align: left;background-color: #f0f8ff;}#sk-container-id-10 div.sk-toggleable__content pre {margin: 0.2em;color: black;border-radius: 0.25em;background-color: #f0f8ff;}#sk-container-id-10 input.sk-toggleable__control:checked~div.sk-toggleable__content {max-height: 200px;max-width: 100%;overflow: auto;}#sk-container-id-10 input.sk-toggleable__control:checked~label.sk-toggleable__label-arrow:before {content: \"▾\";}#sk-container-id-10 div.sk-estimator input.sk-toggleable__control:checked~label.sk-toggleable__label {background-color: #d4ebff;}#sk-container-id-10 div.sk-label input.sk-toggleable__control:checked~label.sk-toggleable__label {background-color: #d4ebff;}#sk-container-id-10 input.sk-hidden--visually {border: 0;clip: rect(1px 1px 1px 1px);clip: rect(1px, 1px, 1px, 1px);height: 1px;margin: -1px;overflow: hidden;padding: 0;position: absolute;width: 1px;}#sk-container-id-10 div.sk-estimator {font-family: monospace;background-color: #f0f8ff;border: 1px dotted black;border-radius: 0.25em;box-sizing: border-box;margin-bottom: 0.5em;}#sk-container-id-10 div.sk-estimator:hover {background-color: #d4ebff;}#sk-container-id-10 div.sk-parallel-item::after {content: \"\";width: 100%;border-bottom: 1px solid gray;flex-grow: 1;}#sk-container-id-10 div.sk-label:hover label.sk-toggleable__label {background-color: #d4ebff;}#sk-container-id-10 div.sk-serial::before {content: \"\";position: absolute;border-left: 1px solid gray;box-sizing: border-box;top: 0;bottom: 0;left: 50%;z-index: 0;}#sk-container-id-10 div.sk-serial {display: flex;flex-direction: column;align-items: center;background-color: white;padding-right: 0.2em;padding-left: 0.2em;position: relative;}#sk-container-id-10 div.sk-item {position: relative;z-index: 1;}#sk-container-id-10 div.sk-parallel {display: flex;align-items: stretch;justify-content: center;background-color: white;position: relative;}#sk-container-id-10 div.sk-item::before, #sk-container-id-10 div.sk-parallel-item::before {content: \"\";position: absolute;border-left: 1px solid gray;box-sizing: border-box;top: 0;bottom: 0;left: 50%;z-index: -1;}#sk-container-id-10 div.sk-parallel-item {display: flex;flex-direction: column;z-index: 1;position: relative;background-color: white;}#sk-container-id-10 div.sk-parallel-item:first-child::after {align-self: flex-end;width: 50%;}#sk-container-id-10 div.sk-parallel-item:last-child::after {align-self: flex-start;width: 50%;}#sk-container-id-10 div.sk-parallel-item:only-child::after {width: 0;}#sk-container-id-10 div.sk-dashed-wrapped {border: 1px dashed gray;margin: 0 0.4em 0.5em 0.4em;box-sizing: border-box;padding-bottom: 0.4em;background-color: white;}#sk-container-id-10 div.sk-label label {font-family: monospace;font-weight: bold;display: inline-block;line-height: 1.2em;}#sk-container-id-10 div.sk-label-container {text-align: center;}#sk-container-id-10 div.sk-container {/* jupyter's `normalize.less` sets `[hidden] { display: none; }` but bootstrap.min.css set `[hidden] { display: none !important; }` so we also need the `!important` here to be able to override the default hidden behavior on the sphinx rendered scikit-learn.org. See: https://github.com/scikit-learn/scikit-learn/issues/21755 */display: inline-block !important;position: relative;}#sk-container-id-10 div.sk-text-repr-fallback {display: none;}</style><div id=\"sk-container-id-10\" class=\"sk-top-container\"><div class=\"sk-text-repr-fallback\"><pre>LogisticRegression(n_jobs=4)</pre><b>In a Jupyter environment, please rerun this cell to show the HTML representation or trust the notebook. <br />On GitHub, the HTML representation is unable to render, please try loading this page with nbviewer.org.</b></div><div class=\"sk-container\" hidden><div class=\"sk-item\"><div class=\"sk-estimator sk-toggleable\"><input class=\"sk-toggleable__control sk-hidden--visually\" id=\"sk-estimator-id-10\" type=\"checkbox\" checked><label for=\"sk-estimator-id-10\" class=\"sk-toggleable__label sk-toggleable__label-arrow\">LogisticRegression</label><div class=\"sk-toggleable__content\"><pre>LogisticRegression(n_jobs=4)</pre></div></div></div></div></div>"
      ],
      "text/plain": [
       "LogisticRegression(n_jobs=4)"
      ]
     },
     "execution_count": 178,
     "metadata": {},
     "output_type": "execute_result"
    }
   ],
   "source": [
    "lr.fit(X_train,y_train)"
   ]
  },
  {
   "cell_type": "code",
   "execution_count": 179,
   "id": "1049ab2e",
   "metadata": {},
   "outputs": [],
   "source": [
    "prediton=lr.predict(X_test)"
   ]
  },
  {
   "cell_type": "code",
   "execution_count": 180,
   "id": "c4308bb8",
   "metadata": {},
   "outputs": [
    {
     "name": "stdout",
     "output_type": "stream",
     "text": [
      "[[833  26]\n",
      " [111  30]]\n",
      "              precision    recall  f1-score   support\n",
      "\n",
      "      False.       0.88      0.97      0.92       859\n",
      "       True.       0.54      0.21      0.30       141\n",
      "\n",
      "    accuracy                           0.86      1000\n",
      "   macro avg       0.71      0.59      0.61      1000\n",
      "weighted avg       0.83      0.86      0.84      1000\n",
      "\n"
     ]
    }
   ],
   "source": [
    "print(confusion_matrix(y_test,prediton))\n",
    "print(classification_report(y_test,prediton))"
   ]
  },
  {
   "cell_type": "code",
   "execution_count": 183,
   "id": "da38549e",
   "metadata": {},
   "outputs": [],
   "source": [
    "y_test_prob=pd.DataFrame({'Churn':np.where(y_test['Churn']==' False.',0,1)})"
   ]
  },
  {
   "cell_type": "code",
   "execution_count": 184,
   "id": "7788f61c",
   "metadata": {},
   "outputs": [
    {
     "data": {
      "text/plain": [
       "0    859\n",
       "1    141\n",
       "Name: Churn, dtype: int64"
      ]
     },
     "execution_count": 184,
     "metadata": {},
     "output_type": "execute_result"
    }
   ],
   "source": [
    "y_test_prob['Churn'].value_counts()"
   ]
  },
  {
   "cell_type": "code",
   "execution_count": 185,
   "id": "80c496bb",
   "metadata": {},
   "outputs": [
    {
     "name": "stdout",
     "output_type": "stream",
     "text": [
      "Linear Regression AUC Score : {} 0.8161890372278504\n"
     ]
    }
   ],
   "source": [
    "\n",
    "lr_predict_proba=lr.predict_proba(X_test)[:,1]\n",
    "fpr,tpr,threshold=roc_curve(y_test_prob,lr_predict_proba)\n",
    "lr_auc_score=roc_auc_score(y_test_prob,lr_predict_proba)\n",
    "print('Linear Regression AUC Score : {}',format(lr_auc_score))"
   ]
  },
  {
   "cell_type": "code",
   "execution_count": 186,
   "id": "2079e77c",
   "metadata": {},
   "outputs": [
    {
     "data": {
      "image/png": "[encoded data removed]",
      "text/plain": [
       "<Figure size 640x480 with 1 Axes>"
      ]
     },
     "metadata": {},
     "output_type": "display_data"
    }
   ],
   "source": [
    "plot_auc_curve(fpr,tpr,'Logistic Regression')"
   ]
  },
  {
   "cell_type": "code",
   "execution_count": 187,
   "id": "63231f6f",
   "metadata": {},
   "outputs": [],
   "source": [
    "##### Naive Bayes"
   ]
  },
  {
   "cell_type": "code",
   "execution_count": 188,
   "id": "1dbeb204",
   "metadata": {},
   "outputs": [],
   "source": [
    "nb = BernoulliNB()"
   ]
  },
  {
   "cell_type": "code",
   "execution_count": 189,
   "id": "675107d3",
   "metadata": {},
   "outputs": [
    {
     "data": {
      "text/html": [
       "<style>#sk-container-id-11 {color: black;background-color: white;}#sk-container-id-11 pre{padding: 0;}#sk-container-id-11 div.sk-toggleable {background-color: white;}#sk-container-id-11 label.sk-toggleable__label {cursor: pointer;display: block;width: 100%;margin-bottom: 0;padding: 0.3em;box-sizing: border-box;text-align: center;}#sk-container-id-11 label.sk-toggleable__label-arrow:before {content: \"▸\";float: left;margin-right: 0.25em;color: #696969;}#sk-container-id-11 label.sk-toggleable__label-arrow:hover:before {color: black;}#sk-container-id-11 div.sk-estimator:hover label.sk-toggleable__label-arrow:before {color: black;}#sk-container-id-11 div.sk-toggleable__content {max-height: 0;max-width: 0;overflow: hidden;text-align: left;background-color: #f0f8ff;}#sk-container-id-11 div.sk-toggleable__content pre {margin: 0.2em;color: black;border-radius: 0.25em;background-color: #f0f8ff;}#sk-container-id-11 input.sk-toggleable__control:checked~div.sk-toggleable__content {max-height: 200px;max-width: 100%;overflow: auto;}#sk-container-id-11 input.sk-toggleable__control:checked~label.sk-toggleable__label-arrow:before {content: \"▾\";}#sk-container-id-11 div.sk-estimator input.sk-toggleable__control:checked~label.sk-toggleable__label {background-color: #d4ebff;}#sk-container-id-11 div.sk-label input.sk-toggleable__control:checked~label.sk-toggleable__label {background-color: #d4ebff;}#sk-container-id-11 input.sk-hidden--visually {border: 0;clip: rect(1px 1px 1px 1px);clip: rect(1px, 1px, 1px, 1px);height: 1px;margin: -1px;overflow: hidden;padding: 0;position: absolute;width: 1px;}#sk-container-id-11 div.sk-estimator {font-family: monospace;background-color: #f0f8ff;border: 1px dotted black;border-radius: 0.25em;box-sizing: border-box;margin-bottom: 0.5em;}#sk-container-id-11 div.sk-estimator:hover {background-color: #d4ebff;}#sk-container-id-11 div.sk-parallel-item::after {content: \"\";width: 100%;border-bottom: 1px solid gray;flex-grow: 1;}#sk-container-id-11 div.sk-label:hover label.sk-toggleable__label {background-color: #d4ebff;}#sk-container-id-11 div.sk-serial::before {content: \"\";position: absolute;border-left: 1px solid gray;box-sizing: border-box;top: 0;bottom: 0;left: 50%;z-index: 0;}#sk-container-id-11 div.sk-serial {display: flex;flex-direction: column;align-items: center;background-color: white;padding-right: 0.2em;padding-left: 0.2em;position: relative;}#sk-container-id-11 div.sk-item {position: relative;z-index: 1;}#sk-container-id-11 div.sk-parallel {display: flex;align-items: stretch;justify-content: center;background-color: white;position: relative;}#sk-container-id-11 div.sk-item::before, #sk-container-id-11 div.sk-parallel-item::before {content: \"\";position: absolute;border-left: 1px solid gray;box-sizing: border-box;top: 0;bottom: 0;left: 50%;z-index: -1;}#sk-container-id-11 div.sk-parallel-item {display: flex;flex-direction: column;z-index: 1;position: relative;background-color: white;}#sk-container-id-11 div.sk-parallel-item:first-child::after {align-self: flex-end;width: 50%;}#sk-container-id-11 div.sk-parallel-item:last-child::after {align-self: flex-start;width: 50%;}#sk-container-id-11 div.sk-parallel-item:only-child::after {width: 0;}#sk-container-id-11 div.sk-dashed-wrapped {border: 1px dashed gray;margin: 0 0.4em 0.5em 0.4em;box-sizing: border-box;padding-bottom: 0.4em;background-color: white;}#sk-container-id-11 div.sk-label label {font-family: monospace;font-weight: bold;display: inline-block;line-height: 1.2em;}#sk-container-id-11 div.sk-label-container {text-align: center;}#sk-container-id-11 div.sk-container {/* jupyter's `normalize.less` sets `[hidden] { display: none; }` but bootstrap.min.css set `[hidden] { display: none !important; }` so we also need the `!important` here to be able to override the default hidden behavior on the sphinx rendered scikit-learn.org. See: https://github.com/scikit-learn/scikit-learn/issues/21755 */display: inline-block !important;position: relative;}#sk-container-id-11 div.sk-text-repr-fallback {display: none;}</style><div id=\"sk-container-id-11\" class=\"sk-top-container\"><div class=\"sk-text-repr-fallback\"><pre>BernoulliNB()</pre><b>In a Jupyter environment, please rerun this cell to show the HTML representation or trust the notebook. <br />On GitHub, the HTML representation is unable to render, please try loading this page with nbviewer.org.</b></div><div class=\"sk-container\" hidden><div class=\"sk-item\"><div class=\"sk-estimator sk-toggleable\"><input class=\"sk-toggleable__control sk-hidden--visually\" id=\"sk-estimator-id-11\" type=\"checkbox\" checked><label for=\"sk-estimator-id-11\" class=\"sk-toggleable__label sk-toggleable__label-arrow\">BernoulliNB</label><div class=\"sk-toggleable__content\"><pre>BernoulliNB()</pre></div></div></div></div></div>"
      ],
      "text/plain": [
       "BernoulliNB()"
      ]
     },
     "execution_count": 189,
     "metadata": {},
     "output_type": "execute_result"
    }
   ],
   "source": [
    "nb.fit(X_train,y_train.to_numpy().ravel())"
   ]
  },
  {
   "cell_type": "code",
   "execution_count": 190,
   "id": "1f9edbaf",
   "metadata": {},
   "outputs": [],
   "source": [
    "nb_prediton=nb.predict(X_test)"
   ]
  },
  {
   "cell_type": "code",
   "execution_count": 191,
   "id": "56bafdef",
   "metadata": {},
   "outputs": [
    {
     "name": "stdout",
     "output_type": "stream",
     "text": [
      "[[844  15]\n",
      " [119  22]]\n",
      "              precision    recall  f1-score   support\n",
      "\n",
      "      False.       0.88      0.98      0.93       859\n",
      "       True.       0.59      0.16      0.25       141\n",
      "\n",
      "    accuracy                           0.87      1000\n",
      "   macro avg       0.74      0.57      0.59      1000\n",
      "weighted avg       0.84      0.87      0.83      1000\n",
      "\n"
     ]
    }
   ],
   "source": [
    "print(confusion_matrix(y_test,nb_prediton))\n",
    "print(classification_report(y_test,nb_prediton))"
   ]
  },
  {
   "cell_type": "markdown",
   "id": "a953e195",
   "metadata": {},
   "source": [
    "##### ROC Curve and AUC Score"
   ]
  },
  {
   "cell_type": "code",
   "execution_count": 193,
   "id": "afe1e9a2",
   "metadata": {},
   "outputs": [
    {
     "name": "stdout",
     "output_type": "stream",
     "text": [
      "Linear Regression AUC Score : {} 0.7449945920953772\n"
     ]
    }
   ],
   "source": [
    "nb_predict_proba=nb.predict_proba(X_test)[:,1]\n",
    "fpr,tpr,_=roc_curve(y_test_prob,nb_predict_proba)\n",
    "nb_auc_score=roc_auc_score(y_test_prob,nb_predict_proba)\n",
    "print('Linear Regression AUC Score : {}',format(nb_auc_score))"
   ]
  },
  {
   "cell_type": "code",
   "execution_count": 194,
   "id": "a8d3e362",
   "metadata": {},
   "outputs": [
    {
     "data": {
      "image/png": "[encoded data removed]",
      "text/plain": [
       "<Figure size 640x480 with 1 Axes>"
      ]
     },
     "metadata": {},
     "output_type": "display_data"
    }
   ],
   "source": [
    "plot_auc_curve(fpr,tpr,'Naive Bayes')"
   ]
  },
  {
   "cell_type": "code",
   "execution_count": null,
   "id": "80a96643",
   "metadata": {},
   "outputs": [],
   "source": []
  }
 ],
 "metadata": {
  "kernelspec": {
   "display_name": "Python 3 (ipykernel)",
   "language": "python",
   "name": "python3"
  },
  "language_info": {
   "codemirror_mode": {
    "name": "ipython",
    "version": 3
   },
   "file_extension": ".py",
   "mimetype": "text/x-python",
   "name": "python",
   "nbconvert_exporter": "python",
   "pygments_lexer": "ipython3",
   "version": "3.9.13"
  }
 },
 "nbformat": 4,
 "nbformat_minor": 5
}
