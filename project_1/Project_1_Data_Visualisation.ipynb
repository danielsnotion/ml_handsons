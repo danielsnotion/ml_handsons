{
 "cells": [
  {
   "cell_type": "markdown",
   "metadata": {},
   "source": [
    "# Data Visualisation"
   ]
  },
  {
   "cell_type": "code",
   "execution_count": null,
   "metadata": {},
   "outputs": [],
   "source": []
  },
  {
   "cell_type": "markdown",
   "metadata": {},
   "source": [
    "DOMAIN: BFSI\n",
    "• CONTEXT: Analytics as a discipline has totally reinvented itself over the past several years, from primarily a support function to one that\n",
    "creates both value and revenue. BFSI marketing departments should keep up with the same pace of change that we’ve seen in other\n",
    "industries in adopting data driven decision making else it will cost their institutions hundreds of thousands or millions of dollars in hard costs\n",
    "and lost revenue opportunity. Further, the ecosystem in which the BFSI companies operate has changed drastically.\n",
    "\n",
    "• DATA DESCRIPTION: The file Bank.csv contains data on 2999 customers. The data include various information collected by the bank on the\n",
    "customer like their demographics, information (age, income, etc.), the customer’s relationship with the bank, the customer response to the last\n",
    "personal loan campaign (Personal Loan) etc.\n",
    "\n",
    "• CASE STUDY:\n",
    "The case is about a bank which has a growing customer base. Majority of these customers are liability customers (depositors) with varying\n",
    "sizes of deposits. The number of customers who are also borrowers (asset customers) is quite small, and the bank is interested in expanding\n",
    "this base rapidly to bring in more loan business and in the process, earn more through the interest on loans. In particular, the management\n",
    "wants to explore ways of converting its liability customers to personal loan customers (while retaining them as depositors). A campaign that\n",
    "the bank ran last year for liability customers showed a healthy conversion rate of over 9% success. This has encouraged the retail marketing\n",
    "department to devise campaigns with better target marketing to increase the success ratio with minimal budget.\n",
    "The department wants to analyze and visualize data that will help them identify the potential customers who have higher probability of\n",
    "purchasing the loan. This will increase the success ratio while at the same time reduce the cost of the campaig"
   ]
  },
  {
   "cell_type": "markdown",
   "metadata": {},
   "source": [
    "• Age - Customer’s age completed in years\n",
    "\n",
    "• Experience - Years of professional experience\n",
    "\n",
    "• Income - Annual income of the customer ($)\n",
    "\n",
    "• Family - Family size of the customer\n",
    "\n",
    "• CCAvg - Avg. spending on credit cards per month ($)\n",
    "\n",
    "• Education - 1: Undergrad, 2: Graduate, 3: Advanced/Professional\n",
    "\n",
    "• Mortgage: Value of house mortgage if any ($)\n",
    "\n",
    "• Personal Loan: Did customer have a securities account with the bank?\n",
    "\n",
    "• Credit card: Does the customer use a credit card issued by bank?"
   ]
  },
  {
   "cell_type": "markdown",
   "metadata": {},
   "source": [
    "# 1. Univariate Analysis: [10 Marks]"
   ]
  },
  {
   "cell_type": "code",
   "execution_count": 1,
   "metadata": {},
   "outputs": [],
   "source": [
    "#A. Import and Read ‘Bank.csv’. [1 Mark]"
   ]
  },
  {
   "cell_type": "code",
   "execution_count": 2,
   "metadata": {},
   "outputs": [],
   "source": [
    "import pandas as pd\n",
    "import seaborn as sns"
   ]
  },
  {
   "cell_type": "code",
   "execution_count": 3,
   "metadata": {},
   "outputs": [],
   "source": [
    "bank=pd.read_csv('Bank.csv')"
   ]
  },
  {
   "cell_type": "code",
   "execution_count": 4,
   "metadata": {},
   "outputs": [
    {
     "data": {
      "text/html": [
       "<div>\n",
       "<style scoped>\n",
       "    .dataframe tbody tr th:only-of-type {\n",
       "        vertical-align: middle;\n",
       "    }\n",
       "\n",
       "    .dataframe tbody tr th {\n",
       "        vertical-align: top;\n",
       "    }\n",
       "\n",
       "    .dataframe thead th {\n",
       "        text-align: right;\n",
       "    }\n",
       "</style>\n",
       "<table border=\"1\" class=\"dataframe\">\n",
       "  <thead>\n",
       "    <tr style=\"text-align: right;\">\n",
       "      <th></th>\n",
       "      <th>Age</th>\n",
       "      <th>Experience</th>\n",
       "      <th>Income</th>\n",
       "      <th>Family</th>\n",
       "      <th>CCAvg</th>\n",
       "      <th>Education</th>\n",
       "      <th>Mortgage</th>\n",
       "      <th>Personal Loan</th>\n",
       "      <th>Securities Account</th>\n",
       "      <th>CreditCard</th>\n",
       "    </tr>\n",
       "  </thead>\n",
       "  <tbody>\n",
       "    <tr>\n",
       "      <th>0</th>\n",
       "      <td>25</td>\n",
       "      <td>1</td>\n",
       "      <td>49</td>\n",
       "      <td>4</td>\n",
       "      <td>1.6</td>\n",
       "      <td>1</td>\n",
       "      <td>0</td>\n",
       "      <td>0</td>\n",
       "      <td>1</td>\n",
       "      <td>0</td>\n",
       "    </tr>\n",
       "    <tr>\n",
       "      <th>1</th>\n",
       "      <td>45</td>\n",
       "      <td>19</td>\n",
       "      <td>34</td>\n",
       "      <td>3</td>\n",
       "      <td>1.5</td>\n",
       "      <td>1</td>\n",
       "      <td>0</td>\n",
       "      <td>0</td>\n",
       "      <td>1</td>\n",
       "      <td>0</td>\n",
       "    </tr>\n",
       "    <tr>\n",
       "      <th>2</th>\n",
       "      <td>39</td>\n",
       "      <td>15</td>\n",
       "      <td>11</td>\n",
       "      <td>1</td>\n",
       "      <td>1.0</td>\n",
       "      <td>1</td>\n",
       "      <td>0</td>\n",
       "      <td>0</td>\n",
       "      <td>0</td>\n",
       "      <td>0</td>\n",
       "    </tr>\n",
       "  </tbody>\n",
       "</table>\n",
       "</div>"
      ],
      "text/plain": [
       "   Age  Experience  Income  Family  CCAvg  Education  Mortgage  Personal Loan  \\\n",
       "0   25           1      49       4    1.6          1         0              0   \n",
       "1   45          19      34       3    1.5          1         0              0   \n",
       "2   39          15      11       1    1.0          1         0              0   \n",
       "\n",
       "   Securities Account  CreditCard  \n",
       "0                   1           0  \n",
       "1                   1           0  \n",
       "2                   0           0  "
      ]
     },
     "execution_count": 4,
     "metadata": {},
     "output_type": "execute_result"
    }
   ],
   "source": [
    "bank.head(3)"
   ]
  },
  {
   "cell_type": "code",
   "execution_count": 5,
   "metadata": {},
   "outputs": [],
   "source": [
    "# B.Identify and share size of the input data. (Number of rows and number of features) [1 Mark]"
   ]
  },
  {
   "cell_type": "code",
   "execution_count": 6,
   "metadata": {},
   "outputs": [
    {
     "name": "stdout",
     "output_type": "stream",
     "text": [
      "<class 'pandas.core.frame.DataFrame'>\n",
      "RangeIndex: 2999 entries, 0 to 2998\n",
      "Data columns (total 10 columns):\n",
      "Age                   2999 non-null int64\n",
      "Experience            2999 non-null int64\n",
      "Income                2999 non-null int64\n",
      "Family                2999 non-null int64\n",
      "CCAvg                 2999 non-null float64\n",
      "Education             2999 non-null int64\n",
      "Mortgage              2999 non-null int64\n",
      "Personal Loan         2999 non-null int64\n",
      "Securities Account    2999 non-null int64\n",
      "CreditCard            2999 non-null int64\n",
      "dtypes: float64(1), int64(9)\n",
      "memory usage: 234.4 KB\n"
     ]
    }
   ],
   "source": [
    "bank.info()"
   ]
  },
  {
   "cell_type": "code",
   "execution_count": 7,
   "metadata": {},
   "outputs": [],
   "source": [
    "# C. Convert the below listed features into categorical features. [1 Mark]\n",
    "# [‘Education’, ’Personal Loan’, ‘Securities Account’, ‘CreditCard’]"
   ]
  },
  {
   "cell_type": "code",
   "execution_count": 8,
   "metadata": {},
   "outputs": [],
   "source": [
    "bank[['Education_Category', 'Personal Loan_Category', 'Securities Account_Category', 'CreditCard_Category']] = bank[['Education', 'Personal Loan', 'Securities Account', 'CreditCard']].astype(str)"
   ]
  },
  {
   "cell_type": "code",
   "execution_count": 9,
   "metadata": {},
   "outputs": [
    {
     "name": "stdout",
     "output_type": "stream",
     "text": [
      "<class 'pandas.core.frame.DataFrame'>\n",
      "RangeIndex: 2999 entries, 0 to 2998\n",
      "Data columns (total 14 columns):\n",
      "Age                            2999 non-null int64\n",
      "Experience                     2999 non-null int64\n",
      "Income                         2999 non-null int64\n",
      "Family                         2999 non-null int64\n",
      "CCAvg                          2999 non-null float64\n",
      "Education                      2999 non-null int64\n",
      "Mortgage                       2999 non-null int64\n",
      "Personal Loan                  2999 non-null int64\n",
      "Securities Account             2999 non-null int64\n",
      "CreditCard                     2999 non-null int64\n",
      "Education_Category             2999 non-null object\n",
      "Personal Loan_Category         2999 non-null object\n",
      "Securities Account_Category    2999 non-null object\n",
      "CreditCard_Category            2999 non-null object\n",
      "dtypes: float64(1), int64(9), object(4)\n",
      "memory usage: 328.1+ KB\n"
     ]
    }
   ],
   "source": [
    "bank.info()"
   ]
  },
  {
   "cell_type": "code",
   "execution_count": 10,
   "metadata": {},
   "outputs": [],
   "source": [
    "# D. What is the mean age of our customer base? [1 Marks]"
   ]
  },
  {
   "cell_type": "code",
   "execution_count": 11,
   "metadata": {},
   "outputs": [
    {
     "data": {
      "text/plain": [
       "45.49116372124041"
      ]
     },
     "execution_count": 11,
     "metadata": {},
     "output_type": "execute_result"
    }
   ],
   "source": [
    "bank['Age'].mean()"
   ]
  },
  {
   "cell_type": "code",
   "execution_count": 12,
   "metadata": {},
   "outputs": [],
   "source": [
    "# E. Observe if there are missing values in the data and report the number of missing values if there are any. [1 Mark]"
   ]
  },
  {
   "cell_type": "code",
   "execution_count": 13,
   "metadata": {},
   "outputs": [
    {
     "data": {
      "text/plain": [
       "<matplotlib.axes._subplots.AxesSubplot at 0x7f57804e7e80>"
      ]
     },
     "execution_count": 13,
     "metadata": {},
     "output_type": "execute_result"
    },
    {
     "data": {
      "image/png": "[encoded data removed]",
      "text/plain": [
       "<Figure size 432x288 with 2 Axes>"
      ]
     },
     "metadata": {
      "needs_background": "light"
     },
     "output_type": "display_data"
    }
   ],
   "source": [
    "sns.heatmap(bank.isnull(),cmap=\"viridis\")"
   ]
  },
  {
   "cell_type": "code",
   "execution_count": 14,
   "metadata": {},
   "outputs": [],
   "source": [
    "#No Missing values"
   ]
  },
  {
   "cell_type": "code",
   "execution_count": 15,
   "metadata": {},
   "outputs": [],
   "source": [
    "# F. Check the frequency distribution of “Personal loan” and report if the classes are balanced or imbalanced. [2 Mark]"
   ]
  },
  {
   "cell_type": "code",
   "execution_count": 16,
   "metadata": {},
   "outputs": [
    {
     "data": {
      "text/plain": [
       "<matplotlib.axes._subplots.AxesSubplot at 0x7f57800e2898>"
      ]
     },
     "execution_count": 16,
     "metadata": {},
     "output_type": "execute_result"
    },
    {
     "data": {
      "image/png": "[encoded data removed]",
      "text/plain": [
       "<Figure size 432x288 with 1 Axes>"
      ]
     },
     "metadata": {
      "needs_background": "light"
     },
     "output_type": "display_data"
    }
   ],
   "source": [
    "sns.countplot(data=bank,x='Personal Loan')"
   ]
  },
  {
   "cell_type": "code",
   "execution_count": 18,
   "metadata": {},
   "outputs": [],
   "source": [
    "# Dataset imbalanced"
   ]
  },
  {
   "cell_type": "code",
   "execution_count": 17,
   "metadata": {},
   "outputs": [],
   "source": [
    "# G. What is the minimum and maximum income of our customer base given in the dataset? [1 Mark]"
   ]
  },
  {
   "cell_type": "code",
   "execution_count": 19,
   "metadata": {},
   "outputs": [
    {
     "data": {
      "text/plain": [
       "205"
      ]
     },
     "execution_count": 19,
     "metadata": {},
     "output_type": "execute_result"
    }
   ],
   "source": [
    "# Maximum Income\n",
    "bank['Income'].max()"
   ]
  },
  {
   "cell_type": "code",
   "execution_count": 20,
   "metadata": {},
   "outputs": [
    {
     "data": {
      "text/plain": [
       "8"
      ]
     },
     "execution_count": 20,
     "metadata": {},
     "output_type": "execute_result"
    }
   ],
   "source": [
    "#Minimum\n",
    "bank['Income'].min()"
   ]
  },
  {
   "cell_type": "code",
   "execution_count": 21,
   "metadata": {},
   "outputs": [],
   "source": [
    "# H. Visualize a boxplot for’Age’ and ‘Experience’ and share your findings for the same. [2 Mark]"
   ]
  },
  {
   "cell_type": "code",
   "execution_count": 28,
   "metadata": {},
   "outputs": [
    {
     "data": {
      "text/plain": [
       "<matplotlib.axes._subplots.AxesSubplot at 0x7f577f4bc630>"
      ]
     },
     "execution_count": 28,
     "metadata": {},
     "output_type": "execute_result"
    },
    {
     "data": {
      "image/png": "[encoded data removed]",
      "text/plain": [
       "<Figure size 432x288 with 1 Axes>"
      ]
     },
     "metadata": {
      "needs_background": "light"
     },
     "output_type": "display_data"
    }
   ],
   "source": [
    "sns.boxplot(bank['Age'],orient='h')"
   ]
  },
  {
   "cell_type": "code",
   "execution_count": 27,
   "metadata": {},
   "outputs": [
    {
     "data": {
      "text/plain": [
       "<matplotlib.axes._subplots.AxesSubplot at 0x7f577f4d5518>"
      ]
     },
     "execution_count": 27,
     "metadata": {},
     "output_type": "execute_result"
    },
    {
     "data": {
      "image/png": "[encoded data removed]",
      "text/plain": [
       "<Figure size 432x288 with 1 Axes>"
      ]
     },
     "metadata": {
      "needs_background": "light"
     },
     "output_type": "display_data"
    }
   ],
   "source": [
    "sns.boxplot(bank['Experience'],orient='v')"
   ]
  },
  {
   "cell_type": "code",
   "execution_count": 26,
   "metadata": {},
   "outputs": [
    {
     "data": {
      "text/plain": [
       "-3"
      ]
     },
     "execution_count": 26,
     "metadata": {},
     "output_type": "execute_result"
    }
   ],
   "source": [
    "bank['Experience'].min()"
   ]
  },
  {
   "cell_type": "markdown",
   "metadata": {},
   "source": [
    "# 2. Bivariate Analysis: [14 Marks]"
   ]
  },
  {
   "cell_type": "code",
   "execution_count": 29,
   "metadata": {},
   "outputs": [],
   "source": [
    "# How much percentage of the customers who use our credit card have a personal loan with us? [3 Marks]"
   ]
  },
  {
   "cell_type": "code",
   "execution_count": null,
   "metadata": {},
   "outputs": [],
   "source": []
  }
 ],
 "metadata": {
  "kernelspec": {
   "display_name": "Python 3",
   "language": "python",
   "name": "python3"
  },
  "language_info": {
   "codemirror_mode": {
    "name": "ipython",
    "version": 3
   },
   "file_extension": ".py",
   "mimetype": "text/x-python",
   "name": "python",
   "nbconvert_exporter": "python",
   "pygments_lexer": "ipython3",
   "version": "3.7.0"
  }
 },
 "nbformat": 4,
 "nbformat_minor": 2
}
