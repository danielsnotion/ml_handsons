{
 "cells": [
  {
   "cell_type": "markdown",
   "metadata": {},
   "source": [
    "# Data Preparation"
   ]
  },
  {
   "cell_type": "code",
   "execution_count": 39,
   "metadata": {},
   "outputs": [],
   "source": [
    "import pandas as pd\n",
    "import seaborn as sns\n",
    "import numpy as np\n",
    "import matplotlib.pyplot as plt"
   ]
  },
  {
   "cell_type": "code",
   "execution_count": 40,
   "metadata": {},
   "outputs": [],
   "source": [
    "df=pd.read_csv('Referral_Join_Prediction.csv')"
   ]
  },
  {
   "cell_type": "code",
   "execution_count": 41,
   "metadata": {},
   "outputs": [],
   "source": [
    "df.drop(columns=['referral_id'],inplace=True)"
   ]
  },
  {
   "cell_type": "markdown",
   "metadata": {},
   "source": [
    "Drop referral_id column as it is not required"
   ]
  },
  {
   "cell_type": "code",
   "execution_count": 42,
   "metadata": {},
   "outputs": [
    {
     "data": {
      "text/html": [
       "<div>\n",
       "<style scoped>\n",
       "    .dataframe tbody tr th:only-of-type {\n",
       "        vertical-align: middle;\n",
       "    }\n",
       "\n",
       "    .dataframe tbody tr th {\n",
       "        vertical-align: top;\n",
       "    }\n",
       "\n",
       "    .dataframe thead th {\n",
       "        text-align: right;\n",
       "    }\n",
       "</style>\n",
       "<table border=\"1\" class=\"dataframe\">\n",
       "  <thead>\n",
       "    <tr style=\"text-align: right;\">\n",
       "      <th></th>\n",
       "      <th>referral_age</th>\n",
       "      <th>referral_exp_in_years</th>\n",
       "      <th>referral_preferred_city</th>\n",
       "      <th>referral_current_salary</th>\n",
       "      <th>referral_10_th_marks</th>\n",
       "      <th>referral_12th_marks</th>\n",
       "      <th>referral_graduation_marks</th>\n",
       "      <th>referral_post_grad_marks</th>\n",
       "      <th>referral_gender</th>\n",
       "      <th>referral_expected_sal</th>\n",
       "      <th>referral_aptitude_numerical_score</th>\n",
       "      <th>referral_aptitude_verbal_score</th>\n",
       "      <th>referral_aptitude_reasoning_score</th>\n",
       "      <th>referral_Management_Interview_score</th>\n",
       "      <th>referral_HR_Interview_score</th>\n",
       "      <th>Salary offered</th>\n",
       "      <th>Emp_Salary_Grade</th>\n",
       "      <th>Joined</th>\n",
       "    </tr>\n",
       "  </thead>\n",
       "  <tbody>\n",
       "    <tr>\n",
       "      <th>0</th>\n",
       "      <td>28</td>\n",
       "      <td>5.0</td>\n",
       "      <td>Delhi</td>\n",
       "      <td>106</td>\n",
       "      <td>89.0</td>\n",
       "      <td>72</td>\n",
       "      <td>87.0</td>\n",
       "      <td>83.0</td>\n",
       "      <td>Male</td>\n",
       "      <td>123.0</td>\n",
       "      <td>10.00</td>\n",
       "      <td>33.04</td>\n",
       "      <td>?</td>\n",
       "      <td>10.0</td>\n",
       "      <td>3</td>\n",
       "      <td>141</td>\n",
       "      <td>EL0</td>\n",
       "      <td>Yes</td>\n",
       "    </tr>\n",
       "    <tr>\n",
       "      <th>1</th>\n",
       "      <td>26</td>\n",
       "      <td>3.0</td>\n",
       "      <td>Pune</td>\n",
       "      <td>65</td>\n",
       "      <td>63.0</td>\n",
       "      <td>77</td>\n",
       "      <td>94.0</td>\n",
       "      <td>85.0</td>\n",
       "      <td>Male</td>\n",
       "      <td>83.0</td>\n",
       "      <td>6.09</td>\n",
       "      <td>27.39</td>\n",
       "      <td>20.87</td>\n",
       "      <td>10.0</td>\n",
       "      <td>10</td>\n",
       "      <td>80</td>\n",
       "      <td>ML0</td>\n",
       "      <td>Yes</td>\n",
       "    </tr>\n",
       "    <tr>\n",
       "      <th>2</th>\n",
       "      <td>23</td>\n",
       "      <td>2.0</td>\n",
       "      <td>Mumbai</td>\n",
       "      <td>45</td>\n",
       "      <td>92.0</td>\n",
       "      <td>85</td>\n",
       "      <td>84.0</td>\n",
       "      <td>72.0</td>\n",
       "      <td>Male</td>\n",
       "      <td>62.0</td>\n",
       "      <td>41.74</td>\n",
       "      <td>2.61</td>\n",
       "      <td>40.00</td>\n",
       "      <td>2.0</td>\n",
       "      <td>1</td>\n",
       "      <td>60</td>\n",
       "      <td>EL0</td>\n",
       "      <td>No</td>\n",
       "    </tr>\n",
       "  </tbody>\n",
       "</table>\n",
       "</div>"
      ],
      "text/plain": [
       "   referral_age  referral_exp_in_years referral_preferred_city  \\\n",
       "0            28                    5.0                   Delhi   \n",
       "1            26                    3.0                    Pune   \n",
       "2            23                    2.0                  Mumbai   \n",
       "\n",
       "   referral_current_salary  referral_10_th_marks  referral_12th_marks  \\\n",
       "0                      106                  89.0                   72   \n",
       "1                       65                  63.0                   77   \n",
       "2                       45                  92.0                   85   \n",
       "\n",
       "   referral_graduation_marks  referral_post_grad_marks referral_gender  \\\n",
       "0                       87.0                      83.0            Male   \n",
       "1                       94.0                      85.0            Male   \n",
       "2                       84.0                      72.0            Male   \n",
       "\n",
       "   referral_expected_sal referral_aptitude_numerical_score  \\\n",
       "0                  123.0                             10.00   \n",
       "1                   83.0                              6.09   \n",
       "2                   62.0                             41.74   \n",
       "\n",
       "   referral_aptitude_verbal_score referral_aptitude_reasoning_score  \\\n",
       "0                           33.04                                 ?   \n",
       "1                           27.39                             20.87   \n",
       "2                            2.61                             40.00   \n",
       "\n",
       "   referral_Management_Interview_score  referral_HR_Interview_score  \\\n",
       "0                                 10.0                            3   \n",
       "1                                 10.0                           10   \n",
       "2                                  2.0                            1   \n",
       "\n",
       "   Salary offered Emp_Salary_Grade Joined  \n",
       "0             141              EL0    Yes  \n",
       "1              80              ML0    Yes  \n",
       "2              60              EL0     No  "
      ]
     },
     "execution_count": 42,
     "metadata": {},
     "output_type": "execute_result"
    }
   ],
   "source": [
    "df.head(3)"
   ]
  },
  {
   "cell_type": "code",
   "execution_count": 43,
   "metadata": {},
   "outputs": [
    {
     "data": {
      "text/html": [
       "<div>\n",
       "<style scoped>\n",
       "    .dataframe tbody tr th:only-of-type {\n",
       "        vertical-align: middle;\n",
       "    }\n",
       "\n",
       "    .dataframe tbody tr th {\n",
       "        vertical-align: top;\n",
       "    }\n",
       "\n",
       "    .dataframe thead th {\n",
       "        text-align: right;\n",
       "    }\n",
       "</style>\n",
       "<table border=\"1\" class=\"dataframe\">\n",
       "  <thead>\n",
       "    <tr style=\"text-align: right;\">\n",
       "      <th></th>\n",
       "      <th>referral_age</th>\n",
       "      <th>referral_exp_in_years</th>\n",
       "      <th>referral_preferred_city</th>\n",
       "      <th>referral_current_salary</th>\n",
       "      <th>referral_10_th_marks</th>\n",
       "      <th>referral_12th_marks</th>\n",
       "      <th>referral_graduation_marks</th>\n",
       "      <th>referral_post_grad_marks</th>\n",
       "      <th>referral_gender</th>\n",
       "      <th>referral_expected_sal</th>\n",
       "      <th>referral_aptitude_numerical_score</th>\n",
       "      <th>referral_aptitude_verbal_score</th>\n",
       "      <th>referral_aptitude_reasoning_score</th>\n",
       "      <th>referral_Management_Interview_score</th>\n",
       "      <th>referral_HR_Interview_score</th>\n",
       "      <th>Salary offered</th>\n",
       "      <th>Emp_Salary_Grade</th>\n",
       "      <th>Joined</th>\n",
       "    </tr>\n",
       "  </thead>\n",
       "  <tbody>\n",
       "  </tbody>\n",
       "</table>\n",
       "</div>"
      ],
      "text/plain": [
       "Empty DataFrame\n",
       "Columns: [referral_age, referral_exp_in_years, referral_preferred_city, referral_current_salary, referral_10_th_marks, referral_12th_marks, referral_graduation_marks, referral_post_grad_marks, referral_gender, referral_expected_sal, referral_aptitude_numerical_score, referral_aptitude_verbal_score, referral_aptitude_reasoning_score, referral_Management_Interview_score, referral_HR_Interview_score, Salary offered, Emp_Salary_Grade, Joined]\n",
       "Index: []"
      ]
     },
     "execution_count": 43,
     "metadata": {},
     "output_type": "execute_result"
    }
   ],
   "source": [
    "df['referral_10_th_marks'] = np.where(df['referral_10_th_marks'].isnull(),df['referral_10_th_marks'].mean(),df['referral_10_th_marks'])\n",
    "df['referral_10_th_marks'] = np.where(df['referral_10_th_marks'] < 0,df['referral_10_th_marks'].mean(),df['referral_10_th_marks'])\n",
    "df['referral_graduation_marks'] = np.where((df['referral_graduation_marks'].isnull()) | (df['referral_graduation_marks']< 0 ),df['referral_graduation_marks'].mean(),df['referral_10_th_marks'])\n",
    "df[(df['referral_graduation_marks'].isnull()) | (df['referral_graduation_marks']< 0 )]"
   ]
  },
  {
   "cell_type": "code",
   "execution_count": 44,
   "metadata": {},
   "outputs": [],
   "source": [
    "df['referral_aptitude_numerical_score'] = np.where(df['referral_aptitude_numerical_score'].isnull(),-1,df['referral_aptitude_numerical_score'])\n",
    "df['referral_aptitude_numerical_score'] = np.where(df['referral_aptitude_numerical_score']=='?',-1,df['referral_aptitude_numerical_score'])\n",
    "\n",
    "df['referral_aptitude_numerical_score'] =df['referral_aptitude_numerical_score'].astype(float)\n",
    "\n",
    "df['referral_aptitude_reasoning_score'] = np.where(df['referral_aptitude_reasoning_score'].isnull(),-1,df['referral_aptitude_reasoning_score'])\n",
    "df['referral_aptitude_reasoning_score'] = np.where(df['referral_aptitude_reasoning_score']=='?',-1,df['referral_aptitude_reasoning_score'])\n",
    "\n",
    "df['referral_aptitude_reasoning_score'] =df['referral_aptitude_reasoning_score'].astype(float)"
   ]
  },
  {
   "cell_type": "code",
   "execution_count": 45,
   "metadata": {},
   "outputs": [],
   "source": [
    "cols = ['referral_post_grad_marks','referral_expected_sal','referral_expected_sal','referral_aptitude_numerical_score','referral_aptitude_verbal_score','referral_aptitude_reasoning_score','referral_Management_Interview_score']\n",
    "\n",
    "for col in cols:\n",
    "    df[col] = np.where((df[col].isnull()) | (df[col] < 0),df[col].mean(),df[col])"
   ]
  },
  {
   "cell_type": "code",
   "execution_count": 46,
   "metadata": {},
   "outputs": [
    {
     "data": {
      "text/plain": [
       "referral_age                           0\n",
       "referral_exp_in_years                  0\n",
       "referral_preferred_city                0\n",
       "referral_current_salary                0\n",
       "referral_10_th_marks                   0\n",
       "referral_12th_marks                    0\n",
       "referral_graduation_marks              0\n",
       "referral_post_grad_marks               0\n",
       "referral_gender                        0\n",
       "referral_expected_sal                  0\n",
       "referral_aptitude_numerical_score      0\n",
       "referral_aptitude_verbal_score         0\n",
       "referral_aptitude_reasoning_score      0\n",
       "referral_Management_Interview_score    0\n",
       "referral_HR_Interview_score            0\n",
       "Salary offered                         0\n",
       "Emp_Salary_Grade                       0\n",
       "Joined                                 0\n",
       "dtype: int64"
      ]
     },
     "execution_count": 46,
     "metadata": {},
     "output_type": "execute_result"
    }
   ],
   "source": [
    "df.isnull().sum()"
   ]
  },
  {
   "cell_type": "code",
   "execution_count": null,
   "metadata": {},
   "outputs": [],
   "source": []
  },
  {
   "cell_type": "code",
   "execution_count": null,
   "metadata": {},
   "outputs": [],
   "source": []
  },
  {
   "cell_type": "code",
   "execution_count": null,
   "metadata": {},
   "outputs": [],
   "source": []
  },
  {
   "cell_type": "code",
   "execution_count": 47,
   "metadata": {},
   "outputs": [],
   "source": [
    "num = []\n",
    "cat = []\n",
    "\n",
    "for col in df.columns:\n",
    "    if df[col].dtype=='object':\n",
    "        cat.append(col)\n",
    "    else :\n",
    "        num.append(col)\n"
   ]
  },
  {
   "cell_type": "code",
   "execution_count": 48,
   "metadata": {},
   "outputs": [
    {
     "name": "stdout",
     "output_type": "stream",
     "text": [
      "Categorical Columns : ['referral_preferred_city', 'referral_gender', 'Emp_Salary_Grade', 'Joined']\n"
     ]
    }
   ],
   "source": [
    "print('Categorical Columns : {}'.format(cat))"
   ]
  },
  {
   "cell_type": "code",
   "execution_count": 49,
   "metadata": {},
   "outputs": [
    {
     "name": "stdout",
     "output_type": "stream",
     "text": [
      "Numerical Columns : ['referral_age', 'referral_exp_in_years', 'referral_current_salary', 'referral_10_th_marks', 'referral_12th_marks', 'referral_graduation_marks', 'referral_post_grad_marks', 'referral_expected_sal', 'referral_aptitude_numerical_score', 'referral_aptitude_verbal_score', 'referral_aptitude_reasoning_score', 'referral_Management_Interview_score', 'referral_HR_Interview_score', 'Salary offered']\n"
     ]
    }
   ],
   "source": [
    "print('Numerical Columns : {}'.format(num))"
   ]
  },
  {
   "cell_type": "markdown",
   "metadata": {},
   "source": [
    "# Scaling Method 1 (zscore)"
   ]
  },
  {
   "cell_type": "code",
   "execution_count": 34,
   "metadata": {},
   "outputs": [],
   "source": [
    "from scipy.stats import zscore\n"
   ]
  },
  {
   "cell_type": "code",
   "execution_count": 50,
   "metadata": {},
   "outputs": [],
   "source": [
    "z_scaled=df[num].apply(zscore)"
   ]
  },
  {
   "cell_type": "code",
   "execution_count": 55,
   "metadata": {},
   "outputs": [
    {
     "data": {
      "text/html": [
       "<div>\n",
       "<style scoped>\n",
       "    .dataframe tbody tr th:only-of-type {\n",
       "        vertical-align: middle;\n",
       "    }\n",
       "\n",
       "    .dataframe tbody tr th {\n",
       "        vertical-align: top;\n",
       "    }\n",
       "\n",
       "    .dataframe thead th {\n",
       "        text-align: right;\n",
       "    }\n",
       "</style>\n",
       "<table border=\"1\" class=\"dataframe\">\n",
       "  <thead>\n",
       "    <tr style=\"text-align: right;\">\n",
       "      <th></th>\n",
       "      <th>referral_age</th>\n",
       "      <th>referral_exp_in_years</th>\n",
       "      <th>referral_current_salary</th>\n",
       "      <th>referral_10_th_marks</th>\n",
       "      <th>referral_12th_marks</th>\n",
       "      <th>referral_graduation_marks</th>\n",
       "      <th>referral_post_grad_marks</th>\n",
       "      <th>referral_expected_sal</th>\n",
       "      <th>referral_aptitude_numerical_score</th>\n",
       "      <th>referral_aptitude_verbal_score</th>\n",
       "      <th>referral_aptitude_reasoning_score</th>\n",
       "      <th>referral_Management_Interview_score</th>\n",
       "      <th>referral_HR_Interview_score</th>\n",
       "      <th>Salary offered</th>\n",
       "    </tr>\n",
       "  </thead>\n",
       "  <tbody>\n",
       "    <tr>\n",
       "      <th>count</th>\n",
       "      <td>4.990000e+02</td>\n",
       "      <td>4.990000e+02</td>\n",
       "      <td>4.990000e+02</td>\n",
       "      <td>4.990000e+02</td>\n",
       "      <td>4.990000e+02</td>\n",
       "      <td>4.990000e+02</td>\n",
       "      <td>4.990000e+02</td>\n",
       "      <td>4.990000e+02</td>\n",
       "      <td>4.990000e+02</td>\n",
       "      <td>4.990000e+02</td>\n",
       "      <td>4.990000e+02</td>\n",
       "      <td>4.990000e+02</td>\n",
       "      <td>4.990000e+02</td>\n",
       "      <td>4.990000e+02</td>\n",
       "    </tr>\n",
       "    <tr>\n",
       "      <th>mean</th>\n",
       "      <td>-1.085749e-16</td>\n",
       "      <td>9.878538e-17</td>\n",
       "      <td>-4.449792e-17</td>\n",
       "      <td>1.168515e-15</td>\n",
       "      <td>5.842576e-16</td>\n",
       "      <td>1.181420e-16</td>\n",
       "      <td>-8.080822e-16</td>\n",
       "      <td>3.666628e-16</td>\n",
       "      <td>4.583285e-17</td>\n",
       "      <td>-1.184201e-16</td>\n",
       "      <td>-1.263741e-16</td>\n",
       "      <td>-1.174745e-16</td>\n",
       "      <td>-2.227677e-17</td>\n",
       "      <td>9.166571e-17</td>\n",
       "    </tr>\n",
       "    <tr>\n",
       "      <th>std</th>\n",
       "      <td>1.001004e+00</td>\n",
       "      <td>1.001004e+00</td>\n",
       "      <td>1.001004e+00</td>\n",
       "      <td>1.001004e+00</td>\n",
       "      <td>1.001004e+00</td>\n",
       "      <td>1.001004e+00</td>\n",
       "      <td>1.001004e+00</td>\n",
       "      <td>1.001004e+00</td>\n",
       "      <td>1.001004e+00</td>\n",
       "      <td>1.001004e+00</td>\n",
       "      <td>1.001004e+00</td>\n",
       "      <td>1.001004e+00</td>\n",
       "      <td>1.001004e+00</td>\n",
       "      <td>1.001004e+00</td>\n",
       "    </tr>\n",
       "    <tr>\n",
       "      <th>min</th>\n",
       "      <td>-2.498982e+00</td>\n",
       "      <td>-1.171107e+00</td>\n",
       "      <td>-1.170604e+00</td>\n",
       "      <td>-1.656266e+00</td>\n",
       "      <td>-5.995608e+00</td>\n",
       "      <td>-1.655236e+00</td>\n",
       "      <td>-1.746989e+00</td>\n",
       "      <td>-1.173312e+00</td>\n",
       "      <td>-1.644252e+00</td>\n",
       "      <td>-1.754718e+00</td>\n",
       "      <td>-1.754688e+00</td>\n",
       "      <td>-1.622621e+00</td>\n",
       "      <td>-8.464606e-01</td>\n",
       "      <td>-1.179563e+00</td>\n",
       "    </tr>\n",
       "    <tr>\n",
       "      <th>25%</th>\n",
       "      <td>-7.190903e-01</td>\n",
       "      <td>-7.875531e-01</td>\n",
       "      <td>-7.897520e-01</td>\n",
       "      <td>-8.970373e-01</td>\n",
       "      <td>-7.763793e-01</td>\n",
       "      <td>-8.950994e-01</td>\n",
       "      <td>-8.863596e-01</td>\n",
       "      <td>-7.975362e-01</td>\n",
       "      <td>-8.783234e-01</td>\n",
       "      <td>-8.277956e-01</td>\n",
       "      <td>-7.971391e-01</td>\n",
       "      <td>-9.369484e-01</td>\n",
       "      <td>-4.824935e-01</td>\n",
       "      <td>-7.990954e-01</td>\n",
       "    </tr>\n",
       "    <tr>\n",
       "      <th>50%</th>\n",
       "      <td>-7.133833e-03</td>\n",
       "      <td>-2.044594e-02</td>\n",
       "      <td>-2.804869e-02</td>\n",
       "      <td>5.199914e-02</td>\n",
       "      <td>-4.385598e-02</td>\n",
       "      <td>-1.189864e-02</td>\n",
       "      <td>-2.573054e-02</td>\n",
       "      <td>-9.722615e-02</td>\n",
       "      <td>-4.356474e-02</td>\n",
       "      <td>-8.235822e-03</td>\n",
       "      <td>-1.674821e-02</td>\n",
       "      <td>9.156072e-02</td>\n",
       "      <td>-1.185264e-01</td>\n",
       "      <td>-1.913773e-02</td>\n",
       "    </tr>\n",
       "    <tr>\n",
       "      <th>75%</th>\n",
       "      <td>7.048227e-01</td>\n",
       "      <td>7.466613e-01</td>\n",
       "      <td>7.526972e-01</td>\n",
       "      <td>9.061319e-01</td>\n",
       "      <td>8.717982e-01</td>\n",
       "      <td>9.102248e-01</td>\n",
       "      <td>9.783367e-01</td>\n",
       "      <td>5.860032e-01</td>\n",
       "      <td>8.788316e-01</td>\n",
       "      <td>8.826257e-01</td>\n",
       "      <td>7.957852e-01</td>\n",
       "      <td>7.772334e-01</td>\n",
       "      <td>4.274243e-01</td>\n",
       "      <td>7.417966e-01</td>\n",
       "    </tr>\n",
       "    <tr>\n",
       "      <th>max</th>\n",
       "      <td>1.352004e+01</td>\n",
       "      <td>1.455459e+01</td>\n",
       "      <td>1.459665e+01</td>\n",
       "      <td>2.424590e+00</td>\n",
       "      <td>1.604322e+00</td>\n",
       "      <td>2.430498e+00</td>\n",
       "      <td>2.173655e+00</td>\n",
       "      <td>1.300370e+01</td>\n",
       "      <td>1.801228e+00</td>\n",
       "      <td>1.773487e+00</td>\n",
       "      <td>4.880877e+00</td>\n",
       "      <td>1.462906e+00</td>\n",
       "      <td>1.917173e+01</td>\n",
       "      <td>1.457178e+01</td>\n",
       "    </tr>\n",
       "  </tbody>\n",
       "</table>\n",
       "</div>"
      ],
      "text/plain": [
       "       referral_age  referral_exp_in_years  referral_current_salary  \\\n",
       "count  4.990000e+02           4.990000e+02             4.990000e+02   \n",
       "mean  -1.085749e-16           9.878538e-17            -4.449792e-17   \n",
       "std    1.001004e+00           1.001004e+00             1.001004e+00   \n",
       "min   -2.498982e+00          -1.171107e+00            -1.170604e+00   \n",
       "25%   -7.190903e-01          -7.875531e-01            -7.897520e-01   \n",
       "50%   -7.133833e-03          -2.044594e-02            -2.804869e-02   \n",
       "75%    7.048227e-01           7.466613e-01             7.526972e-01   \n",
       "max    1.352004e+01           1.455459e+01             1.459665e+01   \n",
       "\n",
       "       referral_10_th_marks  referral_12th_marks  referral_graduation_marks  \\\n",
       "count          4.990000e+02         4.990000e+02               4.990000e+02   \n",
       "mean           1.168515e-15         5.842576e-16               1.181420e-16   \n",
       "std            1.001004e+00         1.001004e+00               1.001004e+00   \n",
       "min           -1.656266e+00        -5.995608e+00              -1.655236e+00   \n",
       "25%           -8.970373e-01        -7.763793e-01              -8.950994e-01   \n",
       "50%            5.199914e-02        -4.385598e-02              -1.189864e-02   \n",
       "75%            9.061319e-01         8.717982e-01               9.102248e-01   \n",
       "max            2.424590e+00         1.604322e+00               2.430498e+00   \n",
       "\n",
       "       referral_post_grad_marks  referral_expected_sal  \\\n",
       "count              4.990000e+02           4.990000e+02   \n",
       "mean              -8.080822e-16           3.666628e-16   \n",
       "std                1.001004e+00           1.001004e+00   \n",
       "min               -1.746989e+00          -1.173312e+00   \n",
       "25%               -8.863596e-01          -7.975362e-01   \n",
       "50%               -2.573054e-02          -9.722615e-02   \n",
       "75%                9.783367e-01           5.860032e-01   \n",
       "max                2.173655e+00           1.300370e+01   \n",
       "\n",
       "       referral_aptitude_numerical_score  referral_aptitude_verbal_score  \\\n",
       "count                       4.990000e+02                    4.990000e+02   \n",
       "mean                        4.583285e-17                   -1.184201e-16   \n",
       "std                         1.001004e+00                    1.001004e+00   \n",
       "min                        -1.644252e+00                   -1.754718e+00   \n",
       "25%                        -8.783234e-01                   -8.277956e-01   \n",
       "50%                        -4.356474e-02                   -8.235822e-03   \n",
       "75%                         8.788316e-01                    8.826257e-01   \n",
       "max                         1.801228e+00                    1.773487e+00   \n",
       "\n",
       "       referral_aptitude_reasoning_score  referral_Management_Interview_score  \\\n",
       "count                       4.990000e+02                         4.990000e+02   \n",
       "mean                       -1.263741e-16                        -1.174745e-16   \n",
       "std                         1.001004e+00                         1.001004e+00   \n",
       "min                        -1.754688e+00                        -1.622621e+00   \n",
       "25%                        -7.971391e-01                        -9.369484e-01   \n",
       "50%                        -1.674821e-02                         9.156072e-02   \n",
       "75%                         7.957852e-01                         7.772334e-01   \n",
       "max                         4.880877e+00                         1.462906e+00   \n",
       "\n",
       "       referral_HR_Interview_score  Salary offered  \n",
       "count                 4.990000e+02    4.990000e+02  \n",
       "mean                 -2.227677e-17    9.166571e-17  \n",
       "std                   1.001004e+00    1.001004e+00  \n",
       "min                  -8.464606e-01   -1.179563e+00  \n",
       "25%                  -4.824935e-01   -7.990954e-01  \n",
       "50%                  -1.185264e-01   -1.913773e-02  \n",
       "75%                   4.274243e-01    7.417966e-01  \n",
       "max                   1.917173e+01    1.457178e+01  "
      ]
     },
     "execution_count": 55,
     "metadata": {},
     "output_type": "execute_result"
    }
   ],
   "source": [
    "z_scaled.describe()"
   ]
  },
  {
   "cell_type": "code",
   "execution_count": 63,
   "metadata": {},
   "outputs": [
    {
     "name": "stderr",
     "output_type": "stream",
     "text": [
      "/home/daniel/anaconda3/lib/python3.7/site-packages/scipy/stats/stats.py:1713: FutureWarning: Using a non-tuple sequence for multidimensional indexing is deprecated; use `arr[tuple(seq)]` instead of `arr[seq]`. In the future this will be interpreted as an array index, `arr[np.array(seq)]`, which will result either in an error or a different result.\n",
      "  return np.add.reduce(sorted[indexer] * weights, axis=axis) / sumval\n"
     ]
    },
    {
     "data": {
      "text/plain": [
       "<matplotlib.axes._subplots.AxesSubplot at 0x7f9efe12bb70>"
      ]
     },
     "execution_count": 63,
     "metadata": {},
     "output_type": "execute_result"
    },
    {
     "data": {
      "image/png": "[encoded data removed]",
      "text/plain": [
       "<Figure size 432x288 with 1 Axes>"
      ]
     },
     "metadata": {
      "needs_background": "light"
     },
     "output_type": "display_data"
    }
   ],
   "source": [
    "# Distribution before zscore encoding\n",
    "sns.distplot(df['referral_current_salary'],bins=5)"
   ]
  },
  {
   "cell_type": "code",
   "execution_count": 64,
   "metadata": {},
   "outputs": [
    {
     "name": "stderr",
     "output_type": "stream",
     "text": [
      "/home/daniel/anaconda3/lib/python3.7/site-packages/scipy/stats/stats.py:1713: FutureWarning: Using a non-tuple sequence for multidimensional indexing is deprecated; use `arr[tuple(seq)]` instead of `arr[seq]`. In the future this will be interpreted as an array index, `arr[np.array(seq)]`, which will result either in an error or a different result.\n",
      "  return np.add.reduce(sorted[indexer] * weights, axis=axis) / sumval\n"
     ]
    },
    {
     "data": {
      "text/plain": [
       "<matplotlib.axes._subplots.AxesSubplot at 0x7f9efe0430f0>"
      ]
     },
     "execution_count": 64,
     "metadata": {},
     "output_type": "execute_result"
    },
    {
     "data": {
      "image/png": "[encoded data removed]",
      "text/plain": [
       "<Figure size 432x288 with 1 Axes>"
      ]
     },
     "metadata": {
      "needs_background": "light"
     },
     "output_type": "display_data"
    }
   ],
   "source": [
    "# Distribution after zscore encoding\n",
    "sns.distplot(z_scaled['referral_current_salary'],bins=5)"
   ]
  },
  {
   "cell_type": "markdown",
   "metadata": {},
   "source": [
    "No diffrences in data spread but scale have changed."
   ]
  },
  {
   "cell_type": "markdown",
   "metadata": {},
   "source": [
    "# Scaling Method 2 (StandardScalar)"
   ]
  },
  {
   "cell_type": "code",
   "execution_count": 52,
   "metadata": {},
   "outputs": [],
   "source": [
    "from sklearn.preprocessing import StandardScaler"
   ]
  },
  {
   "cell_type": "code",
   "execution_count": 53,
   "metadata": {},
   "outputs": [],
   "source": [
    "std = StandardScaler()"
   ]
  },
  {
   "cell_type": "code",
   "execution_count": 54,
   "metadata": {},
   "outputs": [],
   "source": [
    "std_scaled = std.fit_transform(df[num])"
   ]
  },
  {
   "cell_type": "code",
   "execution_count": 57,
   "metadata": {},
   "outputs": [],
   "source": [
    "std_scaled=pd.DataFrame(std_scaled,columns=df[num].columns)"
   ]
  },
  {
   "cell_type": "code",
   "execution_count": 58,
   "metadata": {},
   "outputs": [
    {
     "data": {
      "text/html": [
       "<div>\n",
       "<style scoped>\n",
       "    .dataframe tbody tr th:only-of-type {\n",
       "        vertical-align: middle;\n",
       "    }\n",
       "\n",
       "    .dataframe tbody tr th {\n",
       "        vertical-align: top;\n",
       "    }\n",
       "\n",
       "    .dataframe thead th {\n",
       "        text-align: right;\n",
       "    }\n",
       "</style>\n",
       "<table border=\"1\" class=\"dataframe\">\n",
       "  <thead>\n",
       "    <tr style=\"text-align: right;\">\n",
       "      <th></th>\n",
       "      <th>referral_age</th>\n",
       "      <th>referral_exp_in_years</th>\n",
       "      <th>referral_current_salary</th>\n",
       "      <th>referral_10_th_marks</th>\n",
       "      <th>referral_12th_marks</th>\n",
       "      <th>referral_graduation_marks</th>\n",
       "      <th>referral_post_grad_marks</th>\n",
       "      <th>referral_expected_sal</th>\n",
       "      <th>referral_aptitude_numerical_score</th>\n",
       "      <th>referral_aptitude_verbal_score</th>\n",
       "      <th>referral_aptitude_reasoning_score</th>\n",
       "      <th>referral_Management_Interview_score</th>\n",
       "      <th>referral_HR_Interview_score</th>\n",
       "      <th>Salary offered</th>\n",
       "    </tr>\n",
       "  </thead>\n",
       "  <tbody>\n",
       "    <tr>\n",
       "      <th>count</th>\n",
       "      <td>4.990000e+02</td>\n",
       "      <td>4.990000e+02</td>\n",
       "      <td>4.990000e+02</td>\n",
       "      <td>4.990000e+02</td>\n",
       "      <td>4.990000e+02</td>\n",
       "      <td>4.990000e+02</td>\n",
       "      <td>4.990000e+02</td>\n",
       "      <td>4.990000e+02</td>\n",
       "      <td>4.990000e+02</td>\n",
       "      <td>4.990000e+02</td>\n",
       "      <td>4.990000e+02</td>\n",
       "      <td>4.990000e+02</td>\n",
       "      <td>4.990000e+02</td>\n",
       "      <td>4.990000e+02</td>\n",
       "    </tr>\n",
       "    <tr>\n",
       "      <th>mean</th>\n",
       "      <td>-1.085749e-16</td>\n",
       "      <td>9.878538e-17</td>\n",
       "      <td>-4.449792e-17</td>\n",
       "      <td>1.168515e-15</td>\n",
       "      <td>5.842576e-16</td>\n",
       "      <td>1.181420e-16</td>\n",
       "      <td>-8.080822e-16</td>\n",
       "      <td>3.666628e-16</td>\n",
       "      <td>4.583285e-17</td>\n",
       "      <td>-1.184201e-16</td>\n",
       "      <td>-1.263741e-16</td>\n",
       "      <td>-1.174745e-16</td>\n",
       "      <td>-2.227677e-17</td>\n",
       "      <td>9.166571e-17</td>\n",
       "    </tr>\n",
       "    <tr>\n",
       "      <th>std</th>\n",
       "      <td>1.001004e+00</td>\n",
       "      <td>1.001004e+00</td>\n",
       "      <td>1.001004e+00</td>\n",
       "      <td>1.001004e+00</td>\n",
       "      <td>1.001004e+00</td>\n",
       "      <td>1.001004e+00</td>\n",
       "      <td>1.001004e+00</td>\n",
       "      <td>1.001004e+00</td>\n",
       "      <td>1.001004e+00</td>\n",
       "      <td>1.001004e+00</td>\n",
       "      <td>1.001004e+00</td>\n",
       "      <td>1.001004e+00</td>\n",
       "      <td>1.001004e+00</td>\n",
       "      <td>1.001004e+00</td>\n",
       "    </tr>\n",
       "    <tr>\n",
       "      <th>min</th>\n",
       "      <td>-2.498982e+00</td>\n",
       "      <td>-1.171107e+00</td>\n",
       "      <td>-1.170604e+00</td>\n",
       "      <td>-1.656266e+00</td>\n",
       "      <td>-5.995608e+00</td>\n",
       "      <td>-1.655236e+00</td>\n",
       "      <td>-1.746989e+00</td>\n",
       "      <td>-1.173312e+00</td>\n",
       "      <td>-1.644252e+00</td>\n",
       "      <td>-1.754718e+00</td>\n",
       "      <td>-1.754688e+00</td>\n",
       "      <td>-1.622621e+00</td>\n",
       "      <td>-8.464606e-01</td>\n",
       "      <td>-1.179563e+00</td>\n",
       "    </tr>\n",
       "    <tr>\n",
       "      <th>25%</th>\n",
       "      <td>-7.190903e-01</td>\n",
       "      <td>-7.875531e-01</td>\n",
       "      <td>-7.897520e-01</td>\n",
       "      <td>-8.970373e-01</td>\n",
       "      <td>-7.763793e-01</td>\n",
       "      <td>-8.950994e-01</td>\n",
       "      <td>-8.863596e-01</td>\n",
       "      <td>-7.975362e-01</td>\n",
       "      <td>-8.783234e-01</td>\n",
       "      <td>-8.277956e-01</td>\n",
       "      <td>-7.971391e-01</td>\n",
       "      <td>-9.369484e-01</td>\n",
       "      <td>-4.824935e-01</td>\n",
       "      <td>-7.990954e-01</td>\n",
       "    </tr>\n",
       "    <tr>\n",
       "      <th>50%</th>\n",
       "      <td>-7.133833e-03</td>\n",
       "      <td>-2.044594e-02</td>\n",
       "      <td>-2.804869e-02</td>\n",
       "      <td>5.199914e-02</td>\n",
       "      <td>-4.385598e-02</td>\n",
       "      <td>-1.189864e-02</td>\n",
       "      <td>-2.573054e-02</td>\n",
       "      <td>-9.722615e-02</td>\n",
       "      <td>-4.356474e-02</td>\n",
       "      <td>-8.235822e-03</td>\n",
       "      <td>-1.674821e-02</td>\n",
       "      <td>9.156072e-02</td>\n",
       "      <td>-1.185264e-01</td>\n",
       "      <td>-1.913773e-02</td>\n",
       "    </tr>\n",
       "    <tr>\n",
       "      <th>75%</th>\n",
       "      <td>7.048227e-01</td>\n",
       "      <td>7.466613e-01</td>\n",
       "      <td>7.526972e-01</td>\n",
       "      <td>9.061319e-01</td>\n",
       "      <td>8.717982e-01</td>\n",
       "      <td>9.102248e-01</td>\n",
       "      <td>9.783367e-01</td>\n",
       "      <td>5.860032e-01</td>\n",
       "      <td>8.788316e-01</td>\n",
       "      <td>8.826257e-01</td>\n",
       "      <td>7.957852e-01</td>\n",
       "      <td>7.772334e-01</td>\n",
       "      <td>4.274243e-01</td>\n",
       "      <td>7.417966e-01</td>\n",
       "    </tr>\n",
       "    <tr>\n",
       "      <th>max</th>\n",
       "      <td>1.352004e+01</td>\n",
       "      <td>1.455459e+01</td>\n",
       "      <td>1.459665e+01</td>\n",
       "      <td>2.424590e+00</td>\n",
       "      <td>1.604322e+00</td>\n",
       "      <td>2.430498e+00</td>\n",
       "      <td>2.173655e+00</td>\n",
       "      <td>1.300370e+01</td>\n",
       "      <td>1.801228e+00</td>\n",
       "      <td>1.773487e+00</td>\n",
       "      <td>4.880877e+00</td>\n",
       "      <td>1.462906e+00</td>\n",
       "      <td>1.917173e+01</td>\n",
       "      <td>1.457178e+01</td>\n",
       "    </tr>\n",
       "  </tbody>\n",
       "</table>\n",
       "</div>"
      ],
      "text/plain": [
       "       referral_age  referral_exp_in_years  referral_current_salary  \\\n",
       "count  4.990000e+02           4.990000e+02             4.990000e+02   \n",
       "mean  -1.085749e-16           9.878538e-17            -4.449792e-17   \n",
       "std    1.001004e+00           1.001004e+00             1.001004e+00   \n",
       "min   -2.498982e+00          -1.171107e+00            -1.170604e+00   \n",
       "25%   -7.190903e-01          -7.875531e-01            -7.897520e-01   \n",
       "50%   -7.133833e-03          -2.044594e-02            -2.804869e-02   \n",
       "75%    7.048227e-01           7.466613e-01             7.526972e-01   \n",
       "max    1.352004e+01           1.455459e+01             1.459665e+01   \n",
       "\n",
       "       referral_10_th_marks  referral_12th_marks  referral_graduation_marks  \\\n",
       "count          4.990000e+02         4.990000e+02               4.990000e+02   \n",
       "mean           1.168515e-15         5.842576e-16               1.181420e-16   \n",
       "std            1.001004e+00         1.001004e+00               1.001004e+00   \n",
       "min           -1.656266e+00        -5.995608e+00              -1.655236e+00   \n",
       "25%           -8.970373e-01        -7.763793e-01              -8.950994e-01   \n",
       "50%            5.199914e-02        -4.385598e-02              -1.189864e-02   \n",
       "75%            9.061319e-01         8.717982e-01               9.102248e-01   \n",
       "max            2.424590e+00         1.604322e+00               2.430498e+00   \n",
       "\n",
       "       referral_post_grad_marks  referral_expected_sal  \\\n",
       "count              4.990000e+02           4.990000e+02   \n",
       "mean              -8.080822e-16           3.666628e-16   \n",
       "std                1.001004e+00           1.001004e+00   \n",
       "min               -1.746989e+00          -1.173312e+00   \n",
       "25%               -8.863596e-01          -7.975362e-01   \n",
       "50%               -2.573054e-02          -9.722615e-02   \n",
       "75%                9.783367e-01           5.860032e-01   \n",
       "max                2.173655e+00           1.300370e+01   \n",
       "\n",
       "       referral_aptitude_numerical_score  referral_aptitude_verbal_score  \\\n",
       "count                       4.990000e+02                    4.990000e+02   \n",
       "mean                        4.583285e-17                   -1.184201e-16   \n",
       "std                         1.001004e+00                    1.001004e+00   \n",
       "min                        -1.644252e+00                   -1.754718e+00   \n",
       "25%                        -8.783234e-01                   -8.277956e-01   \n",
       "50%                        -4.356474e-02                   -8.235822e-03   \n",
       "75%                         8.788316e-01                    8.826257e-01   \n",
       "max                         1.801228e+00                    1.773487e+00   \n",
       "\n",
       "       referral_aptitude_reasoning_score  referral_Management_Interview_score  \\\n",
       "count                       4.990000e+02                         4.990000e+02   \n",
       "mean                       -1.263741e-16                        -1.174745e-16   \n",
       "std                         1.001004e+00                         1.001004e+00   \n",
       "min                        -1.754688e+00                        -1.622621e+00   \n",
       "25%                        -7.971391e-01                        -9.369484e-01   \n",
       "50%                        -1.674821e-02                         9.156072e-02   \n",
       "75%                         7.957852e-01                         7.772334e-01   \n",
       "max                         4.880877e+00                         1.462906e+00   \n",
       "\n",
       "       referral_HR_Interview_score  Salary offered  \n",
       "count                 4.990000e+02    4.990000e+02  \n",
       "mean                 -2.227677e-17    9.166571e-17  \n",
       "std                   1.001004e+00    1.001004e+00  \n",
       "min                  -8.464606e-01   -1.179563e+00  \n",
       "25%                  -4.824935e-01   -7.990954e-01  \n",
       "50%                  -1.185264e-01   -1.913773e-02  \n",
       "75%                   4.274243e-01    7.417966e-01  \n",
       "max                   1.917173e+01    1.457178e+01  "
      ]
     },
     "execution_count": 58,
     "metadata": {},
     "output_type": "execute_result"
    }
   ],
   "source": [
    "std_scaled.describe()"
   ]
  },
  {
   "cell_type": "markdown",
   "metadata": {},
   "source": [
    "# Scaling Method 3 (Min-Max)"
   ]
  },
  {
   "cell_type": "code",
   "execution_count": 59,
   "metadata": {},
   "outputs": [],
   "source": [
    "from sklearn.preprocessing import MinMaxScaler"
   ]
  },
  {
   "cell_type": "code",
   "execution_count": 60,
   "metadata": {},
   "outputs": [],
   "source": [
    "minmax=MinMaxScaler()"
   ]
  },
  {
   "cell_type": "code",
   "execution_count": 61,
   "metadata": {},
   "outputs": [],
   "source": [
    "minmax_scaled=minmax.fit_transform(df[num])"
   ]
  },
  {
   "cell_type": "code",
   "execution_count": 62,
   "metadata": {},
   "outputs": [],
   "source": [
    "minmax_scaled=pd.DataFrame(minmax_scaled,columns=df[num].columns)"
   ]
  },
  {
   "cell_type": "markdown",
   "metadata": {},
   "source": [
    "# Transformation"
   ]
  },
  {
   "cell_type": "code",
   "execution_count": 66,
   "metadata": {},
   "outputs": [
    {
     "name": "stdout",
     "output_type": "stream",
     "text": [
      "Skewness :  6.184346309755603 \n",
      "Kurtosis :  89.46603642396403 \n"
     ]
    }
   ],
   "source": [
    "# Lets take any one of the featurea and apply transformation.\n",
    "# Ideally transformations should be done for all the numerical columns\n",
    "\n",
    "print('Skewness :  {} '.format(df['referral_current_salary'].skew()))\n",
    "print('Kurtosis :  {} '.format(df['referral_current_salary'].kurtosis()))"
   ]
  },
  {
   "cell_type": "markdown",
   "metadata": {},
   "source": [
    "### Method 1 (log transformations)"
   ]
  },
  {
   "cell_type": "code",
   "execution_count": 67,
   "metadata": {},
   "outputs": [],
   "source": [
    "import numpy as np"
   ]
  },
  {
   "cell_type": "code",
   "execution_count": 68,
   "metadata": {},
   "outputs": [
    {
     "name": "stdout",
     "output_type": "stream",
     "text": [
      "Skewness :  1.8220213106478522 \n",
      "Kurtosis :  4.49385907196307 \n"
     ]
    }
   ],
   "source": [
    "print('Skewness :  {} '.format(np.log(df['referral_current_salary'].skew())))\n",
    "print('Kurtosis :  {} '.format(np.log(df['referral_current_salary'].kurtosis())))"
   ]
  },
  {
   "cell_type": "code",
   "execution_count": 71,
   "metadata": {},
   "outputs": [
    {
     "data": {
      "text/plain": [
       "<matplotlib.axes._subplots.AxesSubplot at 0x7f9efd9d3c18>"
      ]
     },
     "execution_count": 71,
     "metadata": {},
     "output_type": "execute_result"
    },
    {
     "data": {
      "image/png": "[encoded data removed]",
      "text/plain": [
       "<Figure size 432x288 with 1 Axes>"
      ]
     },
     "metadata": {
      "needs_background": "light"
     },
     "output_type": "display_data"
    }
   ],
   "source": [
    "# Before the transformations\n",
    "sns.boxplot(df['referral_current_salary'])"
   ]
  },
  {
   "cell_type": "code",
   "execution_count": 70,
   "metadata": {},
   "outputs": [
    {
     "data": {
      "text/plain": [
       "<matplotlib.axes._subplots.AxesSubplot at 0x7f9efdc45438>"
      ]
     },
     "execution_count": 70,
     "metadata": {},
     "output_type": "execute_result"
    },
    {
     "data": {
      "image/png": "[encoded data removed]",
      "text/plain": [
       "<Figure size 432x288 with 1 Axes>"
      ]
     },
     "metadata": {
      "needs_background": "light"
     },
     "output_type": "display_data"
    }
   ],
   "source": [
    "# After the transformations\n",
    "sns.boxplot(np.log(df['referral_current_salary']))"
   ]
  },
  {
   "cell_type": "markdown",
   "metadata": {},
   "source": [
    "### Method 2 (sqrt transformations)"
   ]
  },
  {
   "cell_type": "code",
   "execution_count": 72,
   "metadata": {},
   "outputs": [
    {
     "name": "stdout",
     "output_type": "stream",
     "text": [
      "Skewness :  2.4868345963806284 \n",
      "Kurtosis :  9.458648763114319 \n"
     ]
    }
   ],
   "source": [
    "print('Skewness :  {} '.format(np.sqrt(df['referral_current_salary'].skew())))\n",
    "print('Kurtosis :  {} '.format(np.sqrt(df['referral_current_salary'].kurtosis())))"
   ]
  },
  {
   "cell_type": "code",
   "execution_count": 75,
   "metadata": {},
   "outputs": [
    {
     "name": "stderr",
     "output_type": "stream",
     "text": [
      "/home/daniel/anaconda3/lib/python3.7/site-packages/scipy/stats/stats.py:1713: FutureWarning: Using a non-tuple sequence for multidimensional indexing is deprecated; use `arr[tuple(seq)]` instead of `arr[seq]`. In the future this will be interpreted as an array index, `arr[np.array(seq)]`, which will result either in an error or a different result.\n",
      "  return np.add.reduce(sorted[indexer] * weights, axis=axis) / sumval\n"
     ]
    },
    {
     "data": {
      "text/plain": [
       "<matplotlib.axes._subplots.AxesSubplot at 0x7f9efdd6ddd8>"
      ]
     },
     "execution_count": 75,
     "metadata": {},
     "output_type": "execute_result"
    },
    {
     "data": {
      "image/png": "[encoded data removed]",
      "text/plain": [
       "<Figure size 432x288 with 1 Axes>"
      ]
     },
     "metadata": {
      "needs_background": "light"
     },
     "output_type": "display_data"
    }
   ],
   "source": [
    "sns.distplot(df['referral_current_salary'])"
   ]
  },
  {
   "cell_type": "code",
   "execution_count": 76,
   "metadata": {},
   "outputs": [
    {
     "name": "stderr",
     "output_type": "stream",
     "text": [
      "/home/daniel/anaconda3/lib/python3.7/site-packages/scipy/stats/stats.py:1713: FutureWarning: Using a non-tuple sequence for multidimensional indexing is deprecated; use `arr[tuple(seq)]` instead of `arr[seq]`. In the future this will be interpreted as an array index, `arr[np.array(seq)]`, which will result either in an error or a different result.\n",
      "  return np.add.reduce(sorted[indexer] * weights, axis=axis) / sumval\n"
     ]
    },
    {
     "data": {
      "text/plain": [
       "<matplotlib.axes._subplots.AxesSubplot at 0x7f9efd84ca58>"
      ]
     },
     "execution_count": 76,
     "metadata": {},
     "output_type": "execute_result"
    },
    {
     "data": {
      "image/png": "[encoded data removed]",
      "text/plain": [
       "<Figure size 432x288 with 1 Axes>"
      ]
     },
     "metadata": {
      "needs_background": "light"
     },
     "output_type": "display_data"
    }
   ],
   "source": [
    "sns.distplot(np.sqrt(df['referral_current_salary']))"
   ]
  },
  {
   "cell_type": "markdown",
   "metadata": {},
   "source": [
    "### Method 3 (root of 10 transformations)"
   ]
  },
  {
   "cell_type": "code",
   "execution_count": 79,
   "metadata": {},
   "outputs": [
    {
     "name": "stdout",
     "output_type": "stream",
     "text": [
      "Skewness :  -0.3950105143684112 \n",
      "Kurtosis :  0.04120887026425146 \n"
     ]
    }
   ],
   "source": [
    "print('Skewness :  {} '.format((df['referral_current_salary']**0.1).skew()))\n",
    "print('Kurtosis :  {} '.format((df['referral_current_salary']**0.1).kurtosis()))"
   ]
  },
  {
   "cell_type": "markdown",
   "metadata": {},
   "source": [
    "Out of above three transformation technique root of 10 is giving better results.\n",
    "We can choose the transformation technique with respective to the Algorithm we use.\n",
    "Note : We need to trnaform the values back to the original format once model built and predicted."
   ]
  },
  {
   "cell_type": "markdown",
   "metadata": {},
   "source": [
    "# Outlier Treatment"
   ]
  },
  {
   "cell_type": "code",
   "execution_count": 81,
   "metadata": {},
   "outputs": [],
   "source": [
    "df['referral_current_salary1']=df['referral_current_salary']\n",
    "df['referral_current_salary2']=df['referral_current_salary']"
   ]
  },
  {
   "cell_type": "markdown",
   "metadata": {},
   "source": [
    "#### Z Score Method"
   ]
  },
  {
   "cell_type": "code",
   "execution_count": 102,
   "metadata": {},
   "outputs": [],
   "source": [
    "df['referral_current_salary_zscore']=(df.referral_current_salary - df.referral_current_salary.mean())/df.referral_current_salary.std()"
   ]
  },
  {
   "cell_type": "code",
   "execution_count": 103,
   "metadata": {},
   "outputs": [
    {
     "data": {
      "text/plain": [
       "count    499.000000\n",
       "mean      86.472946\n",
       "std       52.566584\n",
       "min       25.000000\n",
       "25%       45.000000\n",
       "50%       85.000000\n",
       "75%      126.000000\n",
       "max      853.000000\n",
       "Name: referral_current_salary, dtype: float64"
      ]
     },
     "execution_count": 103,
     "metadata": {},
     "output_type": "execute_result"
    }
   ],
   "source": [
    "df['referral_current_salary'].describe()"
   ]
  },
  {
   "cell_type": "code",
   "execution_count": 104,
   "metadata": {},
   "outputs": [
    {
     "data": {
      "text/plain": [
       "count    4.990000e+02\n",
       "mean     1.824415e-17\n",
       "std      1.000000e+00\n",
       "min     -1.169430e+00\n",
       "25%     -7.889603e-01\n",
       "50%     -2.802057e-02\n",
       "75%      7.519426e-01\n",
       "max      1.458202e+01\n",
       "Name: referral_current_salary_zscore, dtype: float64"
      ]
     },
     "execution_count": 104,
     "metadata": {},
     "output_type": "execute_result"
    }
   ],
   "source": [
    "df['referral_current_salary_zscore'].describe()"
   ]
  },
  {
   "cell_type": "code",
   "execution_count": null,
   "metadata": {},
   "outputs": [],
   "source": []
  },
  {
   "cell_type": "code",
   "execution_count": 106,
   "metadata": {},
   "outputs": [
    {
     "data": {
      "text/plain": [
       "<matplotlib.axes._subplots.AxesSubplot at 0x7f9efd1b90f0>"
      ]
     },
     "execution_count": 106,
     "metadata": {},
     "output_type": "execute_result"
    },
    {
     "data": {
      "image/png": "[encoded data removed]",
      "text/plain": [
       "<Figure size 432x288 with 1 Axes>"
      ]
     },
     "metadata": {
      "needs_background": "light"
     },
     "output_type": "display_data"
    }
   ],
   "source": [
    "df['referral_current_salary_zscore'].plot(kind='box')"
   ]
  },
  {
   "cell_type": "code",
   "execution_count": 107,
   "metadata": {},
   "outputs": [
    {
     "data": {
      "text/plain": [
       "<matplotlib.axes._subplots.AxesSubplot at 0x7f9efd170dd8>"
      ]
     },
     "execution_count": 107,
     "metadata": {},
     "output_type": "execute_result"
    },
    {
     "data": {
      "image/png": "[encoded data removed]",
      "text/plain": [
       "<Figure size 432x288 with 1 Axes>"
      ]
     },
     "metadata": {
      "needs_background": "light"
     },
     "output_type": "display_data"
    }
   ],
   "source": [
    "df['referral_current_salary'].plot(kind='box')"
   ]
  },
  {
   "cell_type": "code",
   "execution_count": 108,
   "metadata": {},
   "outputs": [
    {
     "data": {
      "text/html": [
       "<div>\n",
       "<style scoped>\n",
       "    .dataframe tbody tr th:only-of-type {\n",
       "        vertical-align: middle;\n",
       "    }\n",
       "\n",
       "    .dataframe tbody tr th {\n",
       "        vertical-align: top;\n",
       "    }\n",
       "\n",
       "    .dataframe thead th {\n",
       "        text-align: right;\n",
       "    }\n",
       "</style>\n",
       "<table border=\"1\" class=\"dataframe\">\n",
       "  <thead>\n",
       "    <tr style=\"text-align: right;\">\n",
       "      <th></th>\n",
       "      <th>referral_age</th>\n",
       "      <th>referral_exp_in_years</th>\n",
       "      <th>referral_preferred_city</th>\n",
       "      <th>referral_current_salary</th>\n",
       "      <th>referral_10_th_marks</th>\n",
       "      <th>referral_12th_marks</th>\n",
       "      <th>referral_graduation_marks</th>\n",
       "      <th>referral_post_grad_marks</th>\n",
       "      <th>referral_gender</th>\n",
       "      <th>referral_expected_sal</th>\n",
       "      <th>...</th>\n",
       "      <th>referral_aptitude_verbal_score</th>\n",
       "      <th>referral_aptitude_reasoning_score</th>\n",
       "      <th>referral_Management_Interview_score</th>\n",
       "      <th>referral_HR_Interview_score</th>\n",
       "      <th>Salary offered</th>\n",
       "      <th>Emp_Salary_Grade</th>\n",
       "      <th>Joined</th>\n",
       "      <th>referral_current_salary1</th>\n",
       "      <th>referral_current_salary2</th>\n",
       "      <th>referral_current_salary_zscore</th>\n",
       "    </tr>\n",
       "  </thead>\n",
       "  <tbody>\n",
       "    <tr>\n",
       "      <th>354</th>\n",
       "      <td>65</td>\n",
       "      <td>42.0</td>\n",
       "      <td>Mumbai</td>\n",
       "      <td>853</td>\n",
       "      <td>61.0</td>\n",
       "      <td>95</td>\n",
       "      <td>61.0</td>\n",
       "      <td>68.0</td>\n",
       "      <td>Male</td>\n",
       "      <td>870.0</td>\n",
       "      <td>...</td>\n",
       "      <td>33.48</td>\n",
       "      <td>29.13</td>\n",
       "      <td>7.0</td>\n",
       "      <td>3</td>\n",
       "      <td>868</td>\n",
       "      <td>EL0</td>\n",
       "      <td>No</td>\n",
       "      <td>853</td>\n",
       "      <td>853</td>\n",
       "      <td>14.582021</td>\n",
       "    </tr>\n",
       "  </tbody>\n",
       "</table>\n",
       "<p>1 rows × 21 columns</p>\n",
       "</div>"
      ],
      "text/plain": [
       "     referral_age  referral_exp_in_years referral_preferred_city  \\\n",
       "354            65                   42.0                  Mumbai   \n",
       "\n",
       "     referral_current_salary  referral_10_th_marks  referral_12th_marks  \\\n",
       "354                      853                  61.0                   95   \n",
       "\n",
       "     referral_graduation_marks  referral_post_grad_marks referral_gender  \\\n",
       "354                       61.0                      68.0            Male   \n",
       "\n",
       "     referral_expected_sal               ...                \\\n",
       "354                  870.0               ...                 \n",
       "\n",
       "     referral_aptitude_verbal_score  referral_aptitude_reasoning_score  \\\n",
       "354                           33.48                              29.13   \n",
       "\n",
       "     referral_Management_Interview_score  referral_HR_Interview_score  \\\n",
       "354                                  7.0                            3   \n",
       "\n",
       "     Salary offered  Emp_Salary_Grade Joined referral_current_salary1  \\\n",
       "354             868               EL0     No                      853   \n",
       "\n",
       "     referral_current_salary2  referral_current_salary_zscore  \n",
       "354                       853                       14.582021  \n",
       "\n",
       "[1 rows x 21 columns]"
      ]
     },
     "execution_count": 108,
     "metadata": {},
     "output_type": "execute_result"
    }
   ],
   "source": [
    "# outlier if greater than 3\n",
    "df[df['referral_current_salary_zscore'] > 3]"
   ]
  },
  {
   "cell_type": "code",
   "execution_count": 109,
   "metadata": {},
   "outputs": [
    {
     "data": {
      "text/html": [
       "<div>\n",
       "<style scoped>\n",
       "    .dataframe tbody tr th:only-of-type {\n",
       "        vertical-align: middle;\n",
       "    }\n",
       "\n",
       "    .dataframe tbody tr th {\n",
       "        vertical-align: top;\n",
       "    }\n",
       "\n",
       "    .dataframe thead th {\n",
       "        text-align: right;\n",
       "    }\n",
       "</style>\n",
       "<table border=\"1\" class=\"dataframe\">\n",
       "  <thead>\n",
       "    <tr style=\"text-align: right;\">\n",
       "      <th></th>\n",
       "      <th>referral_age</th>\n",
       "      <th>referral_exp_in_years</th>\n",
       "      <th>referral_preferred_city</th>\n",
       "      <th>referral_current_salary</th>\n",
       "      <th>referral_10_th_marks</th>\n",
       "      <th>referral_12th_marks</th>\n",
       "      <th>referral_graduation_marks</th>\n",
       "      <th>referral_post_grad_marks</th>\n",
       "      <th>referral_gender</th>\n",
       "      <th>referral_expected_sal</th>\n",
       "      <th>...</th>\n",
       "      <th>referral_aptitude_verbal_score</th>\n",
       "      <th>referral_aptitude_reasoning_score</th>\n",
       "      <th>referral_Management_Interview_score</th>\n",
       "      <th>referral_HR_Interview_score</th>\n",
       "      <th>Salary offered</th>\n",
       "      <th>Emp_Salary_Grade</th>\n",
       "      <th>Joined</th>\n",
       "      <th>referral_current_salary1</th>\n",
       "      <th>referral_current_salary2</th>\n",
       "      <th>referral_current_salary_zscore</th>\n",
       "    </tr>\n",
       "  </thead>\n",
       "  <tbody>\n",
       "  </tbody>\n",
       "</table>\n",
       "<p>0 rows × 21 columns</p>\n",
       "</div>"
      ],
      "text/plain": [
       "Empty DataFrame\n",
       "Columns: [referral_age, referral_exp_in_years, referral_preferred_city, referral_current_salary, referral_10_th_marks, referral_12th_marks, referral_graduation_marks, referral_post_grad_marks, referral_gender, referral_expected_sal, referral_aptitude_numerical_score, referral_aptitude_verbal_score, referral_aptitude_reasoning_score, referral_Management_Interview_score, referral_HR_Interview_score, Salary offered, Emp_Salary_Grade, Joined, referral_current_salary1, referral_current_salary2, referral_current_salary_zscore]\n",
       "Index: []\n",
       "\n",
       "[0 rows x 21 columns]"
      ]
     },
     "execution_count": 109,
     "metadata": {},
     "output_type": "execute_result"
    }
   ],
   "source": [
    "# outlier if lessthan -3\n",
    "df[df['referral_current_salary_zscore'] < -3]"
   ]
  },
  {
   "cell_type": "code",
   "execution_count": 110,
   "metadata": {},
   "outputs": [
    {
     "data": {
      "text/plain": [
       "210"
      ]
     },
     "execution_count": 110,
     "metadata": {},
     "output_type": "execute_result"
    }
   ],
   "source": [
    "# Calculate zscore impute values\n",
    "referral_current_salary_zscore=(3*df.referral_current_salary.std())+df.referral_current_salary.std()\n",
    "round(referral_current_salary_zscore)"
   ]
  },
  {
   "cell_type": "code",
   "execution_count": 113,
   "metadata": {},
   "outputs": [],
   "source": [
    "list1=df[df['referral_current_salary_zscore'] > 3].index"
   ]
  },
  {
   "cell_type": "code",
   "execution_count": 114,
   "metadata": {},
   "outputs": [
    {
     "data": {
      "text/plain": [
       "Int64Index([354], dtype='int64')"
      ]
     },
     "execution_count": 114,
     "metadata": {},
     "output_type": "execute_result"
    }
   ],
   "source": [
    "list1"
   ]
  },
  {
   "cell_type": "code",
   "execution_count": 115,
   "metadata": {},
   "outputs": [],
   "source": [
    "df['referral_current_salary']=np.where(df.index.isin(list1),round(referral_current_salary_zscore),df['referral_current_salary'])"
   ]
  },
  {
   "cell_type": "code",
   "execution_count": 116,
   "metadata": {},
   "outputs": [
    {
     "data": {
      "text/plain": [
       "count    499.000000\n",
       "mean      85.184369\n",
       "std       40.154397\n",
       "min       25.000000\n",
       "25%       45.000000\n",
       "50%       85.000000\n",
       "75%      126.000000\n",
       "max      210.000000\n",
       "Name: referral_current_salary, dtype: float64"
      ]
     },
     "execution_count": 116,
     "metadata": {},
     "output_type": "execute_result"
    }
   ],
   "source": [
    "df['referral_current_salary'].describe()"
   ]
  },
  {
   "cell_type": "code",
   "execution_count": 117,
   "metadata": {},
   "outputs": [
    {
     "data": {
      "text/plain": [
       "<matplotlib.axes._subplots.AxesSubplot at 0x7f9efd0d5fd0>"
      ]
     },
     "execution_count": 117,
     "metadata": {},
     "output_type": "execute_result"
    },
    {
     "data": {
      "image/png": "[encoded data removed]",
      "text/plain": [
       "<Figure size 432x288 with 1 Axes>"
      ]
     },
     "metadata": {
      "needs_background": "light"
     },
     "output_type": "display_data"
    }
   ],
   "source": [
    "df['referral_current_salary'].plot(kind='box')"
   ]
  },
  {
   "cell_type": "code",
   "execution_count": 118,
   "metadata": {},
   "outputs": [],
   "source": [
    "df.drop(columns=['referral_current_salary_zscore'],inplace=True)"
   ]
  },
  {
   "cell_type": "markdown",
   "metadata": {},
   "source": [
    "#### Box plot Method"
   ]
  },
  {
   "cell_type": "code",
   "execution_count": 119,
   "metadata": {},
   "outputs": [],
   "source": [
    "def detect_outlier(col):\n",
    "    Q3,Q1=np.percentile(col,[75,25])\n",
    "    iqr=Q3-Q1\n",
    "    lower_outlier_range=Q1-(1.5*iqr)\n",
    "    upper_outlier_range=Q3+(1.5*iqr)\n",
    "    return lower_outlier_range,upper_outlier_range"
   ]
  },
  {
   "cell_type": "code",
   "execution_count": 120,
   "metadata": {},
   "outputs": [],
   "source": [
    "lr,ur=detect_outlier(df['referral_current_salary'])"
   ]
  },
  {
   "cell_type": "code",
   "execution_count": 122,
   "metadata": {},
   "outputs": [
    {
     "name": "stdout",
     "output_type": "stream",
     "text": [
      "Lower Range : -76.5 Outer Range : 247.5\n"
     ]
    }
   ],
   "source": [
    "print('Lower Range : {} Outer Range : {}'.format(lr,ur))"
   ]
  },
  {
   "cell_type": "code",
   "execution_count": null,
   "metadata": {},
   "outputs": [],
   "source": []
  }
 ],
 "metadata": {
  "kernelspec": {
   "display_name": "Python 3",
   "language": "python",
   "name": "python3"
  },
  "language_info": {
   "codemirror_mode": {
    "name": "ipython",
    "version": 3
   },
   "file_extension": ".py",
   "mimetype": "text/x-python",
   "name": "python",
   "nbconvert_exporter": "python",
   "pygments_lexer": "ipython3",
   "version": "3.7.0"
  }
 },
 "nbformat": 4,
 "nbformat_minor": 2
}
