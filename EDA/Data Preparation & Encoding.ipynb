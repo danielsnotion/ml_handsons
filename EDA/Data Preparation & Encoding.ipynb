{
 "cells": [
  {
   "cell_type": "markdown",
   "metadata": {},
   "source": [
    "# Data Preparation"
   ]
  },
  {
   "cell_type": "code",
   "execution_count": 1,
   "metadata": {},
   "outputs": [],
   "source": [
    "import pandas as pd\n",
    "import seaborn as sns\n",
    "import numpy as np\n",
    "import matplotlib.pyplot as plt"
   ]
  },
  {
   "cell_type": "code",
   "execution_count": 2,
   "metadata": {},
   "outputs": [],
   "source": [
    "df=pd.read_csv('Referral_Join_Prediction.csv')"
   ]
  },
  {
   "cell_type": "code",
   "execution_count": 3,
   "metadata": {},
   "outputs": [],
   "source": [
    "df.drop(columns=['referral_id'],inplace=True)"
   ]
  },
  {
   "cell_type": "markdown",
   "metadata": {},
   "source": [
    "Drop referral_id column as it is not required"
   ]
  },
  {
   "cell_type": "code",
   "execution_count": 4,
   "metadata": {},
   "outputs": [
    {
     "data": {
      "text/html": [
       "<div>\n",
       "<style scoped>\n",
       "    .dataframe tbody tr th:only-of-type {\n",
       "        vertical-align: middle;\n",
       "    }\n",
       "\n",
       "    .dataframe tbody tr th {\n",
       "        vertical-align: top;\n",
       "    }\n",
       "\n",
       "    .dataframe thead th {\n",
       "        text-align: right;\n",
       "    }\n",
       "</style>\n",
       "<table border=\"1\" class=\"dataframe\">\n",
       "  <thead>\n",
       "    <tr style=\"text-align: right;\">\n",
       "      <th></th>\n",
       "      <th>referral_age</th>\n",
       "      <th>referral_exp_in_years</th>\n",
       "      <th>referral_preferred_city</th>\n",
       "      <th>referral_current_salary</th>\n",
       "      <th>referral_10_th_marks</th>\n",
       "      <th>referral_12th_marks</th>\n",
       "      <th>referral_graduation_marks</th>\n",
       "      <th>referral_post_grad_marks</th>\n",
       "      <th>referral_gender</th>\n",
       "      <th>referral_expected_sal</th>\n",
       "      <th>referral_aptitude_numerical_score</th>\n",
       "      <th>referral_aptitude_verbal_score</th>\n",
       "      <th>referral_aptitude_reasoning_score</th>\n",
       "      <th>referral_Management_Interview_score</th>\n",
       "      <th>referral_HR_Interview_score</th>\n",
       "      <th>Salary offered</th>\n",
       "      <th>Emp_Salary_Grade</th>\n",
       "      <th>Joined</th>\n",
       "    </tr>\n",
       "  </thead>\n",
       "  <tbody>\n",
       "    <tr>\n",
       "      <th>0</th>\n",
       "      <td>28</td>\n",
       "      <td>5.0</td>\n",
       "      <td>Delhi</td>\n",
       "      <td>106</td>\n",
       "      <td>89.0</td>\n",
       "      <td>72</td>\n",
       "      <td>87.0</td>\n",
       "      <td>83.0</td>\n",
       "      <td>Male</td>\n",
       "      <td>123.0</td>\n",
       "      <td>10.00</td>\n",
       "      <td>33.04</td>\n",
       "      <td>?</td>\n",
       "      <td>10.0</td>\n",
       "      <td>3</td>\n",
       "      <td>141</td>\n",
       "      <td>EL0</td>\n",
       "      <td>Yes</td>\n",
       "    </tr>\n",
       "    <tr>\n",
       "      <th>1</th>\n",
       "      <td>26</td>\n",
       "      <td>3.0</td>\n",
       "      <td>Pune</td>\n",
       "      <td>65</td>\n",
       "      <td>63.0</td>\n",
       "      <td>77</td>\n",
       "      <td>94.0</td>\n",
       "      <td>85.0</td>\n",
       "      <td>Male</td>\n",
       "      <td>83.0</td>\n",
       "      <td>6.09</td>\n",
       "      <td>27.39</td>\n",
       "      <td>20.87</td>\n",
       "      <td>10.0</td>\n",
       "      <td>10</td>\n",
       "      <td>80</td>\n",
       "      <td>ML0</td>\n",
       "      <td>Yes</td>\n",
       "    </tr>\n",
       "    <tr>\n",
       "      <th>2</th>\n",
       "      <td>23</td>\n",
       "      <td>2.0</td>\n",
       "      <td>Mumbai</td>\n",
       "      <td>45</td>\n",
       "      <td>92.0</td>\n",
       "      <td>85</td>\n",
       "      <td>84.0</td>\n",
       "      <td>72.0</td>\n",
       "      <td>Male</td>\n",
       "      <td>62.0</td>\n",
       "      <td>41.74</td>\n",
       "      <td>2.61</td>\n",
       "      <td>40.00</td>\n",
       "      <td>2.0</td>\n",
       "      <td>1</td>\n",
       "      <td>60</td>\n",
       "      <td>EL0</td>\n",
       "      <td>No</td>\n",
       "    </tr>\n",
       "  </tbody>\n",
       "</table>\n",
       "</div>"
      ],
      "text/plain": [
       "   referral_age  referral_exp_in_years referral_preferred_city  \\\n",
       "0            28                    5.0                   Delhi   \n",
       "1            26                    3.0                    Pune   \n",
       "2            23                    2.0                  Mumbai   \n",
       "\n",
       "   referral_current_salary  referral_10_th_marks  referral_12th_marks  \\\n",
       "0                      106                  89.0                   72   \n",
       "1                       65                  63.0                   77   \n",
       "2                       45                  92.0                   85   \n",
       "\n",
       "   referral_graduation_marks  referral_post_grad_marks referral_gender  \\\n",
       "0                       87.0                      83.0            Male   \n",
       "1                       94.0                      85.0            Male   \n",
       "2                       84.0                      72.0            Male   \n",
       "\n",
       "   referral_expected_sal referral_aptitude_numerical_score  \\\n",
       "0                  123.0                             10.00   \n",
       "1                   83.0                              6.09   \n",
       "2                   62.0                             41.74   \n",
       "\n",
       "   referral_aptitude_verbal_score referral_aptitude_reasoning_score  \\\n",
       "0                           33.04                                 ?   \n",
       "1                           27.39                             20.87   \n",
       "2                            2.61                             40.00   \n",
       "\n",
       "   referral_Management_Interview_score  referral_HR_Interview_score  \\\n",
       "0                                 10.0                            3   \n",
       "1                                 10.0                           10   \n",
       "2                                  2.0                            1   \n",
       "\n",
       "   Salary offered Emp_Salary_Grade Joined  \n",
       "0             141              EL0    Yes  \n",
       "1              80              ML0    Yes  \n",
       "2              60              EL0     No  "
      ]
     },
     "execution_count": 4,
     "metadata": {},
     "output_type": "execute_result"
    }
   ],
   "source": [
    "df.head(3)"
   ]
  },
  {
   "cell_type": "code",
   "execution_count": 5,
   "metadata": {},
   "outputs": [
    {
     "data": {
      "text/html": [
       "<div>\n",
       "<style scoped>\n",
       "    .dataframe tbody tr th:only-of-type {\n",
       "        vertical-align: middle;\n",
       "    }\n",
       "\n",
       "    .dataframe tbody tr th {\n",
       "        vertical-align: top;\n",
       "    }\n",
       "\n",
       "    .dataframe thead th {\n",
       "        text-align: right;\n",
       "    }\n",
       "</style>\n",
       "<table border=\"1\" class=\"dataframe\">\n",
       "  <thead>\n",
       "    <tr style=\"text-align: right;\">\n",
       "      <th></th>\n",
       "      <th>referral_age</th>\n",
       "      <th>referral_exp_in_years</th>\n",
       "      <th>referral_preferred_city</th>\n",
       "      <th>referral_current_salary</th>\n",
       "      <th>referral_10_th_marks</th>\n",
       "      <th>referral_12th_marks</th>\n",
       "      <th>referral_graduation_marks</th>\n",
       "      <th>referral_post_grad_marks</th>\n",
       "      <th>referral_gender</th>\n",
       "      <th>referral_expected_sal</th>\n",
       "      <th>referral_aptitude_numerical_score</th>\n",
       "      <th>referral_aptitude_verbal_score</th>\n",
       "      <th>referral_aptitude_reasoning_score</th>\n",
       "      <th>referral_Management_Interview_score</th>\n",
       "      <th>referral_HR_Interview_score</th>\n",
       "      <th>Salary offered</th>\n",
       "      <th>Emp_Salary_Grade</th>\n",
       "      <th>Joined</th>\n",
       "    </tr>\n",
       "  </thead>\n",
       "  <tbody>\n",
       "  </tbody>\n",
       "</table>\n",
       "</div>"
      ],
      "text/plain": [
       "Empty DataFrame\n",
       "Columns: [referral_age, referral_exp_in_years, referral_preferred_city, referral_current_salary, referral_10_th_marks, referral_12th_marks, referral_graduation_marks, referral_post_grad_marks, referral_gender, referral_expected_sal, referral_aptitude_numerical_score, referral_aptitude_verbal_score, referral_aptitude_reasoning_score, referral_Management_Interview_score, referral_HR_Interview_score, Salary offered, Emp_Salary_Grade, Joined]\n",
       "Index: []"
      ]
     },
     "execution_count": 5,
     "metadata": {},
     "output_type": "execute_result"
    }
   ],
   "source": [
    "df['referral_10_th_marks'] = np.where(df['referral_10_th_marks'].isnull(),df['referral_10_th_marks'].mean(),df['referral_10_th_marks'])\n",
    "df['referral_10_th_marks'] = np.where(df['referral_10_th_marks'] < 0,df['referral_10_th_marks'].mean(),df['referral_10_th_marks'])\n",
    "df['referral_graduation_marks'] = np.where((df['referral_graduation_marks'].isnull()) | (df['referral_graduation_marks']< 0 ),df['referral_graduation_marks'].mean(),df['referral_10_th_marks'])\n",
    "df[(df['referral_graduation_marks'].isnull()) | (df['referral_graduation_marks']< 0 )]"
   ]
  },
  {
   "cell_type": "code",
   "execution_count": 6,
   "metadata": {},
   "outputs": [],
   "source": [
    "df['referral_aptitude_numerical_score'] = np.where(df['referral_aptitude_numerical_score'].isnull(),-1,df['referral_aptitude_numerical_score'])\n",
    "df['referral_aptitude_numerical_score'] = np.where(df['referral_aptitude_numerical_score']=='?',-1,df['referral_aptitude_numerical_score'])\n",
    "\n",
    "df['referral_aptitude_numerical_score'] =df['referral_aptitude_numerical_score'].astype(float)\n",
    "\n",
    "df['referral_aptitude_reasoning_score'] = np.where(df['referral_aptitude_reasoning_score'].isnull(),-1,df['referral_aptitude_reasoning_score'])\n",
    "df['referral_aptitude_reasoning_score'] = np.where(df['referral_aptitude_reasoning_score']=='?',-1,df['referral_aptitude_reasoning_score'])\n",
    "\n",
    "df['referral_aptitude_reasoning_score'] =df['referral_aptitude_reasoning_score'].astype(float)"
   ]
  },
  {
   "cell_type": "code",
   "execution_count": 7,
   "metadata": {},
   "outputs": [
    {
     "data": {
      "text/html": [
       "<div>\n",
       "<style scoped>\n",
       "    .dataframe tbody tr th:only-of-type {\n",
       "        vertical-align: middle;\n",
       "    }\n",
       "\n",
       "    .dataframe tbody tr th {\n",
       "        vertical-align: top;\n",
       "    }\n",
       "\n",
       "    .dataframe thead th {\n",
       "        text-align: right;\n",
       "    }\n",
       "</style>\n",
       "<table border=\"1\" class=\"dataframe\">\n",
       "  <thead>\n",
       "    <tr style=\"text-align: right;\">\n",
       "      <th></th>\n",
       "      <th>referral_age</th>\n",
       "      <th>referral_exp_in_years</th>\n",
       "      <th>referral_preferred_city</th>\n",
       "      <th>referral_current_salary</th>\n",
       "      <th>referral_10_th_marks</th>\n",
       "      <th>referral_12th_marks</th>\n",
       "      <th>referral_graduation_marks</th>\n",
       "      <th>referral_post_grad_marks</th>\n",
       "      <th>referral_gender</th>\n",
       "      <th>referral_expected_sal</th>\n",
       "      <th>referral_aptitude_numerical_score</th>\n",
       "      <th>referral_aptitude_verbal_score</th>\n",
       "      <th>referral_aptitude_reasoning_score</th>\n",
       "      <th>referral_Management_Interview_score</th>\n",
       "      <th>referral_HR_Interview_score</th>\n",
       "      <th>Salary offered</th>\n",
       "      <th>Emp_Salary_Grade</th>\n",
       "      <th>Joined</th>\n",
       "    </tr>\n",
       "  </thead>\n",
       "  <tbody>\n",
       "    <tr>\n",
       "      <th>245</th>\n",
       "      <td>27</td>\n",
       "      <td>4.0</td>\n",
       "      <td>Mumbai</td>\n",
       "      <td>85</td>\n",
       "      <td>83.0</td>\n",
       "      <td>91</td>\n",
       "      <td>83.0</td>\n",
       "      <td>74.0</td>\n",
       "      <td>?</td>\n",
       "      <td>103.0</td>\n",
       "      <td>21.74</td>\n",
       "      <td>23.91</td>\n",
       "      <td>11.74</td>\n",
       "      <td>4.0</td>\n",
       "      <td>3</td>\n",
       "      <td>101</td>\n",
       "      <td>ML0</td>\n",
       "      <td>No</td>\n",
       "    </tr>\n",
       "  </tbody>\n",
       "</table>\n",
       "</div>"
      ],
      "text/plain": [
       "     referral_age  referral_exp_in_years referral_preferred_city  \\\n",
       "245            27                    4.0                  Mumbai   \n",
       "\n",
       "     referral_current_salary  referral_10_th_marks  referral_12th_marks  \\\n",
       "245                       85                  83.0                   91   \n",
       "\n",
       "     referral_graduation_marks  referral_post_grad_marks referral_gender  \\\n",
       "245                       83.0                      74.0               ?   \n",
       "\n",
       "     referral_expected_sal  referral_aptitude_numerical_score  \\\n",
       "245                  103.0                              21.74   \n",
       "\n",
       "     referral_aptitude_verbal_score  referral_aptitude_reasoning_score  \\\n",
       "245                           23.91                              11.74   \n",
       "\n",
       "     referral_Management_Interview_score  referral_HR_Interview_score  \\\n",
       "245                                  4.0                            3   \n",
       "\n",
       "     Salary offered Emp_Salary_Grade Joined  \n",
       "245             101              ML0     No  "
      ]
     },
     "execution_count": 7,
     "metadata": {},
     "output_type": "execute_result"
    }
   ],
   "source": [
    "df[df['referral_gender']=='?']"
   ]
  },
  {
   "cell_type": "code",
   "execution_count": 8,
   "metadata": {},
   "outputs": [
    {
     "data": {
      "text/plain": [
       "'Male'"
      ]
     },
     "execution_count": 8,
     "metadata": {},
     "output_type": "execute_result"
    }
   ],
   "source": [
    "df['referral_gender'].max()"
   ]
  },
  {
   "cell_type": "code",
   "execution_count": 9,
   "metadata": {},
   "outputs": [],
   "source": [
    "df['referral_gender'] = np.where(df['referral_gender']=='?',df['referral_gender'].max(),df['referral_gender'])\n"
   ]
  },
  {
   "cell_type": "code",
   "execution_count": 10,
   "metadata": {},
   "outputs": [
    {
     "data": {
      "text/html": [
       "<div>\n",
       "<style scoped>\n",
       "    .dataframe tbody tr th:only-of-type {\n",
       "        vertical-align: middle;\n",
       "    }\n",
       "\n",
       "    .dataframe tbody tr th {\n",
       "        vertical-align: top;\n",
       "    }\n",
       "\n",
       "    .dataframe thead th {\n",
       "        text-align: right;\n",
       "    }\n",
       "</style>\n",
       "<table border=\"1\" class=\"dataframe\">\n",
       "  <thead>\n",
       "    <tr style=\"text-align: right;\">\n",
       "      <th></th>\n",
       "      <th>referral_age</th>\n",
       "      <th>referral_exp_in_years</th>\n",
       "      <th>referral_preferred_city</th>\n",
       "      <th>referral_current_salary</th>\n",
       "      <th>referral_10_th_marks</th>\n",
       "      <th>referral_12th_marks</th>\n",
       "      <th>referral_graduation_marks</th>\n",
       "      <th>referral_post_grad_marks</th>\n",
       "      <th>referral_gender</th>\n",
       "      <th>referral_expected_sal</th>\n",
       "      <th>referral_aptitude_numerical_score</th>\n",
       "      <th>referral_aptitude_verbal_score</th>\n",
       "      <th>referral_aptitude_reasoning_score</th>\n",
       "      <th>referral_Management_Interview_score</th>\n",
       "      <th>referral_HR_Interview_score</th>\n",
       "      <th>Salary offered</th>\n",
       "      <th>Emp_Salary_Grade</th>\n",
       "      <th>Joined</th>\n",
       "    </tr>\n",
       "  </thead>\n",
       "  <tbody>\n",
       "  </tbody>\n",
       "</table>\n",
       "</div>"
      ],
      "text/plain": [
       "Empty DataFrame\n",
       "Columns: [referral_age, referral_exp_in_years, referral_preferred_city, referral_current_salary, referral_10_th_marks, referral_12th_marks, referral_graduation_marks, referral_post_grad_marks, referral_gender, referral_expected_sal, referral_aptitude_numerical_score, referral_aptitude_verbal_score, referral_aptitude_reasoning_score, referral_Management_Interview_score, referral_HR_Interview_score, Salary offered, Emp_Salary_Grade, Joined]\n",
       "Index: []"
      ]
     },
     "execution_count": 10,
     "metadata": {},
     "output_type": "execute_result"
    }
   ],
   "source": [
    "df[df['referral_gender']=='?']"
   ]
  },
  {
   "cell_type": "code",
   "execution_count": 11,
   "metadata": {},
   "outputs": [],
   "source": [
    "cols = ['referral_post_grad_marks','referral_expected_sal','referral_expected_sal','referral_aptitude_numerical_score','referral_aptitude_verbal_score','referral_aptitude_reasoning_score','referral_Management_Interview_score']\n",
    "\n",
    "for col in cols:\n",
    "    df[col] = np.where((df[col].isnull()) | (df[col] < 0),df[col].mean(),df[col])"
   ]
  },
  {
   "cell_type": "code",
   "execution_count": 12,
   "metadata": {},
   "outputs": [
    {
     "data": {
      "text/plain": [
       "referral_age                           0\n",
       "referral_exp_in_years                  0\n",
       "referral_preferred_city                0\n",
       "referral_current_salary                0\n",
       "referral_10_th_marks                   0\n",
       "referral_12th_marks                    0\n",
       "referral_graduation_marks              0\n",
       "referral_post_grad_marks               0\n",
       "referral_gender                        0\n",
       "referral_expected_sal                  0\n",
       "referral_aptitude_numerical_score      0\n",
       "referral_aptitude_verbal_score         0\n",
       "referral_aptitude_reasoning_score      0\n",
       "referral_Management_Interview_score    0\n",
       "referral_HR_Interview_score            0\n",
       "Salary offered                         0\n",
       "Emp_Salary_Grade                       0\n",
       "Joined                                 0\n",
       "dtype: int64"
      ]
     },
     "execution_count": 12,
     "metadata": {},
     "output_type": "execute_result"
    }
   ],
   "source": [
    "df.isnull().sum()"
   ]
  },
  {
   "cell_type": "code",
   "execution_count": null,
   "metadata": {},
   "outputs": [],
   "source": []
  },
  {
   "cell_type": "code",
   "execution_count": null,
   "metadata": {},
   "outputs": [],
   "source": []
  },
  {
   "cell_type": "code",
   "execution_count": null,
   "metadata": {},
   "outputs": [],
   "source": []
  },
  {
   "cell_type": "code",
   "execution_count": 13,
   "metadata": {},
   "outputs": [],
   "source": [
    "num = []\n",
    "cat = []\n",
    "\n",
    "for col in df.columns:\n",
    "    if df[col].dtype=='object':\n",
    "        cat.append(col)\n",
    "    else :\n",
    "        num.append(col)\n"
   ]
  },
  {
   "cell_type": "code",
   "execution_count": 14,
   "metadata": {},
   "outputs": [
    {
     "name": "stdout",
     "output_type": "stream",
     "text": [
      "Categorical Columns : ['referral_preferred_city', 'referral_gender', 'Emp_Salary_Grade', 'Joined']\n"
     ]
    }
   ],
   "source": [
    "print('Categorical Columns : {}'.format(cat))"
   ]
  },
  {
   "cell_type": "code",
   "execution_count": 15,
   "metadata": {},
   "outputs": [
    {
     "name": "stdout",
     "output_type": "stream",
     "text": [
      "Numerical Columns : ['referral_age', 'referral_exp_in_years', 'referral_current_salary', 'referral_10_th_marks', 'referral_12th_marks', 'referral_graduation_marks', 'referral_post_grad_marks', 'referral_expected_sal', 'referral_aptitude_numerical_score', 'referral_aptitude_verbal_score', 'referral_aptitude_reasoning_score', 'referral_Management_Interview_score', 'referral_HR_Interview_score', 'Salary offered']\n"
     ]
    }
   ],
   "source": [
    "print('Numerical Columns : {}'.format(num))"
   ]
  },
  {
   "cell_type": "markdown",
   "metadata": {},
   "source": [
    "# Scaling Method 1 (zscore)"
   ]
  },
  {
   "cell_type": "code",
   "execution_count": 16,
   "metadata": {},
   "outputs": [],
   "source": [
    "from scipy.stats import zscore\n"
   ]
  },
  {
   "cell_type": "code",
   "execution_count": 17,
   "metadata": {},
   "outputs": [],
   "source": [
    "z_scaled=df[num].apply(zscore)"
   ]
  },
  {
   "cell_type": "code",
   "execution_count": 18,
   "metadata": {},
   "outputs": [
    {
     "data": {
      "text/html": [
       "<div>\n",
       "<style scoped>\n",
       "    .dataframe tbody tr th:only-of-type {\n",
       "        vertical-align: middle;\n",
       "    }\n",
       "\n",
       "    .dataframe tbody tr th {\n",
       "        vertical-align: top;\n",
       "    }\n",
       "\n",
       "    .dataframe thead th {\n",
       "        text-align: right;\n",
       "    }\n",
       "</style>\n",
       "<table border=\"1\" class=\"dataframe\">\n",
       "  <thead>\n",
       "    <tr style=\"text-align: right;\">\n",
       "      <th></th>\n",
       "      <th>referral_age</th>\n",
       "      <th>referral_exp_in_years</th>\n",
       "      <th>referral_current_salary</th>\n",
       "      <th>referral_10_th_marks</th>\n",
       "      <th>referral_12th_marks</th>\n",
       "      <th>referral_graduation_marks</th>\n",
       "      <th>referral_post_grad_marks</th>\n",
       "      <th>referral_expected_sal</th>\n",
       "      <th>referral_aptitude_numerical_score</th>\n",
       "      <th>referral_aptitude_verbal_score</th>\n",
       "      <th>referral_aptitude_reasoning_score</th>\n",
       "      <th>referral_Management_Interview_score</th>\n",
       "      <th>referral_HR_Interview_score</th>\n",
       "      <th>Salary offered</th>\n",
       "    </tr>\n",
       "  </thead>\n",
       "  <tbody>\n",
       "    <tr>\n",
       "      <th>count</th>\n",
       "      <td>4.990000e+02</td>\n",
       "      <td>4.990000e+02</td>\n",
       "      <td>4.990000e+02</td>\n",
       "      <td>4.990000e+02</td>\n",
       "      <td>4.990000e+02</td>\n",
       "      <td>4.990000e+02</td>\n",
       "      <td>4.990000e+02</td>\n",
       "      <td>4.990000e+02</td>\n",
       "      <td>4.990000e+02</td>\n",
       "      <td>4.990000e+02</td>\n",
       "      <td>4.990000e+02</td>\n",
       "      <td>4.990000e+02</td>\n",
       "      <td>4.990000e+02</td>\n",
       "      <td>4.990000e+02</td>\n",
       "    </tr>\n",
       "    <tr>\n",
       "      <th>mean</th>\n",
       "      <td>-1.085749e-16</td>\n",
       "      <td>9.878538e-17</td>\n",
       "      <td>-4.449792e-17</td>\n",
       "      <td>1.168515e-15</td>\n",
       "      <td>5.842576e-16</td>\n",
       "      <td>1.181420e-16</td>\n",
       "      <td>-8.080822e-16</td>\n",
       "      <td>3.666628e-16</td>\n",
       "      <td>4.583285e-17</td>\n",
       "      <td>-1.184201e-16</td>\n",
       "      <td>-1.263741e-16</td>\n",
       "      <td>-1.174745e-16</td>\n",
       "      <td>-2.227677e-17</td>\n",
       "      <td>9.166571e-17</td>\n",
       "    </tr>\n",
       "    <tr>\n",
       "      <th>std</th>\n",
       "      <td>1.001004e+00</td>\n",
       "      <td>1.001004e+00</td>\n",
       "      <td>1.001004e+00</td>\n",
       "      <td>1.001004e+00</td>\n",
       "      <td>1.001004e+00</td>\n",
       "      <td>1.001004e+00</td>\n",
       "      <td>1.001004e+00</td>\n",
       "      <td>1.001004e+00</td>\n",
       "      <td>1.001004e+00</td>\n",
       "      <td>1.001004e+00</td>\n",
       "      <td>1.001004e+00</td>\n",
       "      <td>1.001004e+00</td>\n",
       "      <td>1.001004e+00</td>\n",
       "      <td>1.001004e+00</td>\n",
       "    </tr>\n",
       "    <tr>\n",
       "      <th>min</th>\n",
       "      <td>-2.498982e+00</td>\n",
       "      <td>-1.171107e+00</td>\n",
       "      <td>-1.170604e+00</td>\n",
       "      <td>-1.656266e+00</td>\n",
       "      <td>-5.995608e+00</td>\n",
       "      <td>-1.655236e+00</td>\n",
       "      <td>-1.746989e+00</td>\n",
       "      <td>-1.173312e+00</td>\n",
       "      <td>-1.644252e+00</td>\n",
       "      <td>-1.754718e+00</td>\n",
       "      <td>-1.754688e+00</td>\n",
       "      <td>-1.622621e+00</td>\n",
       "      <td>-8.464606e-01</td>\n",
       "      <td>-1.179563e+00</td>\n",
       "    </tr>\n",
       "    <tr>\n",
       "      <th>25%</th>\n",
       "      <td>-7.190903e-01</td>\n",
       "      <td>-7.875531e-01</td>\n",
       "      <td>-7.897520e-01</td>\n",
       "      <td>-8.970373e-01</td>\n",
       "      <td>-7.763793e-01</td>\n",
       "      <td>-8.950994e-01</td>\n",
       "      <td>-8.863596e-01</td>\n",
       "      <td>-7.975362e-01</td>\n",
       "      <td>-8.783234e-01</td>\n",
       "      <td>-8.277956e-01</td>\n",
       "      <td>-7.971391e-01</td>\n",
       "      <td>-9.369484e-01</td>\n",
       "      <td>-4.824935e-01</td>\n",
       "      <td>-7.990954e-01</td>\n",
       "    </tr>\n",
       "    <tr>\n",
       "      <th>50%</th>\n",
       "      <td>-7.133833e-03</td>\n",
       "      <td>-2.044594e-02</td>\n",
       "      <td>-2.804869e-02</td>\n",
       "      <td>5.199914e-02</td>\n",
       "      <td>-4.385598e-02</td>\n",
       "      <td>-1.189864e-02</td>\n",
       "      <td>-2.573054e-02</td>\n",
       "      <td>-9.722615e-02</td>\n",
       "      <td>-4.356474e-02</td>\n",
       "      <td>-8.235822e-03</td>\n",
       "      <td>-1.674821e-02</td>\n",
       "      <td>9.156072e-02</td>\n",
       "      <td>-1.185264e-01</td>\n",
       "      <td>-1.913773e-02</td>\n",
       "    </tr>\n",
       "    <tr>\n",
       "      <th>75%</th>\n",
       "      <td>7.048227e-01</td>\n",
       "      <td>7.466613e-01</td>\n",
       "      <td>7.526972e-01</td>\n",
       "      <td>9.061319e-01</td>\n",
       "      <td>8.717982e-01</td>\n",
       "      <td>9.102248e-01</td>\n",
       "      <td>9.783367e-01</td>\n",
       "      <td>5.860032e-01</td>\n",
       "      <td>8.788316e-01</td>\n",
       "      <td>8.826257e-01</td>\n",
       "      <td>7.957852e-01</td>\n",
       "      <td>7.772334e-01</td>\n",
       "      <td>4.274243e-01</td>\n",
       "      <td>7.417966e-01</td>\n",
       "    </tr>\n",
       "    <tr>\n",
       "      <th>max</th>\n",
       "      <td>1.352004e+01</td>\n",
       "      <td>1.455459e+01</td>\n",
       "      <td>1.459665e+01</td>\n",
       "      <td>2.424590e+00</td>\n",
       "      <td>1.604322e+00</td>\n",
       "      <td>2.430498e+00</td>\n",
       "      <td>2.173655e+00</td>\n",
       "      <td>1.300370e+01</td>\n",
       "      <td>1.801228e+00</td>\n",
       "      <td>1.773487e+00</td>\n",
       "      <td>4.880877e+00</td>\n",
       "      <td>1.462906e+00</td>\n",
       "      <td>1.917173e+01</td>\n",
       "      <td>1.457178e+01</td>\n",
       "    </tr>\n",
       "  </tbody>\n",
       "</table>\n",
       "</div>"
      ],
      "text/plain": [
       "       referral_age  referral_exp_in_years  referral_current_salary  \\\n",
       "count  4.990000e+02           4.990000e+02             4.990000e+02   \n",
       "mean  -1.085749e-16           9.878538e-17            -4.449792e-17   \n",
       "std    1.001004e+00           1.001004e+00             1.001004e+00   \n",
       "min   -2.498982e+00          -1.171107e+00            -1.170604e+00   \n",
       "25%   -7.190903e-01          -7.875531e-01            -7.897520e-01   \n",
       "50%   -7.133833e-03          -2.044594e-02            -2.804869e-02   \n",
       "75%    7.048227e-01           7.466613e-01             7.526972e-01   \n",
       "max    1.352004e+01           1.455459e+01             1.459665e+01   \n",
       "\n",
       "       referral_10_th_marks  referral_12th_marks  referral_graduation_marks  \\\n",
       "count          4.990000e+02         4.990000e+02               4.990000e+02   \n",
       "mean           1.168515e-15         5.842576e-16               1.181420e-16   \n",
       "std            1.001004e+00         1.001004e+00               1.001004e+00   \n",
       "min           -1.656266e+00        -5.995608e+00              -1.655236e+00   \n",
       "25%           -8.970373e-01        -7.763793e-01              -8.950994e-01   \n",
       "50%            5.199914e-02        -4.385598e-02              -1.189864e-02   \n",
       "75%            9.061319e-01         8.717982e-01               9.102248e-01   \n",
       "max            2.424590e+00         1.604322e+00               2.430498e+00   \n",
       "\n",
       "       referral_post_grad_marks  referral_expected_sal  \\\n",
       "count              4.990000e+02           4.990000e+02   \n",
       "mean              -8.080822e-16           3.666628e-16   \n",
       "std                1.001004e+00           1.001004e+00   \n",
       "min               -1.746989e+00          -1.173312e+00   \n",
       "25%               -8.863596e-01          -7.975362e-01   \n",
       "50%               -2.573054e-02          -9.722615e-02   \n",
       "75%                9.783367e-01           5.860032e-01   \n",
       "max                2.173655e+00           1.300370e+01   \n",
       "\n",
       "       referral_aptitude_numerical_score  referral_aptitude_verbal_score  \\\n",
       "count                       4.990000e+02                    4.990000e+02   \n",
       "mean                        4.583285e-17                   -1.184201e-16   \n",
       "std                         1.001004e+00                    1.001004e+00   \n",
       "min                        -1.644252e+00                   -1.754718e+00   \n",
       "25%                        -8.783234e-01                   -8.277956e-01   \n",
       "50%                        -4.356474e-02                   -8.235822e-03   \n",
       "75%                         8.788316e-01                    8.826257e-01   \n",
       "max                         1.801228e+00                    1.773487e+00   \n",
       "\n",
       "       referral_aptitude_reasoning_score  referral_Management_Interview_score  \\\n",
       "count                       4.990000e+02                         4.990000e+02   \n",
       "mean                       -1.263741e-16                        -1.174745e-16   \n",
       "std                         1.001004e+00                         1.001004e+00   \n",
       "min                        -1.754688e+00                        -1.622621e+00   \n",
       "25%                        -7.971391e-01                        -9.369484e-01   \n",
       "50%                        -1.674821e-02                         9.156072e-02   \n",
       "75%                         7.957852e-01                         7.772334e-01   \n",
       "max                         4.880877e+00                         1.462906e+00   \n",
       "\n",
       "       referral_HR_Interview_score  Salary offered  \n",
       "count                 4.990000e+02    4.990000e+02  \n",
       "mean                 -2.227677e-17    9.166571e-17  \n",
       "std                   1.001004e+00    1.001004e+00  \n",
       "min                  -8.464606e-01   -1.179563e+00  \n",
       "25%                  -4.824935e-01   -7.990954e-01  \n",
       "50%                  -1.185264e-01   -1.913773e-02  \n",
       "75%                   4.274243e-01    7.417966e-01  \n",
       "max                   1.917173e+01    1.457178e+01  "
      ]
     },
     "execution_count": 18,
     "metadata": {},
     "output_type": "execute_result"
    }
   ],
   "source": [
    "z_scaled.describe()"
   ]
  },
  {
   "cell_type": "code",
   "execution_count": 19,
   "metadata": {},
   "outputs": [
    {
     "name": "stderr",
     "output_type": "stream",
     "text": [
      "/home/daniel/anaconda3/lib/python3.9/site-packages/seaborn/distributions.py:2619: FutureWarning: `distplot` is a deprecated function and will be removed in a future version. Please adapt your code to use either `displot` (a figure-level function with similar flexibility) or `histplot` (an axes-level function for histograms).\n",
      "  warnings.warn(msg, FutureWarning)\n"
     ]
    },
    {
     "data": {
      "text/plain": [
       "<AxesSubplot:xlabel='referral_current_salary', ylabel='Density'>"
      ]
     },
     "execution_count": 19,
     "metadata": {},
     "output_type": "execute_result"
    },
    {
     "data": {
      "image/png": "[encoded data removed]",
      "text/plain": [
       "<Figure size 640x480 with 1 Axes>"
      ]
     },
     "metadata": {},
     "output_type": "display_data"
    }
   ],
   "source": [
    "# Distribution before zscore encoding\n",
    "sns.distplot(df['referral_current_salary'],bins=5)"
   ]
  },
  {
   "cell_type": "code",
   "execution_count": 20,
   "metadata": {},
   "outputs": [
    {
     "name": "stderr",
     "output_type": "stream",
     "text": [
      "/home/daniel/anaconda3/lib/python3.9/site-packages/seaborn/distributions.py:2619: FutureWarning: `distplot` is a deprecated function and will be removed in a future version. Please adapt your code to use either `displot` (a figure-level function with similar flexibility) or `histplot` (an axes-level function for histograms).\n",
      "  warnings.warn(msg, FutureWarning)\n"
     ]
    },
    {
     "data": {
      "text/plain": [
       "<AxesSubplot:xlabel='referral_current_salary', ylabel='Density'>"
      ]
     },
     "execution_count": 20,
     "metadata": {},
     "output_type": "execute_result"
    },
    {
     "data": {
      "image/png": "[encoded data removed]",
      "text/plain": [
       "<Figure size 640x480 with 1 Axes>"
      ]
     },
     "metadata": {},
     "output_type": "display_data"
    }
   ],
   "source": [
    "# Distribution after zscore encoding\n",
    "sns.distplot(z_scaled['referral_current_salary'],bins=5)"
   ]
  },
  {
   "cell_type": "markdown",
   "metadata": {},
   "source": [
    "No diffrences in data spread but scale have changed."
   ]
  },
  {
   "cell_type": "markdown",
   "metadata": {},
   "source": [
    "# Scaling Method 2 (StandardScalar)"
   ]
  },
  {
   "cell_type": "code",
   "execution_count": 21,
   "metadata": {},
   "outputs": [],
   "source": [
    "from sklearn.preprocessing import StandardScaler"
   ]
  },
  {
   "cell_type": "code",
   "execution_count": 22,
   "metadata": {},
   "outputs": [],
   "source": [
    "std = StandardScaler()"
   ]
  },
  {
   "cell_type": "code",
   "execution_count": 23,
   "metadata": {},
   "outputs": [],
   "source": [
    "std_scaled = std.fit_transform(df[num])"
   ]
  },
  {
   "cell_type": "code",
   "execution_count": 24,
   "metadata": {},
   "outputs": [],
   "source": [
    "std_scaled=pd.DataFrame(std_scaled,columns=df[num].columns)"
   ]
  },
  {
   "cell_type": "code",
   "execution_count": 25,
   "metadata": {},
   "outputs": [
    {
     "data": {
      "text/html": [
       "<div>\n",
       "<style scoped>\n",
       "    .dataframe tbody tr th:only-of-type {\n",
       "        vertical-align: middle;\n",
       "    }\n",
       "\n",
       "    .dataframe tbody tr th {\n",
       "        vertical-align: top;\n",
       "    }\n",
       "\n",
       "    .dataframe thead th {\n",
       "        text-align: right;\n",
       "    }\n",
       "</style>\n",
       "<table border=\"1\" class=\"dataframe\">\n",
       "  <thead>\n",
       "    <tr style=\"text-align: right;\">\n",
       "      <th></th>\n",
       "      <th>referral_age</th>\n",
       "      <th>referral_exp_in_years</th>\n",
       "      <th>referral_current_salary</th>\n",
       "      <th>referral_10_th_marks</th>\n",
       "      <th>referral_12th_marks</th>\n",
       "      <th>referral_graduation_marks</th>\n",
       "      <th>referral_post_grad_marks</th>\n",
       "      <th>referral_expected_sal</th>\n",
       "      <th>referral_aptitude_numerical_score</th>\n",
       "      <th>referral_aptitude_verbal_score</th>\n",
       "      <th>referral_aptitude_reasoning_score</th>\n",
       "      <th>referral_Management_Interview_score</th>\n",
       "      <th>referral_HR_Interview_score</th>\n",
       "      <th>Salary offered</th>\n",
       "    </tr>\n",
       "  </thead>\n",
       "  <tbody>\n",
       "    <tr>\n",
       "      <th>count</th>\n",
       "      <td>4.990000e+02</td>\n",
       "      <td>4.990000e+02</td>\n",
       "      <td>4.990000e+02</td>\n",
       "      <td>4.990000e+02</td>\n",
       "      <td>4.990000e+02</td>\n",
       "      <td>4.990000e+02</td>\n",
       "      <td>4.990000e+02</td>\n",
       "      <td>4.990000e+02</td>\n",
       "      <td>4.990000e+02</td>\n",
       "      <td>4.990000e+02</td>\n",
       "      <td>4.990000e+02</td>\n",
       "      <td>4.990000e+02</td>\n",
       "      <td>4.990000e+02</td>\n",
       "      <td>4.990000e+02</td>\n",
       "    </tr>\n",
       "    <tr>\n",
       "      <th>mean</th>\n",
       "      <td>-1.085749e-16</td>\n",
       "      <td>9.878538e-17</td>\n",
       "      <td>-4.449792e-17</td>\n",
       "      <td>1.168515e-15</td>\n",
       "      <td>5.842576e-16</td>\n",
       "      <td>1.181420e-16</td>\n",
       "      <td>-8.080822e-16</td>\n",
       "      <td>3.666628e-16</td>\n",
       "      <td>4.583285e-17</td>\n",
       "      <td>-1.184201e-16</td>\n",
       "      <td>-1.263741e-16</td>\n",
       "      <td>-1.174745e-16</td>\n",
       "      <td>-2.227677e-17</td>\n",
       "      <td>9.166571e-17</td>\n",
       "    </tr>\n",
       "    <tr>\n",
       "      <th>std</th>\n",
       "      <td>1.001004e+00</td>\n",
       "      <td>1.001004e+00</td>\n",
       "      <td>1.001004e+00</td>\n",
       "      <td>1.001004e+00</td>\n",
       "      <td>1.001004e+00</td>\n",
       "      <td>1.001004e+00</td>\n",
       "      <td>1.001004e+00</td>\n",
       "      <td>1.001004e+00</td>\n",
       "      <td>1.001004e+00</td>\n",
       "      <td>1.001004e+00</td>\n",
       "      <td>1.001004e+00</td>\n",
       "      <td>1.001004e+00</td>\n",
       "      <td>1.001004e+00</td>\n",
       "      <td>1.001004e+00</td>\n",
       "    </tr>\n",
       "    <tr>\n",
       "      <th>min</th>\n",
       "      <td>-2.498982e+00</td>\n",
       "      <td>-1.171107e+00</td>\n",
       "      <td>-1.170604e+00</td>\n",
       "      <td>-1.656266e+00</td>\n",
       "      <td>-5.995608e+00</td>\n",
       "      <td>-1.655236e+00</td>\n",
       "      <td>-1.746989e+00</td>\n",
       "      <td>-1.173312e+00</td>\n",
       "      <td>-1.644252e+00</td>\n",
       "      <td>-1.754718e+00</td>\n",
       "      <td>-1.754688e+00</td>\n",
       "      <td>-1.622621e+00</td>\n",
       "      <td>-8.464606e-01</td>\n",
       "      <td>-1.179563e+00</td>\n",
       "    </tr>\n",
       "    <tr>\n",
       "      <th>25%</th>\n",
       "      <td>-7.190903e-01</td>\n",
       "      <td>-7.875531e-01</td>\n",
       "      <td>-7.897520e-01</td>\n",
       "      <td>-8.970373e-01</td>\n",
       "      <td>-7.763793e-01</td>\n",
       "      <td>-8.950994e-01</td>\n",
       "      <td>-8.863596e-01</td>\n",
       "      <td>-7.975362e-01</td>\n",
       "      <td>-8.783234e-01</td>\n",
       "      <td>-8.277956e-01</td>\n",
       "      <td>-7.971391e-01</td>\n",
       "      <td>-9.369484e-01</td>\n",
       "      <td>-4.824935e-01</td>\n",
       "      <td>-7.990954e-01</td>\n",
       "    </tr>\n",
       "    <tr>\n",
       "      <th>50%</th>\n",
       "      <td>-7.133833e-03</td>\n",
       "      <td>-2.044594e-02</td>\n",
       "      <td>-2.804869e-02</td>\n",
       "      <td>5.199914e-02</td>\n",
       "      <td>-4.385598e-02</td>\n",
       "      <td>-1.189864e-02</td>\n",
       "      <td>-2.573054e-02</td>\n",
       "      <td>-9.722615e-02</td>\n",
       "      <td>-4.356474e-02</td>\n",
       "      <td>-8.235822e-03</td>\n",
       "      <td>-1.674821e-02</td>\n",
       "      <td>9.156072e-02</td>\n",
       "      <td>-1.185264e-01</td>\n",
       "      <td>-1.913773e-02</td>\n",
       "    </tr>\n",
       "    <tr>\n",
       "      <th>75%</th>\n",
       "      <td>7.048227e-01</td>\n",
       "      <td>7.466613e-01</td>\n",
       "      <td>7.526972e-01</td>\n",
       "      <td>9.061319e-01</td>\n",
       "      <td>8.717982e-01</td>\n",
       "      <td>9.102248e-01</td>\n",
       "      <td>9.783367e-01</td>\n",
       "      <td>5.860032e-01</td>\n",
       "      <td>8.788316e-01</td>\n",
       "      <td>8.826257e-01</td>\n",
       "      <td>7.957852e-01</td>\n",
       "      <td>7.772334e-01</td>\n",
       "      <td>4.274243e-01</td>\n",
       "      <td>7.417966e-01</td>\n",
       "    </tr>\n",
       "    <tr>\n",
       "      <th>max</th>\n",
       "      <td>1.352004e+01</td>\n",
       "      <td>1.455459e+01</td>\n",
       "      <td>1.459665e+01</td>\n",
       "      <td>2.424590e+00</td>\n",
       "      <td>1.604322e+00</td>\n",
       "      <td>2.430498e+00</td>\n",
       "      <td>2.173655e+00</td>\n",
       "      <td>1.300370e+01</td>\n",
       "      <td>1.801228e+00</td>\n",
       "      <td>1.773487e+00</td>\n",
       "      <td>4.880877e+00</td>\n",
       "      <td>1.462906e+00</td>\n",
       "      <td>1.917173e+01</td>\n",
       "      <td>1.457178e+01</td>\n",
       "    </tr>\n",
       "  </tbody>\n",
       "</table>\n",
       "</div>"
      ],
      "text/plain": [
       "       referral_age  referral_exp_in_years  referral_current_salary  \\\n",
       "count  4.990000e+02           4.990000e+02             4.990000e+02   \n",
       "mean  -1.085749e-16           9.878538e-17            -4.449792e-17   \n",
       "std    1.001004e+00           1.001004e+00             1.001004e+00   \n",
       "min   -2.498982e+00          -1.171107e+00            -1.170604e+00   \n",
       "25%   -7.190903e-01          -7.875531e-01            -7.897520e-01   \n",
       "50%   -7.133833e-03          -2.044594e-02            -2.804869e-02   \n",
       "75%    7.048227e-01           7.466613e-01             7.526972e-01   \n",
       "max    1.352004e+01           1.455459e+01             1.459665e+01   \n",
       "\n",
       "       referral_10_th_marks  referral_12th_marks  referral_graduation_marks  \\\n",
       "count          4.990000e+02         4.990000e+02               4.990000e+02   \n",
       "mean           1.168515e-15         5.842576e-16               1.181420e-16   \n",
       "std            1.001004e+00         1.001004e+00               1.001004e+00   \n",
       "min           -1.656266e+00        -5.995608e+00              -1.655236e+00   \n",
       "25%           -8.970373e-01        -7.763793e-01              -8.950994e-01   \n",
       "50%            5.199914e-02        -4.385598e-02              -1.189864e-02   \n",
       "75%            9.061319e-01         8.717982e-01               9.102248e-01   \n",
       "max            2.424590e+00         1.604322e+00               2.430498e+00   \n",
       "\n",
       "       referral_post_grad_marks  referral_expected_sal  \\\n",
       "count              4.990000e+02           4.990000e+02   \n",
       "mean              -8.080822e-16           3.666628e-16   \n",
       "std                1.001004e+00           1.001004e+00   \n",
       "min               -1.746989e+00          -1.173312e+00   \n",
       "25%               -8.863596e-01          -7.975362e-01   \n",
       "50%               -2.573054e-02          -9.722615e-02   \n",
       "75%                9.783367e-01           5.860032e-01   \n",
       "max                2.173655e+00           1.300370e+01   \n",
       "\n",
       "       referral_aptitude_numerical_score  referral_aptitude_verbal_score  \\\n",
       "count                       4.990000e+02                    4.990000e+02   \n",
       "mean                        4.583285e-17                   -1.184201e-16   \n",
       "std                         1.001004e+00                    1.001004e+00   \n",
       "min                        -1.644252e+00                   -1.754718e+00   \n",
       "25%                        -8.783234e-01                   -8.277956e-01   \n",
       "50%                        -4.356474e-02                   -8.235822e-03   \n",
       "75%                         8.788316e-01                    8.826257e-01   \n",
       "max                         1.801228e+00                    1.773487e+00   \n",
       "\n",
       "       referral_aptitude_reasoning_score  referral_Management_Interview_score  \\\n",
       "count                       4.990000e+02                         4.990000e+02   \n",
       "mean                       -1.263741e-16                        -1.174745e-16   \n",
       "std                         1.001004e+00                         1.001004e+00   \n",
       "min                        -1.754688e+00                        -1.622621e+00   \n",
       "25%                        -7.971391e-01                        -9.369484e-01   \n",
       "50%                        -1.674821e-02                         9.156072e-02   \n",
       "75%                         7.957852e-01                         7.772334e-01   \n",
       "max                         4.880877e+00                         1.462906e+00   \n",
       "\n",
       "       referral_HR_Interview_score  Salary offered  \n",
       "count                 4.990000e+02    4.990000e+02  \n",
       "mean                 -2.227677e-17    9.166571e-17  \n",
       "std                   1.001004e+00    1.001004e+00  \n",
       "min                  -8.464606e-01   -1.179563e+00  \n",
       "25%                  -4.824935e-01   -7.990954e-01  \n",
       "50%                  -1.185264e-01   -1.913773e-02  \n",
       "75%                   4.274243e-01    7.417966e-01  \n",
       "max                   1.917173e+01    1.457178e+01  "
      ]
     },
     "execution_count": 25,
     "metadata": {},
     "output_type": "execute_result"
    }
   ],
   "source": [
    "std_scaled.describe()"
   ]
  },
  {
   "cell_type": "markdown",
   "metadata": {},
   "source": [
    "# Scaling Method 3 (Min-Max)"
   ]
  },
  {
   "cell_type": "code",
   "execution_count": 26,
   "metadata": {},
   "outputs": [],
   "source": [
    "from sklearn.preprocessing import MinMaxScaler"
   ]
  },
  {
   "cell_type": "code",
   "execution_count": 27,
   "metadata": {},
   "outputs": [],
   "source": [
    "minmax=MinMaxScaler()"
   ]
  },
  {
   "cell_type": "code",
   "execution_count": 28,
   "metadata": {},
   "outputs": [],
   "source": [
    "minmax_scaled=minmax.fit_transform(df[num])"
   ]
  },
  {
   "cell_type": "code",
   "execution_count": 29,
   "metadata": {},
   "outputs": [],
   "source": [
    "minmax_scaled=pd.DataFrame(minmax_scaled,columns=df[num].columns)"
   ]
  },
  {
   "cell_type": "markdown",
   "metadata": {},
   "source": [
    "# Transformation"
   ]
  },
  {
   "cell_type": "code",
   "execution_count": 30,
   "metadata": {},
   "outputs": [
    {
     "name": "stdout",
     "output_type": "stream",
     "text": [
      "Skewness :  6.184346309755603 \n",
      "Kurtosis :  89.46603642396403 \n"
     ]
    }
   ],
   "source": [
    "# Lets take any one of the featurea and apply transformation.\n",
    "# Ideally transformations should be done for all the numerical columns\n",
    "\n",
    "print('Skewness :  {} '.format(df['referral_current_salary'].skew()))\n",
    "print('Kurtosis :  {} '.format(df['referral_current_salary'].kurtosis()))"
   ]
  },
  {
   "cell_type": "markdown",
   "metadata": {},
   "source": [
    "### Method 1 (log transformations)"
   ]
  },
  {
   "cell_type": "code",
   "execution_count": 31,
   "metadata": {},
   "outputs": [],
   "source": [
    "import numpy as np"
   ]
  },
  {
   "cell_type": "code",
   "execution_count": 32,
   "metadata": {},
   "outputs": [
    {
     "name": "stdout",
     "output_type": "stream",
     "text": [
      "Skewness :  1.8220213106478522 \n",
      "Kurtosis :  4.49385907196307 \n"
     ]
    }
   ],
   "source": [
    "print('Skewness :  {} '.format(np.log(df['referral_current_salary'].skew())))\n",
    "print('Kurtosis :  {} '.format(np.log(df['referral_current_salary'].kurtosis())))"
   ]
  },
  {
   "cell_type": "code",
   "execution_count": 33,
   "metadata": {},
   "outputs": [
    {
     "name": "stderr",
     "output_type": "stream",
     "text": [
      "/home/daniel/anaconda3/lib/python3.9/site-packages/seaborn/_decorators.py:36: FutureWarning: Pass the following variable as a keyword arg: x. From version 0.12, the only valid positional argument will be `data`, and passing other arguments without an explicit keyword will result in an error or misinterpretation.\n",
      "  warnings.warn(\n"
     ]
    },
    {
     "data": {
      "text/plain": [
       "<AxesSubplot:xlabel='referral_current_salary'>"
      ]
     },
     "execution_count": 33,
     "metadata": {},
     "output_type": "execute_result"
    },
    {
     "data": {
      "image/png": "[encoded data removed]",
      "text/plain": [
       "<Figure size 640x480 with 1 Axes>"
      ]
     },
     "metadata": {},
     "output_type": "display_data"
    }
   ],
   "source": [
    "# Before the transformations\n",
    "sns.boxplot(df['referral_current_salary'])"
   ]
  },
  {
   "cell_type": "code",
   "execution_count": 34,
   "metadata": {},
   "outputs": [
    {
     "name": "stderr",
     "output_type": "stream",
     "text": [
      "/home/daniel/anaconda3/lib/python3.9/site-packages/seaborn/_decorators.py:36: FutureWarning: Pass the following variable as a keyword arg: x. From version 0.12, the only valid positional argument will be `data`, and passing other arguments without an explicit keyword will result in an error or misinterpretation.\n",
      "  warnings.warn(\n"
     ]
    },
    {
     "data": {
      "text/plain": [
       "<AxesSubplot:xlabel='referral_current_salary'>"
      ]
     },
     "execution_count": 34,
     "metadata": {},
     "output_type": "execute_result"
    },
    {
     "data": {
      "image/png": "[encoded data removed]",
      "text/plain": [
       "<Figure size 640x480 with 1 Axes>"
      ]
     },
     "metadata": {},
     "output_type": "display_data"
    }
   ],
   "source": [
    "# After the transformations\n",
    "sns.boxplot(np.log(df['referral_current_salary']))"
   ]
  },
  {
   "cell_type": "markdown",
   "metadata": {},
   "source": [
    "### Method 2 (sqrt transformations)"
   ]
  },
  {
   "cell_type": "code",
   "execution_count": 35,
   "metadata": {},
   "outputs": [
    {
     "name": "stdout",
     "output_type": "stream",
     "text": [
      "Skewness :  2.4868345963806284 \n",
      "Kurtosis :  9.458648763114319 \n"
     ]
    }
   ],
   "source": [
    "print('Skewness :  {} '.format(np.sqrt(df['referral_current_salary'].skew())))\n",
    "print('Kurtosis :  {} '.format(np.sqrt(df['referral_current_salary'].kurtosis())))"
   ]
  },
  {
   "cell_type": "code",
   "execution_count": 36,
   "metadata": {},
   "outputs": [
    {
     "name": "stderr",
     "output_type": "stream",
     "text": [
      "/home/daniel/anaconda3/lib/python3.9/site-packages/seaborn/distributions.py:2619: FutureWarning: `distplot` is a deprecated function and will be removed in a future version. Please adapt your code to use either `displot` (a figure-level function with similar flexibility) or `histplot` (an axes-level function for histograms).\n",
      "  warnings.warn(msg, FutureWarning)\n"
     ]
    },
    {
     "data": {
      "text/plain": [
       "<AxesSubplot:xlabel='referral_current_salary', ylabel='Density'>"
      ]
     },
     "execution_count": 36,
     "metadata": {},
     "output_type": "execute_result"
    },
    {
     "data": {
      "image/png": "[encoded data removed]",
      "text/plain": [
       "<Figure size 640x480 with 1 Axes>"
      ]
     },
     "metadata": {},
     "output_type": "display_data"
    }
   ],
   "source": [
    "sns.distplot(df['referral_current_salary'])"
   ]
  },
  {
   "cell_type": "code",
   "execution_count": 37,
   "metadata": {},
   "outputs": [
    {
     "name": "stderr",
     "output_type": "stream",
     "text": [
      "/home/daniel/anaconda3/lib/python3.9/site-packages/seaborn/distributions.py:2619: FutureWarning: `distplot` is a deprecated function and will be removed in a future version. Please adapt your code to use either `displot` (a figure-level function with similar flexibility) or `histplot` (an axes-level function for histograms).\n",
      "  warnings.warn(msg, FutureWarning)\n"
     ]
    },
    {
     "data": {
      "text/plain": [
       "<AxesSubplot:xlabel='referral_current_salary', ylabel='Density'>"
      ]
     },
     "execution_count": 37,
     "metadata": {},
     "output_type": "execute_result"
    },
    {
     "data": {
      "image/png": "[encoded data removed]",
      "text/plain": [
       "<Figure size 640x480 with 1 Axes>"
      ]
     },
     "metadata": {},
     "output_type": "display_data"
    }
   ],
   "source": [
    "sns.distplot(np.sqrt(df['referral_current_salary']))"
   ]
  },
  {
   "cell_type": "markdown",
   "metadata": {},
   "source": [
    "### Method 3 (root of 10 transformations)"
   ]
  },
  {
   "cell_type": "code",
   "execution_count": 38,
   "metadata": {},
   "outputs": [
    {
     "name": "stdout",
     "output_type": "stream",
     "text": [
      "Skewness :  -0.3950105143684112 \n",
      "Kurtosis :  0.04120887026425146 \n"
     ]
    }
   ],
   "source": [
    "print('Skewness :  {} '.format((df['referral_current_salary']**0.1).skew()))\n",
    "print('Kurtosis :  {} '.format((df['referral_current_salary']**0.1).kurtosis()))"
   ]
  },
  {
   "cell_type": "markdown",
   "metadata": {},
   "source": [
    "Out of above three transformation technique root of 10 is giving better results.\n",
    "We can choose the transformation technique with respective to the Algorithm we use.\n",
    "Note : We need to trnaform the values back to the original format once model built and predicted."
   ]
  },
  {
   "cell_type": "markdown",
   "metadata": {},
   "source": [
    "# Outlier Treatment"
   ]
  },
  {
   "cell_type": "code",
   "execution_count": 39,
   "metadata": {},
   "outputs": [],
   "source": [
    "df['referral_current_salary1']=df['referral_current_salary']\n",
    "df['referral_current_salary2']=df['referral_current_salary']"
   ]
  },
  {
   "cell_type": "markdown",
   "metadata": {},
   "source": [
    "#### Z Score Method"
   ]
  },
  {
   "cell_type": "code",
   "execution_count": 40,
   "metadata": {},
   "outputs": [],
   "source": [
    "df['referral_current_salary_zscore']=(df.referral_current_salary - df.referral_current_salary.mean())/df.referral_current_salary.std()"
   ]
  },
  {
   "cell_type": "code",
   "execution_count": 41,
   "metadata": {},
   "outputs": [
    {
     "data": {
      "text/plain": [
       "count    499.000000\n",
       "mean      86.472946\n",
       "std       52.566584\n",
       "min       25.000000\n",
       "25%       45.000000\n",
       "50%       85.000000\n",
       "75%      126.000000\n",
       "max      853.000000\n",
       "Name: referral_current_salary, dtype: float64"
      ]
     },
     "execution_count": 41,
     "metadata": {},
     "output_type": "execute_result"
    }
   ],
   "source": [
    "df['referral_current_salary'].describe()"
   ]
  },
  {
   "cell_type": "code",
   "execution_count": 42,
   "metadata": {},
   "outputs": [
    {
     "data": {
      "text/plain": [
       "count    4.990000e+02\n",
       "mean     1.824415e-17\n",
       "std      1.000000e+00\n",
       "min     -1.169430e+00\n",
       "25%     -7.889603e-01\n",
       "50%     -2.802057e-02\n",
       "75%      7.519426e-01\n",
       "max      1.458202e+01\n",
       "Name: referral_current_salary_zscore, dtype: float64"
      ]
     },
     "execution_count": 42,
     "metadata": {},
     "output_type": "execute_result"
    }
   ],
   "source": [
    "df['referral_current_salary_zscore'].describe()"
   ]
  },
  {
   "cell_type": "code",
   "execution_count": null,
   "metadata": {},
   "outputs": [],
   "source": []
  },
  {
   "cell_type": "code",
   "execution_count": 43,
   "metadata": {},
   "outputs": [
    {
     "data": {
      "text/plain": [
       "<AxesSubplot:>"
      ]
     },
     "execution_count": 43,
     "metadata": {},
     "output_type": "execute_result"
    },
    {
     "data": {
      "image/png": "[encoded data removed]",
      "text/plain": [
       "<Figure size 640x480 with 1 Axes>"
      ]
     },
     "metadata": {},
     "output_type": "display_data"
    }
   ],
   "source": [
    "df['referral_current_salary_zscore'].plot(kind='box')"
   ]
  },
  {
   "cell_type": "code",
   "execution_count": 44,
   "metadata": {},
   "outputs": [
    {
     "data": {
      "text/plain": [
       "<AxesSubplot:>"
      ]
     },
     "execution_count": 44,
     "metadata": {},
     "output_type": "execute_result"
    },
    {
     "data": {
      "image/png": "[encoded data removed]",
      "text/plain": [
       "<Figure size 640x480 with 1 Axes>"
      ]
     },
     "metadata": {},
     "output_type": "display_data"
    }
   ],
   "source": [
    "df['referral_current_salary'].plot(kind='box')"
   ]
  },
  {
   "cell_type": "code",
   "execution_count": 45,
   "metadata": {},
   "outputs": [
    {
     "data": {
      "text/html": [
       "<div>\n",
       "<style scoped>\n",
       "    .dataframe tbody tr th:only-of-type {\n",
       "        vertical-align: middle;\n",
       "    }\n",
       "\n",
       "    .dataframe tbody tr th {\n",
       "        vertical-align: top;\n",
       "    }\n",
       "\n",
       "    .dataframe thead th {\n",
       "        text-align: right;\n",
       "    }\n",
       "</style>\n",
       "<table border=\"1\" class=\"dataframe\">\n",
       "  <thead>\n",
       "    <tr style=\"text-align: right;\">\n",
       "      <th></th>\n",
       "      <th>referral_age</th>\n",
       "      <th>referral_exp_in_years</th>\n",
       "      <th>referral_preferred_city</th>\n",
       "      <th>referral_current_salary</th>\n",
       "      <th>referral_10_th_marks</th>\n",
       "      <th>referral_12th_marks</th>\n",
       "      <th>referral_graduation_marks</th>\n",
       "      <th>referral_post_grad_marks</th>\n",
       "      <th>referral_gender</th>\n",
       "      <th>referral_expected_sal</th>\n",
       "      <th>...</th>\n",
       "      <th>referral_aptitude_verbal_score</th>\n",
       "      <th>referral_aptitude_reasoning_score</th>\n",
       "      <th>referral_Management_Interview_score</th>\n",
       "      <th>referral_HR_Interview_score</th>\n",
       "      <th>Salary offered</th>\n",
       "      <th>Emp_Salary_Grade</th>\n",
       "      <th>Joined</th>\n",
       "      <th>referral_current_salary1</th>\n",
       "      <th>referral_current_salary2</th>\n",
       "      <th>referral_current_salary_zscore</th>\n",
       "    </tr>\n",
       "  </thead>\n",
       "  <tbody>\n",
       "    <tr>\n",
       "      <th>354</th>\n",
       "      <td>65</td>\n",
       "      <td>42.0</td>\n",
       "      <td>Mumbai</td>\n",
       "      <td>853</td>\n",
       "      <td>61.0</td>\n",
       "      <td>95</td>\n",
       "      <td>61.0</td>\n",
       "      <td>68.0</td>\n",
       "      <td>Male</td>\n",
       "      <td>870.0</td>\n",
       "      <td>...</td>\n",
       "      <td>33.48</td>\n",
       "      <td>29.13</td>\n",
       "      <td>7.0</td>\n",
       "      <td>3</td>\n",
       "      <td>868</td>\n",
       "      <td>EL0</td>\n",
       "      <td>No</td>\n",
       "      <td>853</td>\n",
       "      <td>853</td>\n",
       "      <td>14.582021</td>\n",
       "    </tr>\n",
       "  </tbody>\n",
       "</table>\n",
       "<p>1 rows × 21 columns</p>\n",
       "</div>"
      ],
      "text/plain": [
       "     referral_age  referral_exp_in_years referral_preferred_city  \\\n",
       "354            65                   42.0                  Mumbai   \n",
       "\n",
       "     referral_current_salary  referral_10_th_marks  referral_12th_marks  \\\n",
       "354                      853                  61.0                   95   \n",
       "\n",
       "     referral_graduation_marks  referral_post_grad_marks referral_gender  \\\n",
       "354                       61.0                      68.0            Male   \n",
       "\n",
       "     referral_expected_sal  ...  referral_aptitude_verbal_score  \\\n",
       "354                  870.0  ...                           33.48   \n",
       "\n",
       "     referral_aptitude_reasoning_score  referral_Management_Interview_score  \\\n",
       "354                              29.13                                  7.0   \n",
       "\n",
       "     referral_HR_Interview_score  Salary offered  Emp_Salary_Grade Joined  \\\n",
       "354                            3             868               EL0     No   \n",
       "\n",
       "    referral_current_salary1  referral_current_salary2  \\\n",
       "354                      853                       853   \n",
       "\n",
       "     referral_current_salary_zscore  \n",
       "354                       14.582021  \n",
       "\n",
       "[1 rows x 21 columns]"
      ]
     },
     "execution_count": 45,
     "metadata": {},
     "output_type": "execute_result"
    }
   ],
   "source": [
    "# outlier if greater than 3\n",
    "df[df['referral_current_salary_zscore'] > 3]"
   ]
  },
  {
   "cell_type": "code",
   "execution_count": 46,
   "metadata": {},
   "outputs": [
    {
     "data": {
      "text/html": [
       "<div>\n",
       "<style scoped>\n",
       "    .dataframe tbody tr th:only-of-type {\n",
       "        vertical-align: middle;\n",
       "    }\n",
       "\n",
       "    .dataframe tbody tr th {\n",
       "        vertical-align: top;\n",
       "    }\n",
       "\n",
       "    .dataframe thead th {\n",
       "        text-align: right;\n",
       "    }\n",
       "</style>\n",
       "<table border=\"1\" class=\"dataframe\">\n",
       "  <thead>\n",
       "    <tr style=\"text-align: right;\">\n",
       "      <th></th>\n",
       "      <th>referral_age</th>\n",
       "      <th>referral_exp_in_years</th>\n",
       "      <th>referral_preferred_city</th>\n",
       "      <th>referral_current_salary</th>\n",
       "      <th>referral_10_th_marks</th>\n",
       "      <th>referral_12th_marks</th>\n",
       "      <th>referral_graduation_marks</th>\n",
       "      <th>referral_post_grad_marks</th>\n",
       "      <th>referral_gender</th>\n",
       "      <th>referral_expected_sal</th>\n",
       "      <th>...</th>\n",
       "      <th>referral_aptitude_verbal_score</th>\n",
       "      <th>referral_aptitude_reasoning_score</th>\n",
       "      <th>referral_Management_Interview_score</th>\n",
       "      <th>referral_HR_Interview_score</th>\n",
       "      <th>Salary offered</th>\n",
       "      <th>Emp_Salary_Grade</th>\n",
       "      <th>Joined</th>\n",
       "      <th>referral_current_salary1</th>\n",
       "      <th>referral_current_salary2</th>\n",
       "      <th>referral_current_salary_zscore</th>\n",
       "    </tr>\n",
       "  </thead>\n",
       "  <tbody>\n",
       "  </tbody>\n",
       "</table>\n",
       "<p>0 rows × 21 columns</p>\n",
       "</div>"
      ],
      "text/plain": [
       "Empty DataFrame\n",
       "Columns: [referral_age, referral_exp_in_years, referral_preferred_city, referral_current_salary, referral_10_th_marks, referral_12th_marks, referral_graduation_marks, referral_post_grad_marks, referral_gender, referral_expected_sal, referral_aptitude_numerical_score, referral_aptitude_verbal_score, referral_aptitude_reasoning_score, referral_Management_Interview_score, referral_HR_Interview_score, Salary offered, Emp_Salary_Grade, Joined, referral_current_salary1, referral_current_salary2, referral_current_salary_zscore]\n",
       "Index: []\n",
       "\n",
       "[0 rows x 21 columns]"
      ]
     },
     "execution_count": 46,
     "metadata": {},
     "output_type": "execute_result"
    }
   ],
   "source": [
    "# outlier if lessthan -3\n",
    "df[df['referral_current_salary_zscore'] < -3]"
   ]
  },
  {
   "cell_type": "code",
   "execution_count": 47,
   "metadata": {},
   "outputs": [
    {
     "data": {
      "text/plain": [
       "210"
      ]
     },
     "execution_count": 47,
     "metadata": {},
     "output_type": "execute_result"
    }
   ],
   "source": [
    "# Calculate zscore impute values\n",
    "referral_current_salary_zscore=(3*df.referral_current_salary.std())+df.referral_current_salary.std()\n",
    "round(referral_current_salary_zscore)"
   ]
  },
  {
   "cell_type": "code",
   "execution_count": 48,
   "metadata": {},
   "outputs": [],
   "source": [
    "list1=df[df['referral_current_salary_zscore'] > 3].index"
   ]
  },
  {
   "cell_type": "code",
   "execution_count": 49,
   "metadata": {},
   "outputs": [
    {
     "data": {
      "text/plain": [
       "Int64Index([354], dtype='int64')"
      ]
     },
     "execution_count": 49,
     "metadata": {},
     "output_type": "execute_result"
    }
   ],
   "source": [
    "list1"
   ]
  },
  {
   "cell_type": "code",
   "execution_count": 50,
   "metadata": {},
   "outputs": [],
   "source": [
    "df['referral_current_salary']=np.where(df.index.isin(list1),round(referral_current_salary_zscore),df['referral_current_salary'])"
   ]
  },
  {
   "cell_type": "code",
   "execution_count": 51,
   "metadata": {},
   "outputs": [
    {
     "data": {
      "text/plain": [
       "count    499.000000\n",
       "mean      85.184369\n",
       "std       40.154397\n",
       "min       25.000000\n",
       "25%       45.000000\n",
       "50%       85.000000\n",
       "75%      126.000000\n",
       "max      210.000000\n",
       "Name: referral_current_salary, dtype: float64"
      ]
     },
     "execution_count": 51,
     "metadata": {},
     "output_type": "execute_result"
    }
   ],
   "source": [
    "df['referral_current_salary'].describe()"
   ]
  },
  {
   "cell_type": "code",
   "execution_count": 52,
   "metadata": {},
   "outputs": [
    {
     "data": {
      "text/plain": [
       "<AxesSubplot:>"
      ]
     },
     "execution_count": 52,
     "metadata": {},
     "output_type": "execute_result"
    },
    {
     "data": {
      "image/png": "[encoded data removed]",
      "text/plain": [
       "<Figure size 640x480 with 1 Axes>"
      ]
     },
     "metadata": {},
     "output_type": "display_data"
    }
   ],
   "source": [
    "df['referral_current_salary'].plot(kind='box')"
   ]
  },
  {
   "cell_type": "code",
   "execution_count": 53,
   "metadata": {},
   "outputs": [],
   "source": [
    "df.drop(columns=['referral_current_salary_zscore'],inplace=True)"
   ]
  },
  {
   "cell_type": "markdown",
   "metadata": {},
   "source": [
    "#### Box plot Method"
   ]
  },
  {
   "cell_type": "code",
   "execution_count": 54,
   "metadata": {},
   "outputs": [],
   "source": [
    "def detect_outlier(col):\n",
    "    Q3,Q1=np.percentile(col,[75,25])\n",
    "    iqr=Q3-Q1\n",
    "    lower_outlier_range=Q1-(1.5*iqr)\n",
    "    upper_outlier_range=Q3+(1.5*iqr)\n",
    "    return lower_outlier_range,upper_outlier_range"
   ]
  },
  {
   "cell_type": "code",
   "execution_count": 55,
   "metadata": {},
   "outputs": [],
   "source": [
    "lr,ur=detect_outlier(df['referral_current_salary'])"
   ]
  },
  {
   "cell_type": "code",
   "execution_count": 56,
   "metadata": {},
   "outputs": [
    {
     "name": "stdout",
     "output_type": "stream",
     "text": [
      "Lower Range : -76.5 Outer Range : 247.5\n"
     ]
    }
   ],
   "source": [
    "print('Lower Range : {} Outer Range : {}'.format(lr,ur))"
   ]
  },
  {
   "cell_type": "markdown",
   "metadata": {},
   "source": [
    "# Encoding"
   ]
  },
  {
   "cell_type": "code",
   "execution_count": 57,
   "metadata": {},
   "outputs": [
    {
     "name": "stdout",
     "output_type": "stream",
     "text": [
      "<class 'pandas.core.frame.DataFrame'>\n",
      "RangeIndex: 499 entries, 0 to 498\n",
      "Data columns (total 20 columns):\n",
      " #   Column                               Non-Null Count  Dtype  \n",
      "---  ------                               --------------  -----  \n",
      " 0   referral_age                         499 non-null    int64  \n",
      " 1   referral_exp_in_years                499 non-null    float64\n",
      " 2   referral_preferred_city              499 non-null    object \n",
      " 3   referral_current_salary              499 non-null    int64  \n",
      " 4   referral_10_th_marks                 499 non-null    float64\n",
      " 5   referral_12th_marks                  499 non-null    int64  \n",
      " 6   referral_graduation_marks            499 non-null    float64\n",
      " 7   referral_post_grad_marks             499 non-null    float64\n",
      " 8   referral_gender                      499 non-null    object \n",
      " 9   referral_expected_sal                499 non-null    float64\n",
      " 10  referral_aptitude_numerical_score    499 non-null    float64\n",
      " 11  referral_aptitude_verbal_score       499 non-null    float64\n",
      " 12  referral_aptitude_reasoning_score    499 non-null    float64\n",
      " 13  referral_Management_Interview_score  499 non-null    float64\n",
      " 14  referral_HR_Interview_score          499 non-null    int64  \n",
      " 15  Salary offered                       499 non-null    int64  \n",
      " 16  Emp_Salary_Grade                     499 non-null    object \n",
      " 17  Joined                               499 non-null    object \n",
      " 18  referral_current_salary1             499 non-null    int64  \n",
      " 19  referral_current_salary2             499 non-null    int64  \n",
      "dtypes: float64(9), int64(7), object(4)\n",
      "memory usage: 78.1+ KB\n"
     ]
    }
   ],
   "source": [
    "df.info()"
   ]
  },
  {
   "cell_type": "code",
   "execution_count": 58,
   "metadata": {},
   "outputs": [],
   "source": [
    "cat_cols = []\n",
    "for col in df.columns:\n",
    "    if df[col].dtype =='object':\n",
    "        cat_cols.append(col)\n",
    "        "
   ]
  },
  {
   "cell_type": "code",
   "execution_count": 59,
   "metadata": {},
   "outputs": [
    {
     "name": "stdout",
     "output_type": "stream",
     "text": [
      "['referral_preferred_city', 'referral_gender', 'Emp_Salary_Grade', 'Joined']\n"
     ]
    }
   ],
   "source": [
    "print(cat_cols)"
   ]
  },
  {
   "cell_type": "code",
   "execution_count": 60,
   "metadata": {},
   "outputs": [
    {
     "data": {
      "text/plain": [
       "No     261\n",
       "Yes    238\n",
       "Name: Joined, dtype: int64"
      ]
     },
     "execution_count": 60,
     "metadata": {},
     "output_type": "execute_result"
    }
   ],
   "source": [
    "df['Joined'].value_counts()"
   ]
  },
  {
   "cell_type": "code",
   "execution_count": 61,
   "metadata": {},
   "outputs": [],
   "source": [
    "df['Joined'] = np.where(df['Joined'] == 'Yes',1,0)"
   ]
  },
  {
   "cell_type": "code",
   "execution_count": 62,
   "metadata": {},
   "outputs": [
    {
     "data": {
      "text/plain": [
       "0    261\n",
       "1    238\n",
       "Name: Joined, dtype: int64"
      ]
     },
     "execution_count": 62,
     "metadata": {},
     "output_type": "execute_result"
    }
   ],
   "source": [
    "df['Joined'].value_counts()"
   ]
  },
  {
   "cell_type": "markdown",
   "metadata": {},
   "source": [
    " ## Label Encoding"
   ]
  },
  {
   "cell_type": "code",
   "execution_count": 63,
   "metadata": {},
   "outputs": [],
   "source": [
    "df['referral_preferred_city'] = df['referral_preferred_city'].astype('category')"
   ]
  },
  {
   "cell_type": "code",
   "execution_count": 64,
   "metadata": {},
   "outputs": [
    {
     "data": {
      "text/plain": [
       "Mumbai       232\n",
       "Bangalore    142\n",
       "Delhi         93\n",
       "Pune          32\n",
       "Name: referral_preferred_city, dtype: int64"
      ]
     },
     "execution_count": 64,
     "metadata": {},
     "output_type": "execute_result"
    }
   ],
   "source": [
    "df['referral_preferred_city'].value_counts()"
   ]
  },
  {
   "cell_type": "code",
   "execution_count": 65,
   "metadata": {},
   "outputs": [
    {
     "name": "stdout",
     "output_type": "stream",
     "text": [
      "<class 'pandas.core.frame.DataFrame'>\n",
      "RangeIndex: 499 entries, 0 to 498\n",
      "Data columns (total 20 columns):\n",
      " #   Column                               Non-Null Count  Dtype   \n",
      "---  ------                               --------------  -----   \n",
      " 0   referral_age                         499 non-null    int64   \n",
      " 1   referral_exp_in_years                499 non-null    float64 \n",
      " 2   referral_preferred_city              499 non-null    category\n",
      " 3   referral_current_salary              499 non-null    int64   \n",
      " 4   referral_10_th_marks                 499 non-null    float64 \n",
      " 5   referral_12th_marks                  499 non-null    int64   \n",
      " 6   referral_graduation_marks            499 non-null    float64 \n",
      " 7   referral_post_grad_marks             499 non-null    float64 \n",
      " 8   referral_gender                      499 non-null    object  \n",
      " 9   referral_expected_sal                499 non-null    float64 \n",
      " 10  referral_aptitude_numerical_score    499 non-null    float64 \n",
      " 11  referral_aptitude_verbal_score       499 non-null    float64 \n",
      " 12  referral_aptitude_reasoning_score    499 non-null    float64 \n",
      " 13  referral_Management_Interview_score  499 non-null    float64 \n",
      " 14  referral_HR_Interview_score          499 non-null    int64   \n",
      " 15  Salary offered                       499 non-null    int64   \n",
      " 16  Emp_Salary_Grade                     499 non-null    object  \n",
      " 17  Joined                               499 non-null    int64   \n",
      " 18  referral_current_salary1             499 non-null    int64   \n",
      " 19  referral_current_salary2             499 non-null    int64   \n",
      "dtypes: category(1), float64(9), int64(8), object(2)\n",
      "memory usage: 74.9+ KB\n"
     ]
    }
   ],
   "source": [
    "df.info()"
   ]
  },
  {
   "cell_type": "code",
   "execution_count": 66,
   "metadata": {},
   "outputs": [],
   "source": [
    "df['referral_preferred_city']=df.referral_preferred_city.cat.codes"
   ]
  },
  {
   "cell_type": "code",
   "execution_count": 67,
   "metadata": {},
   "outputs": [
    {
     "data": {
      "text/plain": [
       "2    232\n",
       "0    142\n",
       "1     93\n",
       "3     32\n",
       "Name: referral_preferred_city, dtype: int64"
      ]
     },
     "execution_count": 67,
     "metadata": {},
     "output_type": "execute_result"
    }
   ],
   "source": [
    "df['referral_preferred_city'].value_counts()"
   ]
  },
  {
   "cell_type": "markdown",
   "metadata": {},
   "source": [
    "#### Alternate Label Encoding"
   ]
  },
  {
   "cell_type": "code",
   "execution_count": 68,
   "metadata": {},
   "outputs": [
    {
     "data": {
      "text/plain": [
       "Male      261\n",
       "Female    238\n",
       "Name: referral_gender, dtype: int64"
      ]
     },
     "execution_count": 68,
     "metadata": {},
     "output_type": "execute_result"
    }
   ],
   "source": [
    "df['referral_gender'].value_counts()"
   ]
  },
  {
   "cell_type": "code",
   "execution_count": 69,
   "metadata": {},
   "outputs": [],
   "source": [
    "from sklearn.preprocessing import LabelEncoder"
   ]
  },
  {
   "cell_type": "code",
   "execution_count": 70,
   "metadata": {},
   "outputs": [],
   "source": [
    "le = LabelEncoder()"
   ]
  },
  {
   "cell_type": "code",
   "execution_count": 71,
   "metadata": {},
   "outputs": [],
   "source": [
    "gender_encoded_array=le.fit_transform(df['referral_gender'])"
   ]
  },
  {
   "cell_type": "code",
   "execution_count": 72,
   "metadata": {},
   "outputs": [],
   "source": [
    "gender_encoded=pd.DataFrame(gender_encoded_array)"
   ]
  },
  {
   "cell_type": "code",
   "execution_count": 73,
   "metadata": {},
   "outputs": [],
   "source": [
    "df_gen=df.join(gender_encoded)"
   ]
  },
  {
   "cell_type": "code",
   "execution_count": 74,
   "metadata": {},
   "outputs": [],
   "source": [
    "df_gen.rename(columns={0:'gender'},inplace=True)"
   ]
  },
  {
   "cell_type": "code",
   "execution_count": 75,
   "metadata": {},
   "outputs": [
    {
     "data": {
      "text/html": [
       "<div>\n",
       "<style scoped>\n",
       "    .dataframe tbody tr th:only-of-type {\n",
       "        vertical-align: middle;\n",
       "    }\n",
       "\n",
       "    .dataframe tbody tr th {\n",
       "        vertical-align: top;\n",
       "    }\n",
       "\n",
       "    .dataframe thead th {\n",
       "        text-align: right;\n",
       "    }\n",
       "</style>\n",
       "<table border=\"1\" class=\"dataframe\">\n",
       "  <thead>\n",
       "    <tr style=\"text-align: right;\">\n",
       "      <th></th>\n",
       "      <th>referral_age</th>\n",
       "      <th>referral_exp_in_years</th>\n",
       "      <th>referral_preferred_city</th>\n",
       "      <th>referral_current_salary</th>\n",
       "      <th>referral_10_th_marks</th>\n",
       "      <th>referral_12th_marks</th>\n",
       "      <th>referral_graduation_marks</th>\n",
       "      <th>referral_post_grad_marks</th>\n",
       "      <th>referral_gender</th>\n",
       "      <th>referral_expected_sal</th>\n",
       "      <th>...</th>\n",
       "      <th>referral_aptitude_verbal_score</th>\n",
       "      <th>referral_aptitude_reasoning_score</th>\n",
       "      <th>referral_Management_Interview_score</th>\n",
       "      <th>referral_HR_Interview_score</th>\n",
       "      <th>Salary offered</th>\n",
       "      <th>Emp_Salary_Grade</th>\n",
       "      <th>Joined</th>\n",
       "      <th>referral_current_salary1</th>\n",
       "      <th>referral_current_salary2</th>\n",
       "      <th>gender</th>\n",
       "    </tr>\n",
       "  </thead>\n",
       "  <tbody>\n",
       "    <tr>\n",
       "      <th>0</th>\n",
       "      <td>28</td>\n",
       "      <td>5.0</td>\n",
       "      <td>1</td>\n",
       "      <td>106</td>\n",
       "      <td>89.0</td>\n",
       "      <td>72</td>\n",
       "      <td>89.0</td>\n",
       "      <td>83.0</td>\n",
       "      <td>Male</td>\n",
       "      <td>123.0</td>\n",
       "      <td>...</td>\n",
       "      <td>33.04</td>\n",
       "      <td>23.314248</td>\n",
       "      <td>10.0</td>\n",
       "      <td>3</td>\n",
       "      <td>141</td>\n",
       "      <td>EL0</td>\n",
       "      <td>1</td>\n",
       "      <td>106</td>\n",
       "      <td>106</td>\n",
       "      <td>1</td>\n",
       "    </tr>\n",
       "    <tr>\n",
       "      <th>1</th>\n",
       "      <td>26</td>\n",
       "      <td>3.0</td>\n",
       "      <td>3</td>\n",
       "      <td>65</td>\n",
       "      <td>63.0</td>\n",
       "      <td>77</td>\n",
       "      <td>63.0</td>\n",
       "      <td>85.0</td>\n",
       "      <td>Male</td>\n",
       "      <td>83.0</td>\n",
       "      <td>...</td>\n",
       "      <td>27.39</td>\n",
       "      <td>20.870000</td>\n",
       "      <td>10.0</td>\n",
       "      <td>10</td>\n",
       "      <td>80</td>\n",
       "      <td>ML0</td>\n",
       "      <td>1</td>\n",
       "      <td>65</td>\n",
       "      <td>65</td>\n",
       "      <td>1</td>\n",
       "    </tr>\n",
       "    <tr>\n",
       "      <th>2</th>\n",
       "      <td>23</td>\n",
       "      <td>2.0</td>\n",
       "      <td>2</td>\n",
       "      <td>45</td>\n",
       "      <td>92.0</td>\n",
       "      <td>85</td>\n",
       "      <td>92.0</td>\n",
       "      <td>72.0</td>\n",
       "      <td>Male</td>\n",
       "      <td>62.0</td>\n",
       "      <td>...</td>\n",
       "      <td>2.61</td>\n",
       "      <td>40.000000</td>\n",
       "      <td>2.0</td>\n",
       "      <td>1</td>\n",
       "      <td>60</td>\n",
       "      <td>EL0</td>\n",
       "      <td>0</td>\n",
       "      <td>45</td>\n",
       "      <td>45</td>\n",
       "      <td>1</td>\n",
       "    </tr>\n",
       "  </tbody>\n",
       "</table>\n",
       "<p>3 rows × 21 columns</p>\n",
       "</div>"
      ],
      "text/plain": [
       "   referral_age  referral_exp_in_years  referral_preferred_city  \\\n",
       "0            28                    5.0                        1   \n",
       "1            26                    3.0                        3   \n",
       "2            23                    2.0                        2   \n",
       "\n",
       "   referral_current_salary  referral_10_th_marks  referral_12th_marks  \\\n",
       "0                      106                  89.0                   72   \n",
       "1                       65                  63.0                   77   \n",
       "2                       45                  92.0                   85   \n",
       "\n",
       "   referral_graduation_marks  referral_post_grad_marks referral_gender  \\\n",
       "0                       89.0                      83.0            Male   \n",
       "1                       63.0                      85.0            Male   \n",
       "2                       92.0                      72.0            Male   \n",
       "\n",
       "   referral_expected_sal  ...  referral_aptitude_verbal_score  \\\n",
       "0                  123.0  ...                           33.04   \n",
       "1                   83.0  ...                           27.39   \n",
       "2                   62.0  ...                            2.61   \n",
       "\n",
       "   referral_aptitude_reasoning_score  referral_Management_Interview_score  \\\n",
       "0                          23.314248                                 10.0   \n",
       "1                          20.870000                                 10.0   \n",
       "2                          40.000000                                  2.0   \n",
       "\n",
       "   referral_HR_Interview_score  Salary offered  Emp_Salary_Grade Joined  \\\n",
       "0                            3             141               EL0      1   \n",
       "1                           10              80               ML0      1   \n",
       "2                            1              60               EL0      0   \n",
       "\n",
       "   referral_current_salary1  referral_current_salary2  gender  \n",
       "0                       106                       106       1  \n",
       "1                        65                        65       1  \n",
       "2                        45                        45       1  \n",
       "\n",
       "[3 rows x 21 columns]"
      ]
     },
     "execution_count": 75,
     "metadata": {},
     "output_type": "execute_result"
    }
   ],
   "source": [
    "df_gen.head(3)"
   ]
  },
  {
   "cell_type": "code",
   "execution_count": 76,
   "metadata": {},
   "outputs": [
    {
     "data": {
      "text/plain": [
       "Male      261\n",
       "Female    238\n",
       "Name: referral_gender, dtype: int64"
      ]
     },
     "execution_count": 76,
     "metadata": {},
     "output_type": "execute_result"
    }
   ],
   "source": [
    "df['referral_gender'].value_counts()"
   ]
  },
  {
   "cell_type": "code",
   "execution_count": 77,
   "metadata": {},
   "outputs": [
    {
     "data": {
      "text/plain": [
       "1    261\n",
       "0    238\n",
       "Name: gender, dtype: int64"
      ]
     },
     "execution_count": 77,
     "metadata": {},
     "output_type": "execute_result"
    }
   ],
   "source": [
    "df_gen['gender'].value_counts()"
   ]
  },
  {
   "cell_type": "markdown",
   "metadata": {},
   "source": [
    "## One Hot Encoding"
   ]
  },
  {
   "cell_type": "markdown",
   "metadata": {},
   "source": [
    "#### Method 1"
   ]
  },
  {
   "cell_type": "code",
   "execution_count": 78,
   "metadata": {},
   "outputs": [],
   "source": [
    "cat_cols.remove('referral_preferred_city')"
   ]
  },
  {
   "cell_type": "code",
   "execution_count": 79,
   "metadata": {},
   "outputs": [],
   "source": [
    "cat_cols.remove('Joined')"
   ]
  },
  {
   "cell_type": "code",
   "execution_count": 80,
   "metadata": {},
   "outputs": [
    {
     "data": {
      "text/plain": [
       "['referral_gender', 'Emp_Salary_Grade']"
      ]
     },
     "execution_count": 80,
     "metadata": {},
     "output_type": "execute_result"
    }
   ],
   "source": [
    "cat_cols"
   ]
  },
  {
   "cell_type": "code",
   "execution_count": 81,
   "metadata": {},
   "outputs": [
    {
     "data": {
      "text/html": [
       "<div>\n",
       "<style scoped>\n",
       "    .dataframe tbody tr th:only-of-type {\n",
       "        vertical-align: middle;\n",
       "    }\n",
       "\n",
       "    .dataframe tbody tr th {\n",
       "        vertical-align: top;\n",
       "    }\n",
       "\n",
       "    .dataframe thead th {\n",
       "        text-align: right;\n",
       "    }\n",
       "</style>\n",
       "<table border=\"1\" class=\"dataframe\">\n",
       "  <thead>\n",
       "    <tr style=\"text-align: right;\">\n",
       "      <th></th>\n",
       "      <th>referral_gender</th>\n",
       "      <th>Emp_Salary_Grade</th>\n",
       "    </tr>\n",
       "  </thead>\n",
       "  <tbody>\n",
       "    <tr>\n",
       "      <th>0</th>\n",
       "      <td>Male</td>\n",
       "      <td>EL0</td>\n",
       "    </tr>\n",
       "    <tr>\n",
       "      <th>1</th>\n",
       "      <td>Male</td>\n",
       "      <td>ML0</td>\n",
       "    </tr>\n",
       "    <tr>\n",
       "      <th>2</th>\n",
       "      <td>Male</td>\n",
       "      <td>EL0</td>\n",
       "    </tr>\n",
       "    <tr>\n",
       "      <th>3</th>\n",
       "      <td>Male</td>\n",
       "      <td>ML0</td>\n",
       "    </tr>\n",
       "  </tbody>\n",
       "</table>\n",
       "</div>"
      ],
      "text/plain": [
       "  referral_gender Emp_Salary_Grade\n",
       "0            Male              EL0\n",
       "1            Male              ML0\n",
       "2            Male              EL0\n",
       "3            Male              ML0"
      ]
     },
     "execution_count": 81,
     "metadata": {},
     "output_type": "execute_result"
    }
   ],
   "source": [
    "df[cat_cols].head(4)"
   ]
  },
  {
   "cell_type": "code",
   "execution_count": 82,
   "metadata": {},
   "outputs": [
    {
     "data": {
      "text/plain": [
       "Male      261\n",
       "Female    238\n",
       "Name: referral_gender, dtype: int64"
      ]
     },
     "execution_count": 82,
     "metadata": {},
     "output_type": "execute_result"
    }
   ],
   "source": [
    "df['referral_gender'].value_counts()"
   ]
  },
  {
   "cell_type": "code",
   "execution_count": 83,
   "metadata": {},
   "outputs": [],
   "source": [
    "df_new=pd.get_dummies(df,columns=cat_cols,drop_first=True)"
   ]
  },
  {
   "cell_type": "code",
   "execution_count": 84,
   "metadata": {},
   "outputs": [
    {
     "data": {
      "text/html": [
       "<div>\n",
       "<style scoped>\n",
       "    .dataframe tbody tr th:only-of-type {\n",
       "        vertical-align: middle;\n",
       "    }\n",
       "\n",
       "    .dataframe tbody tr th {\n",
       "        vertical-align: top;\n",
       "    }\n",
       "\n",
       "    .dataframe thead th {\n",
       "        text-align: right;\n",
       "    }\n",
       "</style>\n",
       "<table border=\"1\" class=\"dataframe\">\n",
       "  <thead>\n",
       "    <tr style=\"text-align: right;\">\n",
       "      <th></th>\n",
       "      <th>referral_age</th>\n",
       "      <th>referral_exp_in_years</th>\n",
       "      <th>referral_preferred_city</th>\n",
       "      <th>referral_current_salary</th>\n",
       "      <th>referral_10_th_marks</th>\n",
       "      <th>referral_12th_marks</th>\n",
       "      <th>referral_graduation_marks</th>\n",
       "      <th>referral_post_grad_marks</th>\n",
       "      <th>referral_expected_sal</th>\n",
       "      <th>referral_aptitude_numerical_score</th>\n",
       "      <th>...</th>\n",
       "      <th>referral_aptitude_reasoning_score</th>\n",
       "      <th>referral_Management_Interview_score</th>\n",
       "      <th>referral_HR_Interview_score</th>\n",
       "      <th>Salary offered</th>\n",
       "      <th>Joined</th>\n",
       "      <th>referral_current_salary1</th>\n",
       "      <th>referral_current_salary2</th>\n",
       "      <th>referral_gender_Male</th>\n",
       "      <th>Emp_Salary_Grade_EL0</th>\n",
       "      <th>Emp_Salary_Grade_ML0</th>\n",
       "    </tr>\n",
       "  </thead>\n",
       "  <tbody>\n",
       "    <tr>\n",
       "      <th>0</th>\n",
       "      <td>28</td>\n",
       "      <td>5.0</td>\n",
       "      <td>1</td>\n",
       "      <td>106</td>\n",
       "      <td>89.0</td>\n",
       "      <td>72</td>\n",
       "      <td>89.0</td>\n",
       "      <td>83.0</td>\n",
       "      <td>123.0</td>\n",
       "      <td>10.00</td>\n",
       "      <td>...</td>\n",
       "      <td>23.314248</td>\n",
       "      <td>10.0</td>\n",
       "      <td>3</td>\n",
       "      <td>141</td>\n",
       "      <td>1</td>\n",
       "      <td>106</td>\n",
       "      <td>106</td>\n",
       "      <td>1</td>\n",
       "      <td>1</td>\n",
       "      <td>0</td>\n",
       "    </tr>\n",
       "    <tr>\n",
       "      <th>1</th>\n",
       "      <td>26</td>\n",
       "      <td>3.0</td>\n",
       "      <td>3</td>\n",
       "      <td>65</td>\n",
       "      <td>63.0</td>\n",
       "      <td>77</td>\n",
       "      <td>63.0</td>\n",
       "      <td>85.0</td>\n",
       "      <td>83.0</td>\n",
       "      <td>6.09</td>\n",
       "      <td>...</td>\n",
       "      <td>20.870000</td>\n",
       "      <td>10.0</td>\n",
       "      <td>10</td>\n",
       "      <td>80</td>\n",
       "      <td>1</td>\n",
       "      <td>65</td>\n",
       "      <td>65</td>\n",
       "      <td>1</td>\n",
       "      <td>0</td>\n",
       "      <td>1</td>\n",
       "    </tr>\n",
       "    <tr>\n",
       "      <th>2</th>\n",
       "      <td>23</td>\n",
       "      <td>2.0</td>\n",
       "      <td>2</td>\n",
       "      <td>45</td>\n",
       "      <td>92.0</td>\n",
       "      <td>85</td>\n",
       "      <td>92.0</td>\n",
       "      <td>72.0</td>\n",
       "      <td>62.0</td>\n",
       "      <td>41.74</td>\n",
       "      <td>...</td>\n",
       "      <td>40.000000</td>\n",
       "      <td>2.0</td>\n",
       "      <td>1</td>\n",
       "      <td>60</td>\n",
       "      <td>0</td>\n",
       "      <td>45</td>\n",
       "      <td>45</td>\n",
       "      <td>1</td>\n",
       "      <td>1</td>\n",
       "      <td>0</td>\n",
       "    </tr>\n",
       "    <tr>\n",
       "      <th>3</th>\n",
       "      <td>29</td>\n",
       "      <td>6.0</td>\n",
       "      <td>0</td>\n",
       "      <td>126</td>\n",
       "      <td>60.0</td>\n",
       "      <td>95</td>\n",
       "      <td>60.0</td>\n",
       "      <td>67.0</td>\n",
       "      <td>146.0</td>\n",
       "      <td>31.30</td>\n",
       "      <td>...</td>\n",
       "      <td>23.480000</td>\n",
       "      <td>9.0</td>\n",
       "      <td>3</td>\n",
       "      <td>142</td>\n",
       "      <td>1</td>\n",
       "      <td>126</td>\n",
       "      <td>126</td>\n",
       "      <td>1</td>\n",
       "      <td>0</td>\n",
       "      <td>1</td>\n",
       "    </tr>\n",
       "    <tr>\n",
       "      <th>4</th>\n",
       "      <td>26</td>\n",
       "      <td>3.0</td>\n",
       "      <td>2</td>\n",
       "      <td>65</td>\n",
       "      <td>92.0</td>\n",
       "      <td>70</td>\n",
       "      <td>92.0</td>\n",
       "      <td>92.0</td>\n",
       "      <td>83.0</td>\n",
       "      <td>25.65</td>\n",
       "      <td>...</td>\n",
       "      <td>16.520000</td>\n",
       "      <td>7.0</td>\n",
       "      <td>4</td>\n",
       "      <td>89</td>\n",
       "      <td>1</td>\n",
       "      <td>65</td>\n",
       "      <td>65</td>\n",
       "      <td>0</td>\n",
       "      <td>1</td>\n",
       "      <td>0</td>\n",
       "    </tr>\n",
       "  </tbody>\n",
       "</table>\n",
       "<p>5 rows × 21 columns</p>\n",
       "</div>"
      ],
      "text/plain": [
       "   referral_age  referral_exp_in_years  referral_preferred_city  \\\n",
       "0            28                    5.0                        1   \n",
       "1            26                    3.0                        3   \n",
       "2            23                    2.0                        2   \n",
       "3            29                    6.0                        0   \n",
       "4            26                    3.0                        2   \n",
       "\n",
       "   referral_current_salary  referral_10_th_marks  referral_12th_marks  \\\n",
       "0                      106                  89.0                   72   \n",
       "1                       65                  63.0                   77   \n",
       "2                       45                  92.0                   85   \n",
       "3                      126                  60.0                   95   \n",
       "4                       65                  92.0                   70   \n",
       "\n",
       "   referral_graduation_marks  referral_post_grad_marks  referral_expected_sal  \\\n",
       "0                       89.0                      83.0                  123.0   \n",
       "1                       63.0                      85.0                   83.0   \n",
       "2                       92.0                      72.0                   62.0   \n",
       "3                       60.0                      67.0                  146.0   \n",
       "4                       92.0                      92.0                   83.0   \n",
       "\n",
       "   referral_aptitude_numerical_score  ...  referral_aptitude_reasoning_score  \\\n",
       "0                              10.00  ...                          23.314248   \n",
       "1                               6.09  ...                          20.870000   \n",
       "2                              41.74  ...                          40.000000   \n",
       "3                              31.30  ...                          23.480000   \n",
       "4                              25.65  ...                          16.520000   \n",
       "\n",
       "   referral_Management_Interview_score  referral_HR_Interview_score  \\\n",
       "0                                 10.0                            3   \n",
       "1                                 10.0                           10   \n",
       "2                                  2.0                            1   \n",
       "3                                  9.0                            3   \n",
       "4                                  7.0                            4   \n",
       "\n",
       "   Salary offered  Joined  referral_current_salary1  referral_current_salary2  \\\n",
       "0             141       1                       106                       106   \n",
       "1              80       1                        65                        65   \n",
       "2              60       0                        45                        45   \n",
       "3             142       1                       126                       126   \n",
       "4              89       1                        65                        65   \n",
       "\n",
       "   referral_gender_Male  Emp_Salary_Grade_EL0  Emp_Salary_Grade_ML0  \n",
       "0                     1                     1                     0  \n",
       "1                     1                     0                     1  \n",
       "2                     1                     1                     0  \n",
       "3                     1                     0                     1  \n",
       "4                     0                     1                     0  \n",
       "\n",
       "[5 rows x 21 columns]"
      ]
     },
     "execution_count": 84,
     "metadata": {},
     "output_type": "execute_result"
    }
   ],
   "source": [
    "df_new.head()"
   ]
  },
  {
   "cell_type": "markdown",
   "metadata": {},
   "source": [
    " #### Method 2"
   ]
  },
  {
   "cell_type": "code",
   "execution_count": 85,
   "metadata": {},
   "outputs": [],
   "source": [
    "from sklearn.preprocessing import OneHotEncoder"
   ]
  },
  {
   "cell_type": "code",
   "execution_count": 86,
   "metadata": {},
   "outputs": [],
   "source": [
    "df['referral_gender']=df['referral_gender'].astype('category')\n",
    "df['Emp_Salary_Grade']=df['Emp_Salary_Grade'].astype('category')"
   ]
  },
  {
   "cell_type": "code",
   "execution_count": 87,
   "metadata": {},
   "outputs": [
    {
     "data": {
      "text/plain": [
       "Index(['Female', 'Male'], dtype='object')"
      ]
     },
     "execution_count": 87,
     "metadata": {},
     "output_type": "execute_result"
    }
   ],
   "source": [
    "df.referral_gender.cat.categories"
   ]
  },
  {
   "cell_type": "code",
   "execution_count": 88,
   "metadata": {},
   "outputs": [
    {
     "data": {
      "text/plain": [
       "Index(['EE0', 'EL0', 'ML0'], dtype='object')"
      ]
     },
     "execution_count": 88,
     "metadata": {},
     "output_type": "execute_result"
    }
   ],
   "source": [
    "df.Emp_Salary_Grade.cat.categories"
   ]
  },
  {
   "cell_type": "code",
   "execution_count": 89,
   "metadata": {},
   "outputs": [],
   "source": [
    "df['referral_gender_new']=df.referral_gender.cat.codes\n",
    "#df['Emp_Salary_Grade_New']=df.Emp_Salary_Grade.cat.codes"
   ]
  },
  {
   "cell_type": "code",
   "execution_count": 90,
   "metadata": {},
   "outputs": [
    {
     "name": "stdout",
     "output_type": "stream",
     "text": [
      "<class 'pandas.core.frame.DataFrame'>\n",
      "RangeIndex: 499 entries, 0 to 498\n",
      "Data columns (total 21 columns):\n",
      " #   Column                               Non-Null Count  Dtype   \n",
      "---  ------                               --------------  -----   \n",
      " 0   referral_age                         499 non-null    int64   \n",
      " 1   referral_exp_in_years                499 non-null    float64 \n",
      " 2   referral_preferred_city              499 non-null    int8    \n",
      " 3   referral_current_salary              499 non-null    int64   \n",
      " 4   referral_10_th_marks                 499 non-null    float64 \n",
      " 5   referral_12th_marks                  499 non-null    int64   \n",
      " 6   referral_graduation_marks            499 non-null    float64 \n",
      " 7   referral_post_grad_marks             499 non-null    float64 \n",
      " 8   referral_gender                      499 non-null    category\n",
      " 9   referral_expected_sal                499 non-null    float64 \n",
      " 10  referral_aptitude_numerical_score    499 non-null    float64 \n",
      " 11  referral_aptitude_verbal_score       499 non-null    float64 \n",
      " 12  referral_aptitude_reasoning_score    499 non-null    float64 \n",
      " 13  referral_Management_Interview_score  499 non-null    float64 \n",
      " 14  referral_HR_Interview_score          499 non-null    int64   \n",
      " 15  Salary offered                       499 non-null    int64   \n",
      " 16  Emp_Salary_Grade                     499 non-null    category\n",
      " 17  Joined                               499 non-null    int64   \n",
      " 18  referral_current_salary1             499 non-null    int64   \n",
      " 19  referral_current_salary2             499 non-null    int64   \n",
      " 20  referral_gender_new                  499 non-null    int8    \n",
      "dtypes: category(2), float64(9), int64(8), int8(2)\n",
      "memory usage: 68.6 KB\n"
     ]
    }
   ],
   "source": [
    "df.info()"
   ]
  },
  {
   "cell_type": "code",
   "execution_count": 91,
   "metadata": {},
   "outputs": [],
   "source": [
    "oe= OneHotEncoder(handle_unknown='ignore')"
   ]
  },
  {
   "cell_type": "markdown",
   "metadata": {},
   "source": [
    "One hot encoding algorithm is an encoding system of Sci-kit learn library. One Hot Encoding is used to convert numerical categorical variables into binary vectors. Before implementing this algorithm. Make sure the categorical values must be label encoded as one hot encoding takes only numerical categorical values. "
   ]
  },
  {
   "cell_type": "code",
   "execution_count": 92,
   "metadata": {},
   "outputs": [],
   "source": [
    "encoded=oe.fit_transform(df[['referral_gender_new']])"
   ]
  },
  {
   "cell_type": "code",
   "execution_count": null,
   "metadata": {},
   "outputs": [],
   "source": []
  },
  {
   "cell_type": "code",
   "execution_count": 93,
   "metadata": {},
   "outputs": [],
   "source": [
    "df_encoded=pd.DataFrame(encoded.toarray())"
   ]
  },
  {
   "cell_type": "code",
   "execution_count": 94,
   "metadata": {},
   "outputs": [],
   "source": [
    "df_n=df.join(df_encoded)"
   ]
  },
  {
   "cell_type": "code",
   "execution_count": 95,
   "metadata": {},
   "outputs": [
    {
     "data": {
      "text/html": [
       "<div>\n",
       "<style scoped>\n",
       "    .dataframe tbody tr th:only-of-type {\n",
       "        vertical-align: middle;\n",
       "    }\n",
       "\n",
       "    .dataframe tbody tr th {\n",
       "        vertical-align: top;\n",
       "    }\n",
       "\n",
       "    .dataframe thead th {\n",
       "        text-align: right;\n",
       "    }\n",
       "</style>\n",
       "<table border=\"1\" class=\"dataframe\">\n",
       "  <thead>\n",
       "    <tr style=\"text-align: right;\">\n",
       "      <th></th>\n",
       "      <th>referral_age</th>\n",
       "      <th>referral_exp_in_years</th>\n",
       "      <th>referral_preferred_city</th>\n",
       "      <th>referral_current_salary</th>\n",
       "      <th>referral_10_th_marks</th>\n",
       "      <th>referral_12th_marks</th>\n",
       "      <th>referral_graduation_marks</th>\n",
       "      <th>referral_post_grad_marks</th>\n",
       "      <th>referral_gender</th>\n",
       "      <th>referral_expected_sal</th>\n",
       "      <th>...</th>\n",
       "      <th>referral_Management_Interview_score</th>\n",
       "      <th>referral_HR_Interview_score</th>\n",
       "      <th>Salary offered</th>\n",
       "      <th>Emp_Salary_Grade</th>\n",
       "      <th>Joined</th>\n",
       "      <th>referral_current_salary1</th>\n",
       "      <th>referral_current_salary2</th>\n",
       "      <th>referral_gender_new</th>\n",
       "      <th>0</th>\n",
       "      <th>1</th>\n",
       "    </tr>\n",
       "  </thead>\n",
       "  <tbody>\n",
       "    <tr>\n",
       "      <th>0</th>\n",
       "      <td>28</td>\n",
       "      <td>5.0</td>\n",
       "      <td>1</td>\n",
       "      <td>106</td>\n",
       "      <td>89.0</td>\n",
       "      <td>72</td>\n",
       "      <td>89.0</td>\n",
       "      <td>83.0</td>\n",
       "      <td>Male</td>\n",
       "      <td>123.0</td>\n",
       "      <td>...</td>\n",
       "      <td>10.0</td>\n",
       "      <td>3</td>\n",
       "      <td>141</td>\n",
       "      <td>EL0</td>\n",
       "      <td>1</td>\n",
       "      <td>106</td>\n",
       "      <td>106</td>\n",
       "      <td>1</td>\n",
       "      <td>0.0</td>\n",
       "      <td>1.0</td>\n",
       "    </tr>\n",
       "    <tr>\n",
       "      <th>1</th>\n",
       "      <td>26</td>\n",
       "      <td>3.0</td>\n",
       "      <td>3</td>\n",
       "      <td>65</td>\n",
       "      <td>63.0</td>\n",
       "      <td>77</td>\n",
       "      <td>63.0</td>\n",
       "      <td>85.0</td>\n",
       "      <td>Male</td>\n",
       "      <td>83.0</td>\n",
       "      <td>...</td>\n",
       "      <td>10.0</td>\n",
       "      <td>10</td>\n",
       "      <td>80</td>\n",
       "      <td>ML0</td>\n",
       "      <td>1</td>\n",
       "      <td>65</td>\n",
       "      <td>65</td>\n",
       "      <td>1</td>\n",
       "      <td>0.0</td>\n",
       "      <td>1.0</td>\n",
       "    </tr>\n",
       "    <tr>\n",
       "      <th>2</th>\n",
       "      <td>23</td>\n",
       "      <td>2.0</td>\n",
       "      <td>2</td>\n",
       "      <td>45</td>\n",
       "      <td>92.0</td>\n",
       "      <td>85</td>\n",
       "      <td>92.0</td>\n",
       "      <td>72.0</td>\n",
       "      <td>Male</td>\n",
       "      <td>62.0</td>\n",
       "      <td>...</td>\n",
       "      <td>2.0</td>\n",
       "      <td>1</td>\n",
       "      <td>60</td>\n",
       "      <td>EL0</td>\n",
       "      <td>0</td>\n",
       "      <td>45</td>\n",
       "      <td>45</td>\n",
       "      <td>1</td>\n",
       "      <td>0.0</td>\n",
       "      <td>1.0</td>\n",
       "    </tr>\n",
       "    <tr>\n",
       "      <th>3</th>\n",
       "      <td>29</td>\n",
       "      <td>6.0</td>\n",
       "      <td>0</td>\n",
       "      <td>126</td>\n",
       "      <td>60.0</td>\n",
       "      <td>95</td>\n",
       "      <td>60.0</td>\n",
       "      <td>67.0</td>\n",
       "      <td>Male</td>\n",
       "      <td>146.0</td>\n",
       "      <td>...</td>\n",
       "      <td>9.0</td>\n",
       "      <td>3</td>\n",
       "      <td>142</td>\n",
       "      <td>ML0</td>\n",
       "      <td>1</td>\n",
       "      <td>126</td>\n",
       "      <td>126</td>\n",
       "      <td>1</td>\n",
       "      <td>0.0</td>\n",
       "      <td>1.0</td>\n",
       "    </tr>\n",
       "    <tr>\n",
       "      <th>4</th>\n",
       "      <td>26</td>\n",
       "      <td>3.0</td>\n",
       "      <td>2</td>\n",
       "      <td>65</td>\n",
       "      <td>92.0</td>\n",
       "      <td>70</td>\n",
       "      <td>92.0</td>\n",
       "      <td>92.0</td>\n",
       "      <td>Female</td>\n",
       "      <td>83.0</td>\n",
       "      <td>...</td>\n",
       "      <td>7.0</td>\n",
       "      <td>4</td>\n",
       "      <td>89</td>\n",
       "      <td>EL0</td>\n",
       "      <td>1</td>\n",
       "      <td>65</td>\n",
       "      <td>65</td>\n",
       "      <td>0</td>\n",
       "      <td>1.0</td>\n",
       "      <td>0.0</td>\n",
       "    </tr>\n",
       "  </tbody>\n",
       "</table>\n",
       "<p>5 rows × 23 columns</p>\n",
       "</div>"
      ],
      "text/plain": [
       "   referral_age  referral_exp_in_years  referral_preferred_city  \\\n",
       "0            28                    5.0                        1   \n",
       "1            26                    3.0                        3   \n",
       "2            23                    2.0                        2   \n",
       "3            29                    6.0                        0   \n",
       "4            26                    3.0                        2   \n",
       "\n",
       "   referral_current_salary  referral_10_th_marks  referral_12th_marks  \\\n",
       "0                      106                  89.0                   72   \n",
       "1                       65                  63.0                   77   \n",
       "2                       45                  92.0                   85   \n",
       "3                      126                  60.0                   95   \n",
       "4                       65                  92.0                   70   \n",
       "\n",
       "   referral_graduation_marks  referral_post_grad_marks referral_gender  \\\n",
       "0                       89.0                      83.0            Male   \n",
       "1                       63.0                      85.0            Male   \n",
       "2                       92.0                      72.0            Male   \n",
       "3                       60.0                      67.0            Male   \n",
       "4                       92.0                      92.0          Female   \n",
       "\n",
       "   referral_expected_sal  ...  referral_Management_Interview_score  \\\n",
       "0                  123.0  ...                                 10.0   \n",
       "1                   83.0  ...                                 10.0   \n",
       "2                   62.0  ...                                  2.0   \n",
       "3                  146.0  ...                                  9.0   \n",
       "4                   83.0  ...                                  7.0   \n",
       "\n",
       "   referral_HR_Interview_score  Salary offered  Emp_Salary_Grade  Joined  \\\n",
       "0                            3             141               EL0       1   \n",
       "1                           10              80               ML0       1   \n",
       "2                            1              60               EL0       0   \n",
       "3                            3             142               ML0       1   \n",
       "4                            4              89               EL0       1   \n",
       "\n",
       "   referral_current_salary1 referral_current_salary2  referral_gender_new  \\\n",
       "0                       106                      106                    1   \n",
       "1                        65                       65                    1   \n",
       "2                        45                       45                    1   \n",
       "3                       126                      126                    1   \n",
       "4                        65                       65                    0   \n",
       "\n",
       "     0    1  \n",
       "0  0.0  1.0  \n",
       "1  0.0  1.0  \n",
       "2  0.0  1.0  \n",
       "3  0.0  1.0  \n",
       "4  1.0  0.0  \n",
       "\n",
       "[5 rows x 23 columns]"
      ]
     },
     "execution_count": 95,
     "metadata": {},
     "output_type": "execute_result"
    }
   ],
   "source": [
    "df_n.head()"
   ]
  },
  {
   "cell_type": "code",
   "execution_count": 96,
   "metadata": {},
   "outputs": [],
   "source": [
    "df_n.drop(columns=[0,1],inplace=True)"
   ]
  },
  {
   "cell_type": "code",
   "execution_count": 97,
   "metadata": {},
   "outputs": [
    {
     "data": {
      "text/html": [
       "<div>\n",
       "<style scoped>\n",
       "    .dataframe tbody tr th:only-of-type {\n",
       "        vertical-align: middle;\n",
       "    }\n",
       "\n",
       "    .dataframe tbody tr th {\n",
       "        vertical-align: top;\n",
       "    }\n",
       "\n",
       "    .dataframe thead th {\n",
       "        text-align: right;\n",
       "    }\n",
       "</style>\n",
       "<table border=\"1\" class=\"dataframe\">\n",
       "  <thead>\n",
       "    <tr style=\"text-align: right;\">\n",
       "      <th></th>\n",
       "      <th>referral_age</th>\n",
       "      <th>referral_exp_in_years</th>\n",
       "      <th>referral_preferred_city</th>\n",
       "      <th>referral_current_salary</th>\n",
       "      <th>referral_10_th_marks</th>\n",
       "      <th>referral_12th_marks</th>\n",
       "      <th>referral_graduation_marks</th>\n",
       "      <th>referral_post_grad_marks</th>\n",
       "      <th>referral_gender</th>\n",
       "      <th>referral_expected_sal</th>\n",
       "      <th>...</th>\n",
       "      <th>referral_aptitude_verbal_score</th>\n",
       "      <th>referral_aptitude_reasoning_score</th>\n",
       "      <th>referral_Management_Interview_score</th>\n",
       "      <th>referral_HR_Interview_score</th>\n",
       "      <th>Salary offered</th>\n",
       "      <th>Emp_Salary_Grade</th>\n",
       "      <th>Joined</th>\n",
       "      <th>referral_current_salary1</th>\n",
       "      <th>referral_current_salary2</th>\n",
       "      <th>referral_gender_new</th>\n",
       "    </tr>\n",
       "  </thead>\n",
       "  <tbody>\n",
       "    <tr>\n",
       "      <th>0</th>\n",
       "      <td>28</td>\n",
       "      <td>5.0</td>\n",
       "      <td>1</td>\n",
       "      <td>106</td>\n",
       "      <td>89.0</td>\n",
       "      <td>72</td>\n",
       "      <td>89.0</td>\n",
       "      <td>83.0</td>\n",
       "      <td>Male</td>\n",
       "      <td>123.0</td>\n",
       "      <td>...</td>\n",
       "      <td>33.04</td>\n",
       "      <td>23.314248</td>\n",
       "      <td>10.0</td>\n",
       "      <td>3</td>\n",
       "      <td>141</td>\n",
       "      <td>EL0</td>\n",
       "      <td>1</td>\n",
       "      <td>106</td>\n",
       "      <td>106</td>\n",
       "      <td>1</td>\n",
       "    </tr>\n",
       "    <tr>\n",
       "      <th>1</th>\n",
       "      <td>26</td>\n",
       "      <td>3.0</td>\n",
       "      <td>3</td>\n",
       "      <td>65</td>\n",
       "      <td>63.0</td>\n",
       "      <td>77</td>\n",
       "      <td>63.0</td>\n",
       "      <td>85.0</td>\n",
       "      <td>Male</td>\n",
       "      <td>83.0</td>\n",
       "      <td>...</td>\n",
       "      <td>27.39</td>\n",
       "      <td>20.870000</td>\n",
       "      <td>10.0</td>\n",
       "      <td>10</td>\n",
       "      <td>80</td>\n",
       "      <td>ML0</td>\n",
       "      <td>1</td>\n",
       "      <td>65</td>\n",
       "      <td>65</td>\n",
       "      <td>1</td>\n",
       "    </tr>\n",
       "    <tr>\n",
       "      <th>2</th>\n",
       "      <td>23</td>\n",
       "      <td>2.0</td>\n",
       "      <td>2</td>\n",
       "      <td>45</td>\n",
       "      <td>92.0</td>\n",
       "      <td>85</td>\n",
       "      <td>92.0</td>\n",
       "      <td>72.0</td>\n",
       "      <td>Male</td>\n",
       "      <td>62.0</td>\n",
       "      <td>...</td>\n",
       "      <td>2.61</td>\n",
       "      <td>40.000000</td>\n",
       "      <td>2.0</td>\n",
       "      <td>1</td>\n",
       "      <td>60</td>\n",
       "      <td>EL0</td>\n",
       "      <td>0</td>\n",
       "      <td>45</td>\n",
       "      <td>45</td>\n",
       "      <td>1</td>\n",
       "    </tr>\n",
       "    <tr>\n",
       "      <th>3</th>\n",
       "      <td>29</td>\n",
       "      <td>6.0</td>\n",
       "      <td>0</td>\n",
       "      <td>126</td>\n",
       "      <td>60.0</td>\n",
       "      <td>95</td>\n",
       "      <td>60.0</td>\n",
       "      <td>67.0</td>\n",
       "      <td>Male</td>\n",
       "      <td>146.0</td>\n",
       "      <td>...</td>\n",
       "      <td>9.13</td>\n",
       "      <td>23.480000</td>\n",
       "      <td>9.0</td>\n",
       "      <td>3</td>\n",
       "      <td>142</td>\n",
       "      <td>ML0</td>\n",
       "      <td>1</td>\n",
       "      <td>126</td>\n",
       "      <td>126</td>\n",
       "      <td>1</td>\n",
       "    </tr>\n",
       "    <tr>\n",
       "      <th>4</th>\n",
       "      <td>26</td>\n",
       "      <td>3.0</td>\n",
       "      <td>2</td>\n",
       "      <td>65</td>\n",
       "      <td>92.0</td>\n",
       "      <td>70</td>\n",
       "      <td>92.0</td>\n",
       "      <td>92.0</td>\n",
       "      <td>Female</td>\n",
       "      <td>83.0</td>\n",
       "      <td>...</td>\n",
       "      <td>30.43</td>\n",
       "      <td>16.520000</td>\n",
       "      <td>7.0</td>\n",
       "      <td>4</td>\n",
       "      <td>89</td>\n",
       "      <td>EL0</td>\n",
       "      <td>1</td>\n",
       "      <td>65</td>\n",
       "      <td>65</td>\n",
       "      <td>0</td>\n",
       "    </tr>\n",
       "  </tbody>\n",
       "</table>\n",
       "<p>5 rows × 21 columns</p>\n",
       "</div>"
      ],
      "text/plain": [
       "   referral_age  referral_exp_in_years  referral_preferred_city  \\\n",
       "0            28                    5.0                        1   \n",
       "1            26                    3.0                        3   \n",
       "2            23                    2.0                        2   \n",
       "3            29                    6.0                        0   \n",
       "4            26                    3.0                        2   \n",
       "\n",
       "   referral_current_salary  referral_10_th_marks  referral_12th_marks  \\\n",
       "0                      106                  89.0                   72   \n",
       "1                       65                  63.0                   77   \n",
       "2                       45                  92.0                   85   \n",
       "3                      126                  60.0                   95   \n",
       "4                       65                  92.0                   70   \n",
       "\n",
       "   referral_graduation_marks  referral_post_grad_marks referral_gender  \\\n",
       "0                       89.0                      83.0            Male   \n",
       "1                       63.0                      85.0            Male   \n",
       "2                       92.0                      72.0            Male   \n",
       "3                       60.0                      67.0            Male   \n",
       "4                       92.0                      92.0          Female   \n",
       "\n",
       "   referral_expected_sal  ...  referral_aptitude_verbal_score  \\\n",
       "0                  123.0  ...                           33.04   \n",
       "1                   83.0  ...                           27.39   \n",
       "2                   62.0  ...                            2.61   \n",
       "3                  146.0  ...                            9.13   \n",
       "4                   83.0  ...                           30.43   \n",
       "\n",
       "   referral_aptitude_reasoning_score  referral_Management_Interview_score  \\\n",
       "0                          23.314248                                 10.0   \n",
       "1                          20.870000                                 10.0   \n",
       "2                          40.000000                                  2.0   \n",
       "3                          23.480000                                  9.0   \n",
       "4                          16.520000                                  7.0   \n",
       "\n",
       "   referral_HR_Interview_score  Salary offered  Emp_Salary_Grade Joined  \\\n",
       "0                            3             141               EL0      1   \n",
       "1                           10              80               ML0      1   \n",
       "2                            1              60               EL0      0   \n",
       "3                            3             142               ML0      1   \n",
       "4                            4              89               EL0      1   \n",
       "\n",
       "   referral_current_salary1  referral_current_salary2  referral_gender_new  \n",
       "0                       106                       106                    1  \n",
       "1                        65                        65                    1  \n",
       "2                        45                        45                    1  \n",
       "3                       126                       126                    1  \n",
       "4                        65                        65                    0  \n",
       "\n",
       "[5 rows x 21 columns]"
      ]
     },
     "execution_count": 97,
     "metadata": {},
     "output_type": "execute_result"
    }
   ],
   "source": [
    "df_n.head()"
   ]
  },
  {
   "cell_type": "markdown",
   "metadata": {},
   "source": [
    "# Encoding and Scaling Using Pipeline"
   ]
  },
  {
   "cell_type": "code",
   "execution_count": 98,
   "metadata": {},
   "outputs": [],
   "source": [
    "from sklearn.pipeline import Pipeline\n",
    "from sklearn.compose import ColumnTransformer"
   ]
  },
  {
   "cell_type": "code",
   "execution_count": 120,
   "metadata": {},
   "outputs": [],
   "source": [
    "from sklearn.preprocessing import OneHotEncoder,LabelEncoder,StandardScaler"
   ]
  },
  {
   "cell_type": "code",
   "execution_count": 100,
   "metadata": {},
   "outputs": [
    {
     "name": "stdout",
     "output_type": "stream",
     "text": [
      "The scikit-learn version is 1.1.1.\n"
     ]
    }
   ],
   "source": [
    "print('The scikit-learn version is {}.'.format(sklearn.__version__))"
   ]
  },
  {
   "cell_type": "code",
   "execution_count": 153,
   "metadata": {},
   "outputs": [],
   "source": [
    "def data_pipeline(cols_label,cols_onehot,cols_std):\n",
    "    one_hot_pipeline=Pipeline([\n",
    "        ('one_hot_encoding',OneHotEncoder(handle_unknown='ignore'))\n",
    "    ])\n",
    "    \n",
    "    label_pipeline=Pipeline([\n",
    "        ('label_encoding',LabelEncoder())\n",
    "    ])\n",
    "    \n",
    "    stad_scalar_pipeline=Pipeline([\n",
    "        ('z_scalar',StandardScaler(with_mean=True, with_std=True))\n",
    "    ])\n",
    "    \n",
    "    transformer=ColumnTransformer([\n",
    "        ('oe',one_hot_pipeline,cols_onehot),\n",
    "        #('le',label_pipeline,cols_label),\n",
    "        ('zscore',stad_scalar_pipeline,cols_std)\n",
    "    ])\n",
    "    \n",
    "    full_pipeline=Pipeline([\n",
    "        ('transformer',transformer)\n",
    "    ])\n",
    "    \n",
    "    return full_pipeline"
   ]
  },
  {
   "cell_type": "code",
   "execution_count": 154,
   "metadata": {},
   "outputs": [
    {
     "name": "stdout",
     "output_type": "stream",
     "text": [
      "<class 'pandas.core.frame.DataFrame'>\n",
      "RangeIndex: 499 entries, 0 to 498\n",
      "Data columns (total 21 columns):\n",
      " #   Column                               Non-Null Count  Dtype   \n",
      "---  ------                               --------------  -----   \n",
      " 0   referral_age                         499 non-null    int64   \n",
      " 1   referral_exp_in_years                499 non-null    float64 \n",
      " 2   referral_preferred_city              499 non-null    int8    \n",
      " 3   referral_current_salary              499 non-null    int64   \n",
      " 4   referral_10_th_marks                 499 non-null    float64 \n",
      " 5   referral_12th_marks                  499 non-null    int64   \n",
      " 6   referral_graduation_marks            499 non-null    float64 \n",
      " 7   referral_post_grad_marks             499 non-null    float64 \n",
      " 8   referral_gender                      499 non-null    category\n",
      " 9   referral_expected_sal                499 non-null    float64 \n",
      " 10  referral_aptitude_numerical_score    499 non-null    float64 \n",
      " 11  referral_aptitude_verbal_score       499 non-null    float64 \n",
      " 12  referral_aptitude_reasoning_score    499 non-null    float64 \n",
      " 13  referral_Management_Interview_score  499 non-null    float64 \n",
      " 14  referral_HR_Interview_score          499 non-null    int64   \n",
      " 15  Salary offered                       499 non-null    int64   \n",
      " 16  Emp_Salary_Grade                     499 non-null    category\n",
      " 17  Joined                               499 non-null    int64   \n",
      " 18  referral_current_salary1             499 non-null    int64   \n",
      " 19  referral_current_salary2             499 non-null    int64   \n",
      " 20  referral_gender_new                  499 non-null    int8    \n",
      "dtypes: category(2), float64(9), int64(8), int8(2)\n",
      "memory usage: 68.6 KB\n"
     ]
    }
   ],
   "source": [
    "df.info()"
   ]
  },
  {
   "cell_type": "code",
   "execution_count": 155,
   "metadata": {},
   "outputs": [],
   "source": [
    "label_encode_col=['Emp_Salary_Grade']\n",
    "one_hot_encode_col=['referral_gender']\n",
    "scaling_cols=['referral_expected_sal','Salary offered','referral_current_salary']"
   ]
  },
  {
   "cell_type": "code",
   "execution_count": 156,
   "metadata": {},
   "outputs": [],
   "source": [
    "input_preprocessor = data_pipeline(label_encode_col,one_hot_encode_col,scaling_cols)"
   ]
  },
  {
   "cell_type": "code",
   "execution_count": 157,
   "metadata": {},
   "outputs": [],
   "source": [
    "df_trans=input_preprocessor.fit_transform(df)"
   ]
  },
  {
   "cell_type": "code",
   "execution_count": 159,
   "metadata": {},
   "outputs": [
    {
     "data": {
      "text/html": [
       "<div>\n",
       "<style scoped>\n",
       "    .dataframe tbody tr th:only-of-type {\n",
       "        vertical-align: middle;\n",
       "    }\n",
       "\n",
       "    .dataframe tbody tr th {\n",
       "        vertical-align: top;\n",
       "    }\n",
       "\n",
       "    .dataframe thead th {\n",
       "        text-align: right;\n",
       "    }\n",
       "</style>\n",
       "<table border=\"1\" class=\"dataframe\">\n",
       "  <thead>\n",
       "    <tr style=\"text-align: right;\">\n",
       "      <th></th>\n",
       "      <th>0</th>\n",
       "      <th>1</th>\n",
       "      <th>2</th>\n",
       "      <th>3</th>\n",
       "      <th>4</th>\n",
       "    </tr>\n",
       "  </thead>\n",
       "  <tbody>\n",
       "    <tr>\n",
       "      <th>0</th>\n",
       "      <td>0.0</td>\n",
       "      <td>1.0</td>\n",
       "      <td>0.244389</td>\n",
       "      <td>0.741797</td>\n",
       "      <td>0.518910</td>\n",
       "    </tr>\n",
       "    <tr>\n",
       "      <th>1</th>\n",
       "      <td>0.0</td>\n",
       "      <td>1.0</td>\n",
       "      <td>-0.438841</td>\n",
       "      <td>-0.418628</td>\n",
       "      <td>-0.503173</td>\n",
       "    </tr>\n",
       "    <tr>\n",
       "      <th>2</th>\n",
       "      <td>0.0</td>\n",
       "      <td>1.0</td>\n",
       "      <td>-0.797536</td>\n",
       "      <td>-0.799095</td>\n",
       "      <td>-1.001751</td>\n",
       "    </tr>\n",
       "    <tr>\n",
       "      <th>3</th>\n",
       "      <td>0.0</td>\n",
       "      <td>1.0</td>\n",
       "      <td>0.637245</td>\n",
       "      <td>0.760820</td>\n",
       "      <td>1.017487</td>\n",
       "    </tr>\n",
       "    <tr>\n",
       "      <th>4</th>\n",
       "      <td>1.0</td>\n",
       "      <td>0.0</td>\n",
       "      <td>-0.438841</td>\n",
       "      <td>-0.247418</td>\n",
       "      <td>-0.503173</td>\n",
       "    </tr>\n",
       "    <tr>\n",
       "      <th>...</th>\n",
       "      <td>...</td>\n",
       "      <td>...</td>\n",
       "      <td>...</td>\n",
       "      <td>...</td>\n",
       "      <td>...</td>\n",
       "    </tr>\n",
       "    <tr>\n",
       "      <th>494</th>\n",
       "      <td>0.0</td>\n",
       "      <td>1.0</td>\n",
       "      <td>-1.139151</td>\n",
       "      <td>-1.179563</td>\n",
       "      <td>-1.500328</td>\n",
       "    </tr>\n",
       "    <tr>\n",
       "      <th>495</th>\n",
       "      <td>1.0</td>\n",
       "      <td>0.0</td>\n",
       "      <td>-0.148468</td>\n",
       "      <td>-1.179563</td>\n",
       "      <td>-1.500328</td>\n",
       "    </tr>\n",
       "    <tr>\n",
       "      <th>496</th>\n",
       "      <td>0.0</td>\n",
       "      <td>1.0</td>\n",
       "      <td>1.559605</td>\n",
       "      <td>1.122264</td>\n",
       "      <td>1.516065</td>\n",
       "    </tr>\n",
       "    <tr>\n",
       "      <th>497</th>\n",
       "      <td>1.0</td>\n",
       "      <td>0.0</td>\n",
       "      <td>0.876376</td>\n",
       "      <td>1.065194</td>\n",
       "      <td>1.441278</td>\n",
       "    </tr>\n",
       "    <tr>\n",
       "      <th>498</th>\n",
       "      <td>1.0</td>\n",
       "      <td>0.0</td>\n",
       "      <td>1.559605</td>\n",
       "      <td>1.084217</td>\n",
       "      <td>1.466207</td>\n",
       "    </tr>\n",
       "  </tbody>\n",
       "</table>\n",
       "<p>499 rows × 5 columns</p>\n",
       "</div>"
      ],
      "text/plain": [
       "       0    1         2         3         4\n",
       "0    0.0  1.0  0.244389  0.741797  0.518910\n",
       "1    0.0  1.0 -0.438841 -0.418628 -0.503173\n",
       "2    0.0  1.0 -0.797536 -0.799095 -1.001751\n",
       "3    0.0  1.0  0.637245  0.760820  1.017487\n",
       "4    1.0  0.0 -0.438841 -0.247418 -0.503173\n",
       "..   ...  ...       ...       ...       ...\n",
       "494  0.0  1.0 -1.139151 -1.179563 -1.500328\n",
       "495  1.0  0.0 -0.148468 -1.179563 -1.500328\n",
       "496  0.0  1.0  1.559605  1.122264  1.516065\n",
       "497  1.0  0.0  0.876376  1.065194  1.441278\n",
       "498  1.0  0.0  1.559605  1.084217  1.466207\n",
       "\n",
       "[499 rows x 5 columns]"
      ]
     },
     "execution_count": 159,
     "metadata": {},
     "output_type": "execute_result"
    }
   ],
   "source": [
    "pd.DataFrame(df_trans)"
   ]
  },
  {
   "cell_type": "code",
   "execution_count": null,
   "metadata": {},
   "outputs": [],
   "source": []
  }
 ],
 "metadata": {
  "kernelspec": {
   "display_name": "Python 3 (ipykernel)",
   "language": "python",
   "name": "python3"
  },
  "language_info": {
   "codemirror_mode": {
    "name": "ipython",
    "version": 3
   },
   "file_extension": ".py",
   "mimetype": "text/x-python",
   "name": "python",
   "nbconvert_exporter": "python",
   "pygments_lexer": "ipython3",
   "version": "3.9.13"
  }
 },
 "nbformat": 4,
 "nbformat_minor": 2
}
